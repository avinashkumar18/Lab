{
  "nbformat": 4,
  "nbformat_minor": 0,
  "metadata": {
    "colab": {
      "name": "Clustering_Techniques.ipynb",
      "provenance": [],
      "collapsed_sections": [],
      "authorship_tag": "ABX9TyOyYnLc8Xd/vSItayQVZsbz",
      "include_colab_link": true
    },
    "kernelspec": {
      "name": "python3",
      "display_name": "Python 3"
    },
    "language_info": {
      "name": "python"
    }
  },
  "cells": [
    {
      "cell_type": "markdown",
      "metadata": {
        "id": "view-in-github",
        "colab_type": "text"
      },
      "source": [
        "<a href=\"https://colab.research.google.com/github/avinashkumar18/Lab/blob/main/MLT_Lab/Clustering_Techniques.ipynb\" target=\"_parent\"><img src=\"https://colab.research.google.com/assets/colab-badge.svg\" alt=\"Open In Colab\"/></a>"
      ]
    },
    {
      "cell_type": "markdown",
      "metadata": {
        "id": "0YP0S6drGTM7"
      },
      "source": [
        "[Github link](https://github.com/avinashkumar18/Lab/blob/main/MLT_Lab/Clustering_Techniques.ipynb)"
      ]
    },
    {
      "cell_type": "code",
      "metadata": {
        "id": "opUMLM84YHSt"
      },
      "source": [
        "import pandas as pd\n",
        "import seaborn as sn\n",
        "import matplotlib as plt\n",
        "%matplotlib inline"
      ],
      "execution_count": 1,
      "outputs": []
    },
    {
      "cell_type": "code",
      "metadata": {
        "id": "VvwMB5THcpNK"
      },
      "source": [
        "url = \"https://raw.githubusercontent.com/avinashkumar18/Lab/main/MLT_Lab/Salary_Data.csv\"\n",
        "df = pd.read_csv(url)"
      ],
      "execution_count": 2,
      "outputs": []
    },
    {
      "cell_type": "code",
      "metadata": {
        "colab": {
          "base_uri": "https://localhost:8080/",
          "height": 195
        },
        "id": "znin9RRydAfy",
        "outputId": "36f48ddb-9c02-46db-a4dc-92276f03d5d0"
      },
      "source": [
        "df.head()"
      ],
      "execution_count": 3,
      "outputs": [
        {
          "output_type": "execute_result",
          "data": {
            "text/html": [
              "<div>\n",
              "<style scoped>\n",
              "    .dataframe tbody tr th:only-of-type {\n",
              "        vertical-align: middle;\n",
              "    }\n",
              "\n",
              "    .dataframe tbody tr th {\n",
              "        vertical-align: top;\n",
              "    }\n",
              "\n",
              "    .dataframe thead th {\n",
              "        text-align: right;\n",
              "    }\n",
              "</style>\n",
              "<table border=\"1\" class=\"dataframe\">\n",
              "  <thead>\n",
              "    <tr style=\"text-align: right;\">\n",
              "      <th></th>\n",
              "      <th>age</th>\n",
              "      <th>income</th>\n",
              "    </tr>\n",
              "  </thead>\n",
              "  <tbody>\n",
              "    <tr>\n",
              "      <th>0</th>\n",
              "      <td>25</td>\n",
              "      <td>69343</td>\n",
              "    </tr>\n",
              "    <tr>\n",
              "      <th>1</th>\n",
              "      <td>40</td>\n",
              "      <td>39000</td>\n",
              "    </tr>\n",
              "    <tr>\n",
              "      <th>2</th>\n",
              "      <td>53</td>\n",
              "      <td>70000</td>\n",
              "    </tr>\n",
              "    <tr>\n",
              "      <th>3</th>\n",
              "      <td>32</td>\n",
              "      <td>69150</td>\n",
              "    </tr>\n",
              "    <tr>\n",
              "      <th>4</th>\n",
              "      <td>61</td>\n",
              "      <td>90000</td>\n",
              "    </tr>\n",
              "  </tbody>\n",
              "</table>\n",
              "</div>"
            ],
            "text/plain": [
              "   age  income\n",
              "0   25   69343\n",
              "1   40   39000\n",
              "2   53   70000\n",
              "3   32   69150\n",
              "4   61   90000"
            ]
          },
          "metadata": {
            "tags": []
          },
          "execution_count": 3
        }
      ]
    },
    {
      "cell_type": "code",
      "metadata": {
        "colab": {
          "base_uri": "https://localhost:8080/",
          "height": 415
        },
        "id": "84pWrBM7dI8m",
        "outputId": "d13f82da-e4b2-4427-c81e-1f447c1a81ca"
      },
      "source": [
        "# Scatter plot\n",
        "sn.lmplot(\"age\",\"income\", data = df, fit_reg=False, size=4)"
      ],
      "execution_count": 4,
      "outputs": [
        {
          "output_type": "stream",
          "text": [
            "/usr/local/lib/python3.7/dist-packages/seaborn/_decorators.py:43: FutureWarning: Pass the following variables as keyword args: x, y. From version 0.12, the only valid positional argument will be `data`, and passing other arguments without an explicit keyword will result in an error or misinterpretation.\n",
            "  FutureWarning\n",
            "/usr/local/lib/python3.7/dist-packages/seaborn/regression.py:580: UserWarning: The `size` parameter has been renamed to `height`; please update your code.\n",
            "  warnings.warn(msg, UserWarning)\n"
          ],
          "name": "stderr"
        },
        {
          "output_type": "execute_result",
          "data": {
            "text/plain": [
              "<seaborn.axisgrid.FacetGrid at 0x7f9bfc90c310>"
            ]
          },
          "metadata": {
            "tags": []
          },
          "execution_count": 4
        },
        {
          "output_type": "display_data",
          "data": {
            "image/png": "[encoded data removed]",
            "text/plain": [
              "<Figure size 288x288 with 1 Axes>"
            ]
          },
          "metadata": {
            "tags": [],
            "needs_background": "light"
          }
        }
      ]
    },
    {
      "cell_type": "code",
      "metadata": {
        "colab": {
          "base_uri": "https://localhost:8080/"
        },
        "id": "ge_GclvOeKlX",
        "outputId": "226e4236-2465-4c0b-f6ee-1431b52e79c3"
      },
      "source": [
        "#importing KMeans\n",
        "from sklearn.cluster import KMeans\n",
        "clusters = KMeans(3)\n",
        "clusters.fit(df)"
      ],
      "execution_count": 5,
      "outputs": [
        {
          "output_type": "execute_result",
          "data": {
            "text/plain": [
              "KMeans(algorithm='auto', copy_x=True, init='k-means++', max_iter=300,\n",
              "       n_clusters=3, n_init=10, n_jobs=None, precompute_distances='auto',\n",
              "       random_state=None, tol=0.0001, verbose=0)"
            ]
          },
          "metadata": {
            "tags": []
          },
          "execution_count": 5
        }
      ]
    },
    {
      "cell_type": "code",
      "metadata": {
        "id": "CFFVGdfGe4R_"
      },
      "source": [
        "#output of KMeans\n",
        "df[\"cluster_id\"] = clusters.labels_"
      ],
      "execution_count": 6,
      "outputs": []
    },
    {
      "cell_type": "code",
      "metadata": {
        "colab": {
          "base_uri": "https://localhost:8080/",
          "height": 343
        },
        "id": "NOVrohuif0CB",
        "outputId": "391bf8f1-cd2e-4675-9ef9-92dcdc2bef21"
      },
      "source": [
        "df[0:10]"
      ],
      "execution_count": 7,
      "outputs": [
        {
          "output_type": "execute_result",
          "data": {
            "text/html": [
              "<div>\n",
              "<style scoped>\n",
              "    .dataframe tbody tr th:only-of-type {\n",
              "        vertical-align: middle;\n",
              "    }\n",
              "\n",
              "    .dataframe tbody tr th {\n",
              "        vertical-align: top;\n",
              "    }\n",
              "\n",
              "    .dataframe thead th {\n",
              "        text-align: right;\n",
              "    }\n",
              "</style>\n",
              "<table border=\"1\" class=\"dataframe\">\n",
              "  <thead>\n",
              "    <tr style=\"text-align: right;\">\n",
              "      <th></th>\n",
              "      <th>age</th>\n",
              "      <th>income</th>\n",
              "      <th>cluster_id</th>\n",
              "    </tr>\n",
              "  </thead>\n",
              "  <tbody>\n",
              "    <tr>\n",
              "      <th>0</th>\n",
              "      <td>25</td>\n",
              "      <td>69343</td>\n",
              "      <td>2</td>\n",
              "    </tr>\n",
              "    <tr>\n",
              "      <th>1</th>\n",
              "      <td>40</td>\n",
              "      <td>39000</td>\n",
              "      <td>0</td>\n",
              "    </tr>\n",
              "    <tr>\n",
              "      <th>2</th>\n",
              "      <td>53</td>\n",
              "      <td>70000</td>\n",
              "      <td>2</td>\n",
              "    </tr>\n",
              "    <tr>\n",
              "      <th>3</th>\n",
              "      <td>32</td>\n",
              "      <td>69150</td>\n",
              "      <td>2</td>\n",
              "    </tr>\n",
              "    <tr>\n",
              "      <th>4</th>\n",
              "      <td>61</td>\n",
              "      <td>90000</td>\n",
              "      <td>1</td>\n",
              "    </tr>\n",
              "    <tr>\n",
              "      <th>5</th>\n",
              "      <td>54</td>\n",
              "      <td>69000</td>\n",
              "      <td>2</td>\n",
              "    </tr>\n",
              "    <tr>\n",
              "      <th>6</th>\n",
              "      <td>56</td>\n",
              "      <td>82000</td>\n",
              "      <td>1</td>\n",
              "    </tr>\n",
              "    <tr>\n",
              "      <th>7</th>\n",
              "      <td>41</td>\n",
              "      <td>46899</td>\n",
              "      <td>0</td>\n",
              "    </tr>\n",
              "    <tr>\n",
              "      <th>8</th>\n",
              "      <td>28</td>\n",
              "      <td>66205</td>\n",
              "      <td>2</td>\n",
              "    </tr>\n",
              "    <tr>\n",
              "      <th>9</th>\n",
              "      <td>59</td>\n",
              "      <td>76000</td>\n",
              "      <td>1</td>\n",
              "    </tr>\n",
              "  </tbody>\n",
              "</table>\n",
              "</div>"
            ],
            "text/plain": [
              "   age  income  cluster_id\n",
              "0   25   69343           2\n",
              "1   40   39000           0\n",
              "2   53   70000           2\n",
              "3   32   69150           2\n",
              "4   61   90000           1\n",
              "5   54   69000           2\n",
              "6   56   82000           1\n",
              "7   41   46899           0\n",
              "8   28   66205           2\n",
              "9   59   76000           1"
            ]
          },
          "metadata": {
            "tags": []
          },
          "execution_count": 7
        }
      ]
    },
    {
      "cell_type": "code",
      "metadata": {
        "colab": {
          "base_uri": "https://localhost:8080/"
        },
        "id": "fyU4mGBxf6b0",
        "outputId": "d3ad7ab1-d2e3-4462-f516-f7064f40aa53"
      },
      "source": [
        "# Scaling\n",
        "from sklearn.preprocessing import StandardScaler\n",
        "scaler = StandardScaler()\n",
        "scaled_df = scaler.fit_transform(df[[\"age\",\"income\"]])\n",
        "scaled_df"
      ],
      "execution_count": 8,
      "outputs": [
        {
          "output_type": "execute_result",
          "data": {
            "text/plain": [
              "array([[-1.58294052,  0.41411441],\n",
              "       [-0.32885032, -1.29233953],\n",
              "       [ 0.75802786,  0.45106331],\n",
              "       [-0.99769843,  0.40326032],\n",
              "       [ 1.42687597,  1.57583933],\n",
              "       [ 0.84163387,  0.3948245 ],\n",
              "       [ 1.0088459 ,  1.12592892],\n",
              "       [-0.24524431, -0.84810924],\n",
              "       [-1.33212248,  0.23763705],\n",
              "       [ 1.25966394,  0.78849611],\n",
              "       [ 0.92523988,  1.01345132],\n",
              "       [-1.66654654,  0.13865676],\n",
              "       [-1.24851647,  0.08691707],\n",
              "       [ 0.25639178, -1.29233953],\n",
              "       [ 0.08917975, -1.17361942],\n",
              "       [ 1.09245191,  1.29464532],\n",
              "       [ 0.17278576, -1.34857834],\n",
              "       [-0.16163829, -1.51729474],\n",
              "       [-0.57966836, -0.7918142 ],\n",
              "       [-1.16491046, -0.23893055],\n",
              "       [ 0.59081583,  0.1698693 ],\n",
              "       [-0.74688039, -0.97993299],\n",
              "       [-1.49933451, -0.3001746 ],\n",
              "       [-0.07803228, -1.62482333],\n",
              "       [-1.08130444,  0.44493328],\n",
              "       [-0.41245633, -1.29796341],\n",
              "       [ 1.17605793,  1.35088413],\n",
              "       [ 0.67442184, -0.16756351],\n",
              "       [ 1.34326995,  1.51960053],\n",
              "       [ 1.51048198,  1.46336173]])"
            ]
          },
          "metadata": {
            "tags": []
          },
          "execution_count": 8
        }
      ]
    },
    {
      "cell_type": "code",
      "metadata": {
        "colab": {
          "base_uri": "https://localhost:8080/",
          "height": 415
        },
        "id": "srptiuriiQwL",
        "outputId": "2131ad8f-c431-41f7-db62-a05fc3b6dbae"
      },
      "source": [
        "# plotting for new values\n",
        "markers = ['+','^','.']\n",
        "sn.lmplot(\"age\",\"income\", data = df, hue = \"cluster_id\", markers = markers, fit_reg=False, size=4)"
      ],
      "execution_count": 9,
      "outputs": [
        {
          "output_type": "stream",
          "text": [
            "/usr/local/lib/python3.7/dist-packages/seaborn/_decorators.py:43: FutureWarning: Pass the following variables as keyword args: x, y. From version 0.12, the only valid positional argument will be `data`, and passing other arguments without an explicit keyword will result in an error or misinterpretation.\n",
            "  FutureWarning\n",
            "/usr/local/lib/python3.7/dist-packages/seaborn/regression.py:580: UserWarning: The `size` parameter has been renamed to `height`; please update your code.\n",
            "  warnings.warn(msg, UserWarning)\n"
          ],
          "name": "stderr"
        },
        {
          "output_type": "execute_result",
          "data": {
            "text/plain": [
              "<seaborn.axisgrid.FacetGrid at 0x7f9bdb505e50>"
            ]
          },
          "metadata": {
            "tags": []
          },
          "execution_count": 9
        },
        {
          "output_type": "display_data",
          "data": {
            "image/png": "[encoded data removed]",
            "text/plain": [
              "<Figure size 344.375x288 with 1 Axes>"
            ]
          },
          "metadata": {
            "tags": [],
            "needs_background": "light"
          }
        }
      ]
    },
    {
      "cell_type": "code",
      "metadata": {
        "colab": {
          "base_uri": "https://localhost:8080/"
        },
        "id": "YuCAXmMJhemx",
        "outputId": "6f79138c-41ce-4589-fcf3-b34eceb9fb72"
      },
      "source": [
        "# clustering again\n",
        "clusters_new=KMeans(3)\n",
        "clusters_new.fit(scaled_df)"
      ],
      "execution_count": 10,
      "outputs": [
        {
          "output_type": "execute_result",
          "data": {
            "text/plain": [
              "KMeans(algorithm='auto', copy_x=True, init='k-means++', max_iter=300,\n",
              "       n_clusters=3, n_init=10, n_jobs=None, precompute_distances='auto',\n",
              "       random_state=None, tol=0.0001, verbose=0)"
            ]
          },
          "metadata": {
            "tags": []
          },
          "execution_count": 10
        }
      ]
    },
    {
      "cell_type": "code",
      "metadata": {
        "id": "rs7vOoXSjpyE"
      },
      "source": [
        "df[\"cluster_id_new\"] = clusters_new.labels_"
      ],
      "execution_count": 11,
      "outputs": []
    },
    {
      "cell_type": "code",
      "metadata": {
        "colab": {
          "base_uri": "https://localhost:8080/",
          "height": 415
        },
        "id": "Zgf0g1Xbi3WJ",
        "outputId": "8a8dc40a-c2c7-420b-a4c1-a6b435dd3c8b"
      },
      "source": [
        "# plotting for new values\n",
        "markers = ['+','^','.']\n",
        "sn.lmplot(\"age\",\"income\", data = df, hue = \"cluster_id_new\", markers = markers, fit_reg=False, size=4)"
      ],
      "execution_count": 12,
      "outputs": [
        {
          "output_type": "stream",
          "text": [
            "/usr/local/lib/python3.7/dist-packages/seaborn/_decorators.py:43: FutureWarning: Pass the following variables as keyword args: x, y. From version 0.12, the only valid positional argument will be `data`, and passing other arguments without an explicit keyword will result in an error or misinterpretation.\n",
            "  FutureWarning\n",
            "/usr/local/lib/python3.7/dist-packages/seaborn/regression.py:580: UserWarning: The `size` parameter has been renamed to `height`; please update your code.\n",
            "  warnings.warn(msg, UserWarning)\n"
          ],
          "name": "stderr"
        },
        {
          "output_type": "execute_result",
          "data": {
            "text/plain": [
              "<seaborn.axisgrid.FacetGrid at 0x7f9bda218c10>"
            ]
          },
          "metadata": {
            "tags": []
          },
          "execution_count": 12
        },
        {
          "output_type": "display_data",
          "data": {
            "image/png": "[encoded data removed]",
            "text/plain": [
              "<Figure size 370x288 with 1 Axes>"
            ]
          },
          "metadata": {
            "tags": [],
            "needs_background": "light"
          }
        }
      ]
    },
    {
      "cell_type": "code",
      "metadata": {
        "id": "eZevJDD2k0Tb"
      },
      "source": [
        "data = pd.read_csv(\"https://raw.githubusercontent.com/avinashkumar18/Lab/main/MLT_Lab/bev.csv\")"
      ],
      "execution_count": 13,
      "outputs": []
    },
    {
      "cell_type": "code",
      "metadata": {
        "colab": {
          "base_uri": "https://localhost:8080/",
          "height": 343
        },
        "id": "vzPIeOVMmh46",
        "outputId": "4772b2bb-0c6f-4c7f-ed94-0b3e740682b1"
      },
      "source": [
        "data.head(10)"
      ],
      "execution_count": 14,
      "outputs": [
        {
          "output_type": "execute_result",
          "data": {
            "text/html": [
              "<div>\n",
              "<style scoped>\n",
              "    .dataframe tbody tr th:only-of-type {\n",
              "        vertical-align: middle;\n",
              "    }\n",
              "\n",
              "    .dataframe tbody tr th {\n",
              "        vertical-align: top;\n",
              "    }\n",
              "\n",
              "    .dataframe thead th {\n",
              "        text-align: right;\n",
              "    }\n",
              "</style>\n",
              "<table border=\"1\" class=\"dataframe\">\n",
              "  <thead>\n",
              "    <tr style=\"text-align: right;\">\n",
              "      <th></th>\n",
              "      <th>Name</th>\n",
              "      <th>Potassium</th>\n",
              "      <th>Sodium</th>\n",
              "      <th>Caffeine</th>\n",
              "      <th>Cost</th>\n",
              "    </tr>\n",
              "  </thead>\n",
              "  <tbody>\n",
              "    <tr>\n",
              "      <th>0</th>\n",
              "      <td>new_england_coffee</td>\n",
              "      <td>144</td>\n",
              "      <td>15</td>\n",
              "      <td>4.7</td>\n",
              "      <td>0.43</td>\n",
              "    </tr>\n",
              "    <tr>\n",
              "      <th>1</th>\n",
              "      <td>post_alley_blend</td>\n",
              "      <td>151</td>\n",
              "      <td>19</td>\n",
              "      <td>4.9</td>\n",
              "      <td>0.43</td>\n",
              "    </tr>\n",
              "    <tr>\n",
              "      <th>2</th>\n",
              "      <td>stumpdown_coffee</td>\n",
              "      <td>157</td>\n",
              "      <td>15</td>\n",
              "      <td>0.9</td>\n",
              "      <td>0.48</td>\n",
              "    </tr>\n",
              "    <tr>\n",
              "      <th>3</th>\n",
              "      <td>bizzy_organic_coffee</td>\n",
              "      <td>170</td>\n",
              "      <td>7</td>\n",
              "      <td>5.2</td>\n",
              "      <td>0.73</td>\n",
              "    </tr>\n",
              "    <tr>\n",
              "      <th>4</th>\n",
              "      <td>indian_bean</td>\n",
              "      <td>152</td>\n",
              "      <td>11</td>\n",
              "      <td>5.0</td>\n",
              "      <td>0.77</td>\n",
              "    </tr>\n",
              "    <tr>\n",
              "      <th>5</th>\n",
              "      <td>jacobs_coffee</td>\n",
              "      <td>145</td>\n",
              "      <td>23</td>\n",
              "      <td>4.6</td>\n",
              "      <td>0.28</td>\n",
              "    </tr>\n",
              "    <tr>\n",
              "      <th>6</th>\n",
              "      <td>grounds_hounds_coffee</td>\n",
              "      <td>175</td>\n",
              "      <td>24</td>\n",
              "      <td>5.5</td>\n",
              "      <td>0.40</td>\n",
              "    </tr>\n",
              "    <tr>\n",
              "      <th>7</th>\n",
              "      <td>la_columbe_corisca</td>\n",
              "      <td>149</td>\n",
              "      <td>27</td>\n",
              "      <td>4.7</td>\n",
              "      <td>0.42</td>\n",
              "    </tr>\n",
              "    <tr>\n",
              "      <th>8</th>\n",
              "      <td>lavazza_super_crema</td>\n",
              "      <td>99</td>\n",
              "      <td>10</td>\n",
              "      <td>4.3</td>\n",
              "      <td>0.43</td>\n",
              "    </tr>\n",
              "    <tr>\n",
              "      <th>9</th>\n",
              "      <td>mount_hagen</td>\n",
              "      <td>113</td>\n",
              "      <td>8</td>\n",
              "      <td>3.7</td>\n",
              "      <td>0.40</td>\n",
              "    </tr>\n",
              "  </tbody>\n",
              "</table>\n",
              "</div>"
            ],
            "text/plain": [
              "                    Name  Potassium  Sodium  Caffeine  Cost\n",
              "0     new_england_coffee        144      15       4.7  0.43\n",
              "1       post_alley_blend        151      19       4.9  0.43\n",
              "2       stumpdown_coffee        157      15       0.9  0.48\n",
              "3   bizzy_organic_coffee        170       7       5.2  0.73\n",
              "4            indian_bean        152      11       5.0  0.77\n",
              "5          jacobs_coffee        145      23       4.6  0.28\n",
              "6  grounds_hounds_coffee        175      24       5.5  0.40\n",
              "7     la_columbe_corisca        149      27       4.7  0.42\n",
              "8    lavazza_super_crema         99      10       4.3  0.43\n",
              "9            mount_hagen        113       8       3.7  0.40"
            ]
          },
          "metadata": {
            "tags": []
          },
          "execution_count": 14
        }
      ]
    },
    {
      "cell_type": "code",
      "metadata": {
        "colab": {
          "base_uri": "https://localhost:8080/",
          "height": 366
        },
        "id": "OfgYvhYSb1Uf",
        "outputId": "24e5c68f-ff75-4937-9911-e99b8d99057f"
      },
      "source": [
        "sn.lmplot(\"Name\",\"Cost\", data = data, hue=\"Caffeine\", fit_reg=False, height=5,aspect=5)"
      ],
      "execution_count": 15,
      "outputs": [
        {
          "output_type": "stream",
          "text": [
            "/usr/local/lib/python3.7/dist-packages/seaborn/_decorators.py:43: FutureWarning: Pass the following variables as keyword args: x, y. From version 0.12, the only valid positional argument will be `data`, and passing other arguments without an explicit keyword will result in an error or misinterpretation.\n",
            "  FutureWarning\n"
          ],
          "name": "stderr"
        },
        {
          "output_type": "execute_result",
          "data": {
            "text/plain": [
              "<seaborn.axisgrid.FacetGrid at 0x7f9bda13cc10>"
            ]
          },
          "metadata": {
            "tags": []
          },
          "execution_count": 15
        },
        {
          "output_type": "display_data",
          "data": {
            "image/png": "[encoded data removed]",
            "text/plain": [
              "<Figure size 1852x360 with 1 Axes>"
            ]
          },
          "metadata": {
            "tags": [],
            "needs_background": "light"
          }
        }
      ]
    },
    {
      "cell_type": "code",
      "metadata": {
        "colab": {
          "base_uri": "https://localhost:8080/",
          "height": 487
        },
        "id": "9aKOLhBNiSDK",
        "outputId": "f0cec459-df43-493d-bf57-597bea57ed6b"
      },
      "source": [
        "sn.lmplot(\"Caffeine\",\"Cost\", data = data, fit_reg=False, size=5)"
      ],
      "execution_count": 16,
      "outputs": [
        {
          "output_type": "stream",
          "text": [
            "/usr/local/lib/python3.7/dist-packages/seaborn/_decorators.py:43: FutureWarning: Pass the following variables as keyword args: x, y. From version 0.12, the only valid positional argument will be `data`, and passing other arguments without an explicit keyword will result in an error or misinterpretation.\n",
            "  FutureWarning\n",
            "/usr/local/lib/python3.7/dist-packages/seaborn/regression.py:580: UserWarning: The `size` parameter has been renamed to `height`; please update your code.\n",
            "  warnings.warn(msg, UserWarning)\n"
          ],
          "name": "stderr"
        },
        {
          "output_type": "execute_result",
          "data": {
            "text/plain": [
              "<seaborn.axisgrid.FacetGrid at 0x7f9bda04e750>"
            ]
          },
          "metadata": {
            "tags": []
          },
          "execution_count": 16
        },
        {
          "output_type": "display_data",
          "data": {
            "image/png": "[encoded data removed]",
            "text/plain": [
              "<Figure size 360x360 with 1 Axes>"
            ]
          },
          "metadata": {
            "tags": [],
            "needs_background": "light"
          }
        }
      ]
    },
    {
      "cell_type": "code",
      "metadata": {
        "id": "WVSriR4pccpz"
      },
      "source": [
        "# Scaling\n",
        "from sklearn.preprocessing import StandardScaler\n",
        "bev_scaler = StandardScaler()\n",
        "bev_df = bev_scaler.fit_transform(data[[\"Potassium\", \"Sodium\", \"Caffeine\",\t\"Cost\"]])"
      ],
      "execution_count": 17,
      "outputs": []
    },
    {
      "cell_type": "code",
      "metadata": {
        "colab": {
          "base_uri": "https://localhost:8080/"
        },
        "id": "CCqTLu5_gOg3",
        "outputId": "8437ba8d-f729-41af-bca7-ba4ff6a92bed"
      },
      "source": [
        "bev_df"
      ],
      "execution_count": 18,
      "outputs": [
        {
          "output_type": "execute_result",
          "data": {
            "text/plain": [
              "array([[ 0.38791334,  0.00779468,  0.43380786, -0.45682969],\n",
              "       [ 0.6250656 ,  0.63136906,  0.62241997, -0.45682969],\n",
              "       [ 0.82833896,  0.00779468, -3.14982226, -0.10269815],\n",
              "       [ 1.26876459, -1.23935408,  0.90533814,  1.66795955],\n",
              "       [ 0.65894449, -0.6157797 ,  0.71672602,  1.95126478],\n",
              "       [ 0.42179223,  1.25494344,  0.3395018 , -1.5192243 ],\n",
              "       [ 1.43815906,  1.41083704,  1.1882563 , -0.66930861],\n",
              "       [ 0.55730781,  1.87851782,  0.43380786, -0.52765599],\n",
              "       [-1.1366369 , -0.7716733 ,  0.05658363, -0.45682969],\n",
              "       [-0.66233238, -1.08346049, -0.5092527 , -0.66930861],\n",
              "       [ 0.25239776,  0.47547547,  0.3395018 , -0.38600338],\n",
              "       [-1.03500022,  0.00779468, -0.13202848, -0.24435076],\n",
              "       [ 0.08300329, -0.6157797 , -0.03772242,  0.03895447],\n",
              "       [ 0.59118671,  0.63136906,  0.43380786,  1.88043848],\n",
              "       [ 0.55730781, -1.39524768,  0.71672602,  2.0929174 ],\n",
              "       [-2.18688263,  0.00779468, -1.82953748, -0.81096123],\n",
              "       [ 0.21851887,  0.63136906,  0.15088969, -0.45682969],\n",
              "       [ 0.38791334,  1.41083704,  0.62241997, -0.45682969],\n",
              "       [-2.05136705, -1.39524768, -1.26370115, -0.24435076],\n",
              "       [-1.20439469, -1.23935408, -0.03772242, -0.17352445]])"
            ]
          },
          "metadata": {
            "tags": []
          },
          "execution_count": 18
        }
      ]
    },
    {
      "cell_type": "code",
      "metadata": {
        "id": "pD7QY0I1gXrx"
      },
      "source": [
        "# KMeans clustering\n",
        "from sklearn.cluster import KMeans\n",
        "bev_clusters=KMeans(3)\n",
        "bev_clusters.fit(bev_df)\n",
        "data[\"bev_cluster_id\"] = bev_clusters.labels_"
      ],
      "execution_count": 19,
      "outputs": []
    },
    {
      "cell_type": "code",
      "metadata": {
        "colab": {
          "base_uri": "https://localhost:8080/",
          "height": 454
        },
        "id": "W7DQnuuDgxwz",
        "outputId": "883c5703-40d0-4dc9-8b23-cd93d6a26769"
      },
      "source": [
        "# plotting for new values\n",
        "markers = ['+','^','.']\n",
        "sn.lmplot(\"Caffeine\",\"Cost\", data = data, hue = \"bev_cluster_id\", markers = markers, fit_reg=False, height=5)"
      ],
      "execution_count": 20,
      "outputs": [
        {
          "output_type": "stream",
          "text": [
            "/usr/local/lib/python3.7/dist-packages/seaborn/_decorators.py:43: FutureWarning: Pass the following variables as keyword args: x, y. From version 0.12, the only valid positional argument will be `data`, and passing other arguments without an explicit keyword will result in an error or misinterpretation.\n",
            "  FutureWarning\n"
          ],
          "name": "stderr"
        },
        {
          "output_type": "execute_result",
          "data": {
            "text/plain": [
              "<seaborn.axisgrid.FacetGrid at 0x7f9bda123c90>"
            ]
          },
          "metadata": {
            "tags": []
          },
          "execution_count": 20
        },
        {
          "output_type": "display_data",
          "data": {
            "image/png": "[encoded data removed]",
            "text/plain": [
              "<Figure size 439.625x360 with 1 Axes>"
            ]
          },
          "metadata": {
            "tags": [],
            "needs_background": "light"
          }
        }
      ]
    },
    {
      "cell_type": "code",
      "metadata": {
        "colab": {
          "base_uri": "https://localhost:8080/"
        },
        "id": "Ut2QXbI6hEEK",
        "outputId": "8155b45e-1000-4da6-b54a-3b5f5559d04e"
      },
      "source": [
        "for x in range(3):\n",
        "  print(data[data.bev_cluster_id == x],\"\\n\")\n"
      ],
      "execution_count": 21,
      "outputs": [
        {
          "output_type": "stream",
          "text": [
            "                     Name  Potassium  Sodium  Caffeine  Cost  bev_cluster_id\n",
            "3    bizzy_organic_coffee        170       7       5.2  0.73               0\n",
            "4             indian_bean        152      11       5.0  0.77               0\n",
            "13  green_mountain_coffee        150      19       4.7  0.76               0\n",
            "14            koffee_cuit        149       6       5.0  0.79               0 \n",
            "\n",
            "                     Name  Potassium  Sodium  Caffeine  Cost  bev_cluster_id\n",
            "0      new_england_coffee        144      15       4.7  0.43               1\n",
            "1        post_alley_blend        151      19       4.9  0.43               1\n",
            "5           jacobs_coffee        145      23       4.6  0.28               1\n",
            "6   grounds_hounds_coffee        175      24       5.5  0.40               1\n",
            "7      la_columbe_corisca        149      27       4.7  0.42               1\n",
            "10         red_bay_coffee        140      18       4.6  0.44               1\n",
            "16  irish_hazelnut_coffee        139      19       4.4  0.43               1\n",
            "17         cremoso_coffee        144      24       4.9  0.43               1 \n",
            "\n",
            "                   Name  Potassium  Sodium  Caffeine  Cost  bev_cluster_id\n",
            "2      stumpdown_coffee        157      15       0.9  0.48               2\n",
            "8   lavazza_super_crema         99      10       4.3  0.43               2\n",
            "9           mount_hagen        113       8       3.7  0.40               2\n",
            "11   peerless_wholebean        102      15       4.1  0.46               2\n",
            "12  stone_street_coffee        135      11       4.2  0.50               2\n",
            "15       caribou_coffee         68      15       2.3  0.38               2\n",
            "18      davidoff_coffee         72       6       2.9  0.46               2\n",
            "19            js_coffee         97       7       4.2  0.47               2 \n",
            "\n"
          ],
          "name": "stdout"
        }
      ]
    },
    {
      "cell_type": "code",
      "metadata": {
        "id": "sdUZg4zNjSm6"
      },
      "source": [
        "# Agglomorative clustering\n",
        "from sklearn.cluster import AgglomerativeClustering\n",
        "bev_agg = AgglomerativeClustering(3)\n",
        "bev_agg.fit(bev_df)\n",
        "data[\"bev_cluster_id_agg\"] = bev_agg.labels_"
      ],
      "execution_count": 22,
      "outputs": []
    },
    {
      "cell_type": "code",
      "metadata": {
        "colab": {
          "base_uri": "https://localhost:8080/",
          "height": 454
        },
        "id": "O75gJ9xgk0Gt",
        "outputId": "9eb0ad90-f1a5-4478-c834-9406a70d2f93"
      },
      "source": [
        "markers = ['+','^','.',]\n",
        "sn.lmplot(\"Caffeine\",\"Cost\", data = data, hue = \"bev_cluster_id_agg\", markers = markers, fit_reg=False, height=5)"
      ],
      "execution_count": 23,
      "outputs": [
        {
          "output_type": "stream",
          "text": [
            "/usr/local/lib/python3.7/dist-packages/seaborn/_decorators.py:43: FutureWarning: Pass the following variables as keyword args: x, y. From version 0.12, the only valid positional argument will be `data`, and passing other arguments without an explicit keyword will result in an error or misinterpretation.\n",
            "  FutureWarning\n"
          ],
          "name": "stderr"
        },
        {
          "output_type": "execute_result",
          "data": {
            "text/plain": [
              "<seaborn.axisgrid.FacetGrid at 0x7f9bd9f5b1d0>"
            ]
          },
          "metadata": {
            "tags": []
          },
          "execution_count": 23
        },
        {
          "output_type": "display_data",
          "data": {
            "image/png": "[encoded data removed]",
            "text/plain": [
              "<Figure size 463.5x360 with 1 Axes>"
            ]
          },
          "metadata": {
            "tags": [],
            "needs_background": "light"
          }
        }
      ]
    },
    {
      "cell_type": "code",
      "metadata": {
        "colab": {
          "base_uri": "https://localhost:8080/"
        },
        "id": "-Ocad6YJk4K8",
        "outputId": "e41888de-b84a-48bc-e429-056218fb6a2b"
      },
      "source": [
        "for x in range(3):\n",
        "  print(data[data.bev_cluster_id_agg == x],\"\\n\")"
      ],
      "execution_count": 24,
      "outputs": [
        {
          "output_type": "stream",
          "text": [
            "                   Name  Potassium  ...  bev_cluster_id  bev_cluster_id_agg\n",
            "2      stumpdown_coffee        157  ...               2                   0\n",
            "8   lavazza_super_crema         99  ...               2                   0\n",
            "9           mount_hagen        113  ...               2                   0\n",
            "11   peerless_wholebean        102  ...               2                   0\n",
            "12  stone_street_coffee        135  ...               2                   0\n",
            "15       caribou_coffee         68  ...               2                   0\n",
            "18      davidoff_coffee         72  ...               2                   0\n",
            "19            js_coffee         97  ...               2                   0\n",
            "\n",
            "[8 rows x 7 columns] \n",
            "\n",
            "                     Name  Potassium  ...  bev_cluster_id  bev_cluster_id_agg\n",
            "0      new_england_coffee        144  ...               1                   1\n",
            "1        post_alley_blend        151  ...               1                   1\n",
            "5           jacobs_coffee        145  ...               1                   1\n",
            "6   grounds_hounds_coffee        175  ...               1                   1\n",
            "7      la_columbe_corisca        149  ...               1                   1\n",
            "10         red_bay_coffee        140  ...               1                   1\n",
            "16  irish_hazelnut_coffee        139  ...               1                   1\n",
            "17         cremoso_coffee        144  ...               1                   1\n",
            "\n",
            "[8 rows x 7 columns] \n",
            "\n",
            "                     Name  Potassium  ...  bev_cluster_id  bev_cluster_id_agg\n",
            "3    bizzy_organic_coffee        170  ...               0                   2\n",
            "4             indian_bean        152  ...               0                   2\n",
            "13  green_mountain_coffee        150  ...               0                   2\n",
            "14            koffee_cuit        149  ...               0                   2\n",
            "\n",
            "[4 rows x 7 columns] \n",
            "\n"
          ],
          "name": "stdout"
        }
      ]
    },
    {
      "cell_type": "markdown",
      "metadata": {
        "id": "G_AIg03-EKAs"
      },
      "source": [
        "**Inference**\n",
        "\n",
        "From the above two clustering techniques what I inferred is, although the clusters have same datapoints, the approach is quite different. As the KMeans uses centroids to cluster, while agglomorative uses top-down or bottom-up approach. For this dataset, we got same values in each cluster but moving forward, we need to test if this is same for different datasets."
      ]
    }
  ]
}