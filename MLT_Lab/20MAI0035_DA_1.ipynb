{
  "nbformat": 4,
  "nbformat_minor": 0,
  "metadata": {
    "colab": {
      "name": "20MAI0035_DA_1.ipynb",
      "provenance": [],
      "collapsed_sections": [],
      "authorship_tag": "ABX9TyMa66WevpO7Q5gBflJD7YQZ",
      "include_colab_link": true
    },
    "kernelspec": {
      "name": "python3",
      "display_name": "Python 3"
    },
    "language_info": {
      "name": "python"
    }
  },
  "cells": [
    {
      "cell_type": "markdown",
      "metadata": {
        "id": "view-in-github",
        "colab_type": "text"
      },
      "source": [
        "<a href=\"https://colab.research.google.com/github/avinashkumar18/Lab/blob/main/MLT_Lab/20MAI0035_DA_1.ipynb\" target=\"_parent\"><img src=\"https://colab.research.google.com/assets/colab-badge.svg\" alt=\"Open In Colab\"/></a>"
      ]
    },
    {
      "cell_type": "markdown",
      "metadata": {
        "id": "eb3eM60t2Cr6"
      },
      "source": [
        "[Github Link](https://github.com/avinashkumar18/Lab/blob/main/MLT_Lab/20MAI0035_DA_1.ipynb)"
      ]
    },
    {
      "cell_type": "code",
      "metadata": {
        "id": "m3coT6DHuqYC"
      },
      "source": [
        "import numpy as np\n",
        "import pandas as pd"
      ],
      "execution_count": 11,
      "outputs": []
    },
    {
      "cell_type": "code",
      "metadata": {
        "id": "Hfh2jOYkusJf"
      },
      "source": [
        "url=\"https://raw.githubusercontent.com/avinashkumar18/Lab/main/MLT_Lab/placement_data.csv\""
      ],
      "execution_count": 12,
      "outputs": []
    },
    {
      "cell_type": "code",
      "metadata": {
        "id": "4-DODxWLuu8T"
      },
      "source": [
        "df=pd.read_csv(url)"
      ],
      "execution_count": 13,
      "outputs": []
    },
    {
      "cell_type": "markdown",
      "metadata": {
        "id": "x4Y3zijX0fhY"
      },
      "source": [
        "**Dataset Info**\n",
        "\n",
        "The dataset provided is about whether the student gets a good job and the employee who already has a job gets better job. Few dependent variables like the course that the person completed, where he/she is staying and daily travel of the person is considered to predit the outcome"
      ]
    },
    {
      "cell_type": "code",
      "metadata": {
        "colab": {
          "base_uri": "https://localhost:8080/",
          "height": 195
        },
        "id": "aibdIj5Cuw1C",
        "outputId": "8c36a417-6499-4562-af55-8da534e8fa8b"
      },
      "source": [
        "df.head()"
      ],
      "execution_count": 14,
      "outputs": [
        {
          "output_type": "execute_result",
          "data": {
            "text/html": [
              "<div>\n",
              "<style scoped>\n",
              "    .dataframe tbody tr th:only-of-type {\n",
              "        vertical-align: middle;\n",
              "    }\n",
              "\n",
              "    .dataframe tbody tr th {\n",
              "        vertical-align: top;\n",
              "    }\n",
              "\n",
              "    .dataframe thead th {\n",
              "        text-align: right;\n",
              "    }\n",
              "</style>\n",
              "<table border=\"1\" class=\"dataframe\">\n",
              "  <thead>\n",
              "    <tr style=\"text-align: right;\">\n",
              "      <th></th>\n",
              "      <th>Description</th>\n",
              "      <th>location</th>\n",
              "      <th>Studying_Engineering?</th>\n",
              "      <th>college_location</th>\n",
              "      <th>stay</th>\n",
              "      <th>distance travelled everyday</th>\n",
              "      <th>chances of getting good job</th>\n",
              "    </tr>\n",
              "  </thead>\n",
              "  <tbody>\n",
              "    <tr>\n",
              "      <th>0</th>\n",
              "      <td>Student</td>\n",
              "      <td>Walajapet</td>\n",
              "      <td>No</td>\n",
              "      <td>Vellore</td>\n",
              "      <td>Home</td>\n",
              "      <td>30</td>\n",
              "      <td>Yes</td>\n",
              "    </tr>\n",
              "    <tr>\n",
              "      <th>1</th>\n",
              "      <td>Employee</td>\n",
              "      <td>Walajapet</td>\n",
              "      <td>Yes</td>\n",
              "      <td>Chennai</td>\n",
              "      <td>Home</td>\n",
              "      <td>180</td>\n",
              "      <td>Yes</td>\n",
              "    </tr>\n",
              "    <tr>\n",
              "      <th>2</th>\n",
              "      <td>Student</td>\n",
              "      <td>Ranipet</td>\n",
              "      <td>Yes</td>\n",
              "      <td>Chennai</td>\n",
              "      <td>Home</td>\n",
              "      <td>185</td>\n",
              "      <td>Yes</td>\n",
              "    </tr>\n",
              "    <tr>\n",
              "      <th>3</th>\n",
              "      <td>Student</td>\n",
              "      <td>Vellore</td>\n",
              "      <td>Yes</td>\n",
              "      <td>Vellore</td>\n",
              "      <td>Home</td>\n",
              "      <td>10</td>\n",
              "      <td>No</td>\n",
              "    </tr>\n",
              "    <tr>\n",
              "      <th>4</th>\n",
              "      <td>Student</td>\n",
              "      <td>Walajapet</td>\n",
              "      <td>Yes</td>\n",
              "      <td>Chennai</td>\n",
              "      <td>Home</td>\n",
              "      <td>20</td>\n",
              "      <td>Yes</td>\n",
              "    </tr>\n",
              "  </tbody>\n",
              "</table>\n",
              "</div>"
            ],
            "text/plain": [
              "  Description  ... chances of getting good job\n",
              "0     Student  ...                         Yes\n",
              "1    Employee  ...                         Yes\n",
              "2     Student  ...                         Yes\n",
              "3     Student  ...                          No\n",
              "4     Student  ...                         Yes\n",
              "\n",
              "[5 rows x 7 columns]"
            ]
          },
          "metadata": {
            "tags": []
          },
          "execution_count": 14
        }
      ]
    },
    {
      "cell_type": "code",
      "metadata": {
        "colab": {
          "base_uri": "https://localhost:8080/"
        },
        "id": "pMUd0mj0uymg",
        "outputId": "f03a23a2-e9c2-4874-eb32-d4cfb78f1dbd"
      },
      "source": [
        "df.info()"
      ],
      "execution_count": 31,
      "outputs": [
        {
          "output_type": "stream",
          "text": [
            "<class 'pandas.core.frame.DataFrame'>\n",
            "RangeIndex: 10 entries, 0 to 9\n",
            "Data columns (total 7 columns):\n",
            " #   Column                       Non-Null Count  Dtype \n",
            "---  ------                       --------------  ----- \n",
            " 0   Description                  10 non-null     int64 \n",
            " 1   location                     10 non-null     object\n",
            " 2   Studying_Engineering?        10 non-null     int64 \n",
            " 3   college_location             10 non-null     int64 \n",
            " 4   stay                         10 non-null     int64 \n",
            " 5   distance travelled everyday  10 non-null     int64 \n",
            " 6   chances of getting good job  10 non-null     int64 \n",
            "dtypes: int64(6), object(1)\n",
            "memory usage: 688.0+ bytes\n"
          ],
          "name": "stdout"
        }
      ]
    },
    {
      "cell_type": "code",
      "metadata": {
        "id": "pinWWS2Bu0x_"
      },
      "source": [
        "df['Description'] = df['Description'].apply(lambda Description:1 if Description=='Student' else 0)\n",
        "df['Studying_Engineering?'] = df['Studying_Engineering?'].apply(lambda Studying_Engineering:1 if Studying_Engineering=='Yes' else 0)\n",
        "df['college_location'] = df['college_location'].apply(lambda college_location:1 if college_location=='Vellore' else 0)\n",
        "df['stay'] = df['stay'].apply(lambda stay:1 if stay=='Home' else 0)\n",
        "df['chances of getting good job'] = df['chances of getting good job'].apply(lambda job:1 if job=='Yes' else 0)"
      ],
      "execution_count": 20,
      "outputs": []
    },
    {
      "cell_type": "code",
      "metadata": {
        "id": "o2LgKRQ2u4Hw"
      },
      "source": [
        "X = df.drop(['chances of getting good job','location'],axis=1)\n",
        "Y = df['chances of getting good job']"
      ],
      "execution_count": 27,
      "outputs": []
    },
    {
      "cell_type": "code",
      "metadata": {
        "id": "n1V3FZdhu6WY"
      },
      "source": [
        "from sklearn .model_selection import train_test_split\n",
        "X_train, X_test, Y_train, Y_test = train_test_split(X, Y, test_size=0.3, random_state = 25)"
      ],
      "execution_count": 28,
      "outputs": []
    },
    {
      "cell_type": "code",
      "metadata": {
        "id": "sf9NyOH5u8oz"
      },
      "source": [
        "from sklearn.linear_model import LogisticRegression\n",
        "from sklearn.tree import DecisionTreeClassifier\n",
        "from sklearn.naive_bayes import GaussianNB"
      ],
      "execution_count": 29,
      "outputs": []
    },
    {
      "cell_type": "code",
      "metadata": {
        "id": "NbYhmZTPu-uh"
      },
      "source": [
        "logit =LogisticRegression()\n",
        "Y_pred_logit = logit.fit(X_train, Y_train).predict(X_test)"
      ],
      "execution_count": 32,
      "outputs": []
    },
    {
      "cell_type": "code",
      "metadata": {
        "id": "msZrRg9Iy09x"
      },
      "source": [
        "decision_tree = DecisionTreeClassifier()\n",
        "Y_pred_D_tree = decision_tree.fit(X_train, Y_train).predict(X_test)"
      ],
      "execution_count": 33,
      "outputs": []
    },
    {
      "cell_type": "code",
      "metadata": {
        "id": "SCHK801TvARW"
      },
      "source": [
        "gnb = GaussianNB()\n",
        "Y_pred_gauss = gnb.fit(X_train, Y_train).predict(X_test)"
      ],
      "execution_count": 34,
      "outputs": []
    },
    {
      "cell_type": "code",
      "metadata": {
        "colab": {
          "base_uri": "https://localhost:8080/"
        },
        "id": "_uaularCzrui",
        "outputId": "a5b01a07-a691-4086-93aa-fa21ecec7218"
      },
      "source": [
        "from sklearn.metrics import confusion_matrix\n",
        "logit_confusion_matrix = confusion_matrix(Y_test, Y_pred_logit)\n",
        "d_tree_confusion_matrix = confusion_matrix(Y_test, Y_pred_D_tree)\n",
        "gauss_confusion_matrix = confusion_matrix(Y_test, Y_pred_gauss)\n",
        "print(logit_confusion_matrix, d_tree_confusion_matrix, gauss_confusion_matrix)"
      ],
      "execution_count": 38,
      "outputs": [
        {
          "output_type": "stream",
          "text": [
            "[[0 2]\n",
            " [0 1]] [[0 2]\n",
            " [0 1]] [[0 2]\n",
            " [0 1]]\n"
          ],
          "name": "stdout"
        }
      ]
    },
    {
      "cell_type": "code",
      "metadata": {
        "colab": {
          "base_uri": "https://localhost:8080/"
        },
        "id": "yJhWKTSizsID",
        "outputId": "09b2f0f3-e418-435e-f653-fdc746a3fa97"
      },
      "source": [
        "from sklearn.metrics import accuracy_score\n",
        "print(accuracy_score(Y_test, Y_pred_logit))\n",
        "print(accuracy_score(Y_test, Y_pred_D_tree))\n",
        "print(accuracy_score(Y_test, Y_pred_gauss))"
      ],
      "execution_count": 39,
      "outputs": [
        {
          "output_type": "stream",
          "text": [
            "0.3333333333333333\n",
            "0.3333333333333333\n",
            "0.3333333333333333\n"
          ],
          "name": "stdout"
        }
      ]
    }
  ]
}