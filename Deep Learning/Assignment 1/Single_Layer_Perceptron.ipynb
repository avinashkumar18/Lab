{
  "nbformat": 4,
  "nbformat_minor": 0,
  "metadata": {
    "colab": {
      "name": "Single Layer Perceptron.ipynb",
      "provenance": [],
      "collapsed_sections": [],
      "toc_visible": true,
      "authorship_tag": "ABX9TyNWvciqtKVqBk1i6xo/SneA",
      "include_colab_link": true
    },
    "kernelspec": {
      "name": "python3",
      "display_name": "Python 3"
    }
  },
  "cells": [
    {
      "cell_type": "markdown",
      "metadata": {
        "id": "view-in-github",
        "colab_type": "text"
      },
      "source": [
        "<a href=\"https://colab.research.google.com/github/avinashkumar18/Lab/blob/main/Deep%20Learning/Assignment%201/Single_Layer_Perceptron.ipynb\" target=\"_parent\"><img src=\"https://colab.research.google.com/assets/colab-badge.svg\" alt=\"Open In Colab\"/></a>"
      ]
    },
    {
      "cell_type": "markdown",
      "metadata": {
        "id": "VCQU2mWNBN38"
      },
      "source": [
        "# Single Layer Perceptron\r\n"
      ]
    },
    {
      "cell_type": "code",
      "metadata": {
        "id": "aAPwJ24uFKyg"
      },
      "source": [
        "# importing numpy package and the inputs\r\n",
        "import numpy as np\r\n",
        "\r\n",
        "X = np.array([[1,2],\r\n",
        "              [4,5]])\r\n",
        "Y = np.array([0,1])"
      ],
      "execution_count": 1,
      "outputs": []
    },
    {
      "cell_type": "code",
      "metadata": {
        "id": "8GlwVAm4NGXF"
      },
      "source": [
        "# importing numpy and setting the dataset\r\n",
        "import pandas as pd\r\n",
        "dataset = {\"X1\":X.T[:][0],\r\n",
        "           \"X2\":X.T[:][1],\r\n",
        "           \"Y\":Y}\r\n",
        "dataframe = pd.DataFrame(data=dataset)"
      ],
      "execution_count": 2,
      "outputs": []
    },
    {
      "cell_type": "code",
      "metadata": {
        "colab": {
          "base_uri": "https://localhost:8080/"
        },
        "id": "x_Bxzkf9b9yU",
        "outputId": "b9109ddd-cc8b-4236-e65c-4c328c95d1b7"
      },
      "source": [
        "print(dataframe)"
      ],
      "execution_count": 3,
      "outputs": [
        {
          "output_type": "stream",
          "text": [
            "   X1  X2  Y\n",
            "0   1   2  0\n",
            "1   4   5  1\n"
          ],
          "name": "stdout"
        }
      ]
    },
    {
      "cell_type": "code",
      "metadata": {
        "colab": {
          "base_uri": "https://localhost:8080/"
        },
        "id": "tYkITB2zcmAp",
        "outputId": "f01c43d3-6543-478f-86cc-42cbaaf646f2"
      },
      "source": [
        "# initializing variables\r\n",
        "weights = np.zeros((2,),dtype=int)\r\n",
        "print(weights)\r\n",
        "bias=1\r\n",
        "epoch=0\r\n",
        "rate=1"
      ],
      "execution_count": 4,
      "outputs": [
        {
          "output_type": "stream",
          "text": [
            "[0 0]\n"
          ],
          "name": "stdout"
        }
      ]
    },
    {
      "cell_type": "code",
      "metadata": {
        "id": "n66JSKvgdjmD"
      },
      "source": [
        "# activation function\r\n",
        "def activationFunction(flag):\r\n",
        "  if flag>0:\r\n",
        "    return 1\r\n",
        "  else:\r\n",
        "    return -1"
      ],
      "execution_count": 5,
      "outputs": []
    },
    {
      "cell_type": "code",
      "metadata": {
        "id": "MHhK8NXve3qk"
      },
      "source": [
        "# predicting\r\n",
        "while epoch<1:\r\n",
        "  for row in range(dataframe.shape[0]):\r\n",
        "    flag=bias\r\n",
        "    for weight in range(weights.shape[0]):\r\n",
        "      flag = flag + weights[weight] * dataframe['X'+str(weight+1)][row]\r\n",
        "      Y_trained = activationFunction(flag)\r\n",
        "      if(Y_trained != dataframe['Y'][row]):\r\n",
        "        for iterator in range(weights.shape[0]):\r\n",
        "          weights[iterator] += rate*dataframe['Y'][row] * dataframe['X'+str(iterator+1)][row] \r\n",
        "          bias += rate * dataframe['Y'][row]\r\n",
        "    epoch+=1      \r\n"
      ],
      "execution_count": 6,
      "outputs": []
    },
    {
      "cell_type": "code",
      "metadata": {
        "colab": {
          "base_uri": "https://localhost:8080/"
        },
        "id": "DVC8QhJjjIqo",
        "outputId": "69bd0cc0-0b60-4268-b1ac-65238443d387"
      },
      "source": [
        "print(\"   X1 X2 Y\")\r\n",
        "a=[]\r\n",
        "for row in range(dataframe.shape[0]):\r\n",
        "  b=[]\r\n",
        "  X1_test = dataframe['X1'][row]\r\n",
        "  b.append(X1_test)\r\n",
        "  X2_test = dataframe['X2'][row]\r\n",
        "  b.append(X2_test)\r\n",
        "  test = activationFunction(X1_test*weights[0]+X2_test*weights[1]++bias)\r\n",
        "  b.append(test)\r\n",
        "  a.append(b)\r\n",
        "result = pd.DataFrame(data=a)  \r\n",
        "print(result)"
      ],
      "execution_count": 7,
      "outputs": [
        {
          "output_type": "stream",
          "text": [
            "   X1 X2 Y\n",
            "   0  1  2\n",
            "0  1  2  1\n",
            "1  4  5  1\n"
          ],
          "name": "stdout"
        }
      ]
    }
  ]
}