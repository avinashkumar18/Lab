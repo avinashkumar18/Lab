{
  "nbformat": 4,
  "nbformat_minor": 0,
  "metadata": {
    "colab": {
      "name": "RNN.ipynb",
      "provenance": [],
      "collapsed_sections": [],
      "authorship_tag": "ABX9TyO7RxgM+/JXDWjrKylc8uuP",
      "include_colab_link": true
    },
    "kernelspec": {
      "name": "python3",
      "display_name": "Python 3"
    },
    "language_info": {
      "name": "python"
    },
    "accelerator": "GPU"
  },
  "cells": [
    {
      "cell_type": "markdown",
      "metadata": {
        "id": "view-in-github",
        "colab_type": "text"
      },
      "source": [
        "<a href=\"https://colab.research.google.com/github/avinashkumar18/Lab/blob/main/Deep%20Learning/Assessment%205/RNN.ipynb\" target=\"_parent\"><img src=\"https://colab.research.google.com/assets/colab-badge.svg\" alt=\"Open In Colab\"/></a>"
      ]
    },
    {
      "cell_type": "markdown",
      "metadata": {
        "id": "fjrx8M0Ylg8F"
      },
      "source": [
        "[Github link](https://https://github.com/avinashkumar18/Lab/blob/main/Deep%20Learning/Assessment%205/RNN.ipynb)"
      ]
    },
    {
      "cell_type": "code",
      "metadata": {
        "id": "r7eE3rledLxC"
      },
      "source": [
        "import numpy as np\n",
        "import pandas as pd\n",
        "import matplotlib.pyplot as plt"
      ],
      "execution_count": 1,
      "outputs": []
    },
    {
      "cell_type": "code",
      "metadata": {
        "id": "SG8YcMiOe45n"
      },
      "source": [
        "train_url = \"https://raw.githubusercontent.com/avinashkumar18/Lab/main/Deep%20Learning/Assessment%205/FB_training_data.csv\"\n",
        "training_dataset = pd.read_csv(train_url)"
      ],
      "execution_count": 3,
      "outputs": []
    },
    {
      "cell_type": "code",
      "metadata": {
        "id": "8V6Xt3T3fReI"
      },
      "source": [
        "test_url = \"https://raw.githubusercontent.com/avinashkumar18/Lab/main/Deep%20Learning/Assessment%205/FB_test_data.csv\"\n",
        "test_dataset = pd.read_csv(test_url)"
      ],
      "execution_count": 4,
      "outputs": []
    },
    {
      "cell_type": "code",
      "metadata": {
        "id": "rrzHOIQhfoWz"
      },
      "source": [
        "training_dataset = training_dataset.iloc[:, 1].values"
      ],
      "execution_count": 6,
      "outputs": []
    },
    {
      "cell_type": "code",
      "metadata": {
        "id": "t-Ox1mMxfynB"
      },
      "source": [
        "from sklearn.preprocessing import MinMaxScaler\n",
        "scaler = MinMaxScaler()\n",
        "training_dataset = scaler.fit_transform(training_dataset.reshape(-1, 1))"
      ],
      "execution_count": 7,
      "outputs": []
    },
    {
      "cell_type": "code",
      "metadata": {
        "colab": {
          "base_uri": "https://localhost:8080/"
        },
        "id": "0IffNyKogAh9",
        "outputId": "04008483-4148-470e-8e05-8e374493f4f0"
      },
      "source": [
        "x_train_data = []\n",
        "y_train_data = []\n",
        "for i in range(40, len(training_dataset)):\n",
        "    x_train_data.append(training_dataset[i-40:i, 0])\n",
        "    y_train_data.append(training_dataset[i, 0])\n",
        "x_train_data = np.array(x_train_data)\n",
        "y_train_data = np.array(y_train_data)\n",
        "print(x_train_data.shape, y_train_data.shape)"
      ],
      "execution_count": 10,
      "outputs": [
        {
          "output_type": "stream",
          "text": [
            "(1218, 40) (1218,)\n"
          ],
          "name": "stdout"
        }
      ]
    },
    {
      "cell_type": "code",
      "metadata": {
        "colab": {
          "base_uri": "https://localhost:8080/"
        },
        "id": "XwV1uUCNgZ0j",
        "outputId": "ee9ad628-6eff-414f-a0c2-97085f033ecc"
      },
      "source": [
        "#reshaping\n",
        "x_train_data = np.reshape(x_train_data, (x_train_data.shape[0], x_train_data.shape[1], 1))\n",
        "x_train_data.shape"
      ],
      "execution_count": 11,
      "outputs": [
        {
          "output_type": "execute_result",
          "data": {
            "text/plain": [
              "(1218, 40, 1)"
            ]
          },
          "metadata": {
            "tags": []
          },
          "execution_count": 11
        }
      ]
    },
    {
      "cell_type": "code",
      "metadata": {
        "id": "cOzx9-oYhKFe"
      },
      "source": [
        "from tensorflow.keras.models import Sequential\n",
        "from tensorflow.keras.layers import Dense\n",
        "from tensorflow.keras.layers import LSTM\n",
        "from tensorflow.keras.layers import Dropout"
      ],
      "execution_count": 12,
      "outputs": []
    },
    {
      "cell_type": "code",
      "metadata": {
        "id": "2_2O8qjrhZ8X"
      },
      "source": [
        "rnn_model = Sequential()"
      ],
      "execution_count": 13,
      "outputs": []
    },
    {
      "cell_type": "code",
      "metadata": {
        "id": "L4DvJi_zhdyu"
      },
      "source": [
        "#1st layer\n",
        "rnn_model.add(LSTM(units = 45, return_sequences = True, input_shape = (x_train_data.shape[1], 1)))\n",
        "rnn_model.add(Dropout(0.2))"
      ],
      "execution_count": 14,
      "outputs": []
    },
    {
      "cell_type": "code",
      "metadata": {
        "id": "QmVTm3ebhrWD"
      },
      "source": [
        "#2nd, 3rd, 4th layer\n",
        "for i in [True, True, False]:\n",
        "    rnn_model.add(LSTM(units = 45, return_sequences = i))\n",
        "    rnn_model.add(Dropout(0.2))"
      ],
      "execution_count": 15,
      "outputs": []
    },
    {
      "cell_type": "code",
      "metadata": {
        "id": "Ew_CwNbFh2u0"
      },
      "source": [
        "#output layer\n",
        "rnn_model.add(Dense(units = 1))"
      ],
      "execution_count": 16,
      "outputs": []
    },
    {
      "cell_type": "code",
      "metadata": {
        "colab": {
          "base_uri": "https://localhost:8080/"
        },
        "id": "MWZabE_0h72f",
        "outputId": "eea87e91-bec2-490c-ce5b-3eac3741026e"
      },
      "source": [
        "#compile and fit the model\n",
        "rnn_model.compile(optimizer = 'adam', loss = 'mean_squared_error')\n",
        "rnn_model.fit(x_train_data, y_train_data, epochs = 100, batch_size = 32)"
      ],
      "execution_count": 17,
      "outputs": [
        {
          "output_type": "stream",
          "text": [
            "Epoch 1/100\n",
            "39/39 [==============================] - 36s 45ms/step - loss: 0.0996\n",
            "Epoch 2/100\n",
            "39/39 [==============================] - 2s 42ms/step - loss: 0.0088\n",
            "Epoch 3/100\n",
            "39/39 [==============================] - 2s 41ms/step - loss: 0.0066\n",
            "Epoch 4/100\n",
            "39/39 [==============================] - 2s 41ms/step - loss: 0.0064\n",
            "Epoch 5/100\n",
            "39/39 [==============================] - 2s 42ms/step - loss: 0.0052\n",
            "Epoch 6/100\n",
            "39/39 [==============================] - 2s 41ms/step - loss: 0.0077\n",
            "Epoch 7/100\n",
            "39/39 [==============================] - 2s 42ms/step - loss: 0.0061\n",
            "Epoch 8/100\n",
            "39/39 [==============================] - 2s 42ms/step - loss: 0.0056\n",
            "Epoch 9/100\n",
            "39/39 [==============================] - 2s 41ms/step - loss: 0.0063\n",
            "Epoch 10/100\n",
            "39/39 [==============================] - 2s 42ms/step - loss: 0.0066\n",
            "Epoch 11/100\n",
            "39/39 [==============================] - 2s 41ms/step - loss: 0.0057\n",
            "Epoch 12/100\n",
            "39/39 [==============================] - 2s 42ms/step - loss: 0.0061\n",
            "Epoch 13/100\n",
            "39/39 [==============================] - 2s 41ms/step - loss: 0.0048\n",
            "Epoch 14/100\n",
            "39/39 [==============================] - 2s 42ms/step - loss: 0.0044\n",
            "Epoch 15/100\n",
            "39/39 [==============================] - 2s 41ms/step - loss: 0.0052\n",
            "Epoch 16/100\n",
            "39/39 [==============================] - 2s 41ms/step - loss: 0.0050\n",
            "Epoch 17/100\n",
            "39/39 [==============================] - 2s 42ms/step - loss: 0.0042\n",
            "Epoch 18/100\n",
            "39/39 [==============================] - 2s 42ms/step - loss: 0.0048\n",
            "Epoch 19/100\n",
            "39/39 [==============================] - 2s 41ms/step - loss: 0.0044\n",
            "Epoch 20/100\n",
            "39/39 [==============================] - 2s 41ms/step - loss: 0.0042\n",
            "Epoch 21/100\n",
            "39/39 [==============================] - 2s 42ms/step - loss: 0.0049\n",
            "Epoch 22/100\n",
            "39/39 [==============================] - 2s 42ms/step - loss: 0.0050\n",
            "Epoch 23/100\n",
            "39/39 [==============================] - 2s 42ms/step - loss: 0.0042\n",
            "Epoch 24/100\n",
            "39/39 [==============================] - 2s 41ms/step - loss: 0.0040\n",
            "Epoch 25/100\n",
            "39/39 [==============================] - 2s 41ms/step - loss: 0.0040\n",
            "Epoch 26/100\n",
            "39/39 [==============================] - 2s 41ms/step - loss: 0.0037\n",
            "Epoch 27/100\n",
            "39/39 [==============================] - 2s 41ms/step - loss: 0.0041\n",
            "Epoch 28/100\n",
            "39/39 [==============================] - 2s 41ms/step - loss: 0.0039\n",
            "Epoch 29/100\n",
            "39/39 [==============================] - 2s 42ms/step - loss: 0.0035\n",
            "Epoch 30/100\n",
            "39/39 [==============================] - 2s 42ms/step - loss: 0.0035\n",
            "Epoch 31/100\n",
            "39/39 [==============================] - 2s 42ms/step - loss: 0.0042\n",
            "Epoch 32/100\n",
            "39/39 [==============================] - 2s 41ms/step - loss: 0.0041\n",
            "Epoch 33/100\n",
            "39/39 [==============================] - 2s 42ms/step - loss: 0.0033\n",
            "Epoch 34/100\n",
            "39/39 [==============================] - 2s 42ms/step - loss: 0.0038\n",
            "Epoch 35/100\n",
            "39/39 [==============================] - 2s 42ms/step - loss: 0.0045\n",
            "Epoch 36/100\n",
            "39/39 [==============================] - 2s 42ms/step - loss: 0.0032\n",
            "Epoch 37/100\n",
            "39/39 [==============================] - 2s 41ms/step - loss: 0.0033\n",
            "Epoch 38/100\n",
            "39/39 [==============================] - 2s 41ms/step - loss: 0.0029\n",
            "Epoch 39/100\n",
            "39/39 [==============================] - 2s 42ms/step - loss: 0.0031\n",
            "Epoch 40/100\n",
            "39/39 [==============================] - 2s 42ms/step - loss: 0.0031\n",
            "Epoch 41/100\n",
            "39/39 [==============================] - 2s 42ms/step - loss: 0.0031\n",
            "Epoch 42/100\n",
            "39/39 [==============================] - 2s 41ms/step - loss: 0.0031\n",
            "Epoch 43/100\n",
            "39/39 [==============================] - 2s 42ms/step - loss: 0.0037\n",
            "Epoch 44/100\n",
            "39/39 [==============================] - 2s 42ms/step - loss: 0.0032\n",
            "Epoch 45/100\n",
            "39/39 [==============================] - 2s 42ms/step - loss: 0.0051\n",
            "Epoch 46/100\n",
            "39/39 [==============================] - 2s 41ms/step - loss: 0.0030\n",
            "Epoch 47/100\n",
            "39/39 [==============================] - 2s 41ms/step - loss: 0.0031\n",
            "Epoch 48/100\n",
            "39/39 [==============================] - 2s 41ms/step - loss: 0.0030\n",
            "Epoch 49/100\n",
            "39/39 [==============================] - 2s 41ms/step - loss: 0.0029\n",
            "Epoch 50/100\n",
            "39/39 [==============================] - 2s 42ms/step - loss: 0.0025\n",
            "Epoch 51/100\n",
            "39/39 [==============================] - 2s 41ms/step - loss: 0.0027\n",
            "Epoch 52/100\n",
            "39/39 [==============================] - 2s 42ms/step - loss: 0.0030\n",
            "Epoch 53/100\n",
            "39/39 [==============================] - 2s 42ms/step - loss: 0.0026\n",
            "Epoch 54/100\n",
            "39/39 [==============================] - 2s 42ms/step - loss: 0.0032\n",
            "Epoch 55/100\n",
            "39/39 [==============================] - 2s 42ms/step - loss: 0.0027\n",
            "Epoch 56/100\n",
            "39/39 [==============================] - 2s 41ms/step - loss: 0.0032\n",
            "Epoch 57/100\n",
            "39/39 [==============================] - 2s 41ms/step - loss: 0.0028\n",
            "Epoch 58/100\n",
            "39/39 [==============================] - 2s 41ms/step - loss: 0.0026\n",
            "Epoch 59/100\n",
            "39/39 [==============================] - 2s 41ms/step - loss: 0.0030\n",
            "Epoch 60/100\n",
            "39/39 [==============================] - 2s 41ms/step - loss: 0.0028\n",
            "Epoch 61/100\n",
            "39/39 [==============================] - 2s 42ms/step - loss: 0.0024\n",
            "Epoch 62/100\n",
            "39/39 [==============================] - 2s 42ms/step - loss: 0.0021\n",
            "Epoch 63/100\n",
            "39/39 [==============================] - 2s 42ms/step - loss: 0.0023\n",
            "Epoch 64/100\n",
            "39/39 [==============================] - 2s 42ms/step - loss: 0.0024\n",
            "Epoch 65/100\n",
            "39/39 [==============================] - 2s 41ms/step - loss: 0.0028\n",
            "Epoch 66/100\n",
            "39/39 [==============================] - 2s 42ms/step - loss: 0.0028\n",
            "Epoch 67/100\n",
            "39/39 [==============================] - 2s 42ms/step - loss: 0.0024\n",
            "Epoch 68/100\n",
            "39/39 [==============================] - 2s 42ms/step - loss: 0.0028\n",
            "Epoch 69/100\n",
            "39/39 [==============================] - 2s 41ms/step - loss: 0.0024\n",
            "Epoch 70/100\n",
            "39/39 [==============================] - 2s 42ms/step - loss: 0.0021\n",
            "Epoch 71/100\n",
            "39/39 [==============================] - 2s 42ms/step - loss: 0.0023\n",
            "Epoch 72/100\n",
            "39/39 [==============================] - 2s 41ms/step - loss: 0.0020\n",
            "Epoch 73/100\n",
            "39/39 [==============================] - 2s 41ms/step - loss: 0.0030\n",
            "Epoch 74/100\n",
            "39/39 [==============================] - 2s 41ms/step - loss: 0.0022\n",
            "Epoch 75/100\n",
            "39/39 [==============================] - 2s 42ms/step - loss: 0.0024\n",
            "Epoch 76/100\n",
            "39/39 [==============================] - 2s 41ms/step - loss: 0.0021\n",
            "Epoch 77/100\n",
            "39/39 [==============================] - 2s 42ms/step - loss: 0.0020\n",
            "Epoch 78/100\n",
            "39/39 [==============================] - 2s 42ms/step - loss: 0.0020\n",
            "Epoch 79/100\n",
            "39/39 [==============================] - 2s 42ms/step - loss: 0.0019\n",
            "Epoch 80/100\n",
            "39/39 [==============================] - 2s 41ms/step - loss: 0.0024\n",
            "Epoch 81/100\n",
            "39/39 [==============================] - 2s 42ms/step - loss: 0.0029\n",
            "Epoch 82/100\n",
            "39/39 [==============================] - 2s 42ms/step - loss: 0.0028\n",
            "Epoch 83/100\n",
            "39/39 [==============================] - 2s 41ms/step - loss: 0.0020\n",
            "Epoch 84/100\n",
            "39/39 [==============================] - 2s 41ms/step - loss: 0.0019\n",
            "Epoch 85/100\n",
            "39/39 [==============================] - 2s 41ms/step - loss: 0.0018\n",
            "Epoch 86/100\n",
            "39/39 [==============================] - 2s 41ms/step - loss: 0.0022\n",
            "Epoch 87/100\n",
            "39/39 [==============================] - 2s 41ms/step - loss: 0.0017\n",
            "Epoch 88/100\n",
            "39/39 [==============================] - 2s 42ms/step - loss: 0.0020\n",
            "Epoch 89/100\n",
            "39/39 [==============================] - 2s 41ms/step - loss: 0.0017\n",
            "Epoch 90/100\n",
            "39/39 [==============================] - 2s 42ms/step - loss: 0.0017\n",
            "Epoch 91/100\n",
            "39/39 [==============================] - 2s 42ms/step - loss: 0.0021\n",
            "Epoch 92/100\n",
            "39/39 [==============================] - 2s 41ms/step - loss: 0.0018\n",
            "Epoch 93/100\n",
            "39/39 [==============================] - 2s 41ms/step - loss: 0.0023\n",
            "Epoch 94/100\n",
            "39/39 [==============================] - 2s 42ms/step - loss: 0.0017\n",
            "Epoch 95/100\n",
            "39/39 [==============================] - 2s 41ms/step - loss: 0.0014\n",
            "Epoch 96/100\n",
            "39/39 [==============================] - 2s 42ms/step - loss: 0.0019\n",
            "Epoch 97/100\n",
            "39/39 [==============================] - 2s 41ms/step - loss: 0.0016\n",
            "Epoch 98/100\n",
            "39/39 [==============================] - 2s 42ms/step - loss: 0.0018\n",
            "Epoch 99/100\n",
            "39/39 [==============================] - 2s 41ms/step - loss: 0.0017\n",
            "Epoch 100/100\n",
            "39/39 [==============================] - 2s 42ms/step - loss: 0.0016\n"
          ],
          "name": "stdout"
        },
        {
          "output_type": "execute_result",
          "data": {
            "text/plain": [
              "<tensorflow.python.keras.callbacks.History at 0x7f02f8b9b310>"
            ]
          },
          "metadata": {
            "tags": []
          },
          "execution_count": 17
        }
      ]
    },
    {
      "cell_type": "code",
      "metadata": {
        "colab": {
          "base_uri": "https://localhost:8080/"
        },
        "id": "FifnAHfziH_t",
        "outputId": "f1b6420f-a579-466f-bdf8-47cd242c173d"
      },
      "source": [
        "test_dataset = test_dataset.iloc[:, 1].values\n",
        "test_dataset.shape"
      ],
      "execution_count": 18,
      "outputs": [
        {
          "output_type": "execute_result",
          "data": {
            "text/plain": [
              "(21,)"
            ]
          },
          "metadata": {
            "tags": []
          },
          "execution_count": 18
        }
      ]
    },
    {
      "cell_type": "code",
      "metadata": {
        "colab": {
          "base_uri": "https://localhost:8080/",
          "height": 282
        },
        "id": "r2D9wP33jFpN",
        "outputId": "9e0648f9-3009-4a5b-eca7-7b858ee52ff0"
      },
      "source": [
        "plt.plot(test_dataset)"
      ],
      "execution_count": 19,
      "outputs": [
        {
          "output_type": "execute_result",
          "data": {
            "text/plain": [
              "[<matplotlib.lines.Line2D at 0x7f02916484d0>]"
            ]
          },
          "metadata": {
            "tags": []
          },
          "execution_count": 19
        },
        {
          "output_type": "display_data",
          "data": {
            "image/png": "[encoded data removed]",
            "text/plain": [
              "<Figure size 432x288 with 1 Axes>"
            ]
          },
          "metadata": {
            "tags": [],
            "needs_background": "light"
          }
        }
      ]
    },
    {
      "cell_type": "code",
      "metadata": {
        "id": "Vaq5mRjKjIUf"
      },
      "source": [
        "unscaled_train_data = pd.read_csv(train_url)\n",
        "unscaled_test_data = pd.read_csv(test_url)\n",
        "data = pd.concat((unscaled_train_data['Open'], unscaled_test_data['Open']), axis = 0)"
      ],
      "execution_count": 22,
      "outputs": []
    },
    {
      "cell_type": "code",
      "metadata": {
        "id": "uKhQ1V1njWMI"
      },
      "source": [
        "x_test_data = data[len(data) - len(test_dataset) - 40:].values\n",
        "x_test_data = np.reshape(x_test_data, (-1, 1))\n",
        "x_test_data = scaler.transform(x_test_data)"
      ],
      "execution_count": 24,
      "outputs": []
    },
    {
      "cell_type": "code",
      "metadata": {
        "id": "JR31UmWZj4kB"
      },
      "source": [
        "final_x_test_data = []\n",
        "for i in range(40, len(x_test_data)):\n",
        "    final_x_test_data.append(x_test_data[i-40:i, 0])\n",
        "final_x_test_data = np.array(final_x_test_data)"
      ],
      "execution_count": 25,
      "outputs": []
    },
    {
      "cell_type": "code",
      "metadata": {
        "id": "5EMBpU5-kDjS"
      },
      "source": [
        "final_x_test_data = np.reshape(final_x_test_data, (final_x_test_data.shape[0], final_x_test_data.shape[1], 1))"
      ],
      "execution_count": 30,
      "outputs": []
    },
    {
      "cell_type": "code",
      "metadata": {
        "id": "uYNJ2O_6kSdq"
      },
      "source": [
        "pred = rnn_model.predict(final_x_test_data)"
      ],
      "execution_count": 31,
      "outputs": []
    },
    {
      "cell_type": "code",
      "metadata": {
        "colab": {
          "base_uri": "https://localhost:8080/",
          "height": 282
        },
        "id": "fsfApoE4kZ2H",
        "outputId": "f8722d16-e7ae-449f-ac6c-832afb1a6143"
      },
      "source": [
        "plt.clf()\n",
        "plt.plot(pred)"
      ],
      "execution_count": 32,
      "outputs": [
        {
          "output_type": "execute_result",
          "data": {
            "text/plain": [
              "[<matplotlib.lines.Line2D at 0x7f029047d910>]"
            ]
          },
          "metadata": {
            "tags": []
          },
          "execution_count": 32
        },
        {
          "output_type": "display_data",
          "data": {
            "image/png": "[encoded data removed]",
            "text/plain": [
              "<Figure size 432x288 with 1 Axes>"
            ]
          },
          "metadata": {
            "tags": [],
            "needs_background": "light"
          }
        }
      ]
    },
    {
      "cell_type": "code",
      "metadata": {
        "colab": {
          "base_uri": "https://localhost:8080/",
          "height": 282
        },
        "id": "q1erhvK-knAh",
        "outputId": "79ba3b4b-088f-4908-a370-f8a9e8fe296c"
      },
      "source": [
        "unscaled_pred = scaler.inverse_transform(pred)\n",
        "plt.clf()\n",
        "plt.plot(unscaled_pred)"
      ],
      "execution_count": 33,
      "outputs": [
        {
          "output_type": "execute_result",
          "data": {
            "text/plain": [
              "[<matplotlib.lines.Line2D at 0x7f0290456450>]"
            ]
          },
          "metadata": {
            "tags": []
          },
          "execution_count": 33
        },
        {
          "output_type": "display_data",
          "data": {
            "image/png": "[encoded data removed]",
            "text/plain": [
              "<Figure size 432x288 with 1 Axes>"
            ]
          },
          "metadata": {
            "tags": [],
            "needs_background": "light"
          }
        }
      ]
    },
    {
      "cell_type": "code",
      "metadata": {
        "colab": {
          "base_uri": "https://localhost:8080/",
          "height": 298
        },
        "id": "4mLBhbjHkw78",
        "outputId": "379caf2b-75bb-401b-9e60-5e65e27c80d7"
      },
      "source": [
        "plt.plot(unscaled_pred, color = '#135485', label = \"Predictions\")\n",
        "plt.plot(test_dataset, color = 'black', label = \"Real Data\")\n",
        "plt.title('Facebook Stock Predictions')"
      ],
      "execution_count": 34,
      "outputs": [
        {
          "output_type": "execute_result",
          "data": {
            "text/plain": [
              "Text(0.5, 1.0, 'Facebook Stock Predictions')"
            ]
          },
          "metadata": {
            "tags": []
          },
          "execution_count": 34
        },
        {
          "output_type": "display_data",
          "data": {
            "image/png": "[encoded data removed]",
            "text/plain": [
              "<Figure size 432x288 with 1 Axes>"
            ]
          },
          "metadata": {
            "tags": [],
            "needs_background": "light"
          }
        }
      ]
    }
  ]
}