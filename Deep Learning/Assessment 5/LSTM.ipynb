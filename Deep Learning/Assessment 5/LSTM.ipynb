{
  "nbformat": 4,
  "nbformat_minor": 0,
  "metadata": {
    "colab": {
      "name": "LSTM.ipynb",
      "provenance": [],
      "authorship_tag": "ABX9TyPN6NFkIbHNnRRxkAKXoxcp",
      "include_colab_link": true
    },
    "kernelspec": {
      "name": "python3",
      "display_name": "Python 3"
    },
    "language_info": {
      "name": "python"
    },
    "accelerator": "GPU"
  },
  "cells": [
    {
      "cell_type": "markdown",
      "metadata": {
        "id": "view-in-github",
        "colab_type": "text"
      },
      "source": [
        "<a href=\"https://colab.research.google.com/github/avinashkumar18/Lab/blob/main/Deep%20Learning/Assessment%205/LSTM.ipynb\" target=\"_parent\"><img src=\"https://colab.research.google.com/assets/colab-badge.svg\" alt=\"Open In Colab\"/></a>"
      ]
    },
    {
      "cell_type": "markdown",
      "metadata": {
        "id": "sWkUQx33Z1uE"
      },
      "source": [
        "[Github link](https://github.com/avinashkumar18/Lab/blob/main/Deep%20Learning/Assessment%205/LSTM.ipynb)"
      ]
    },
    {
      "cell_type": "code",
      "metadata": {
        "id": "SFL1l8YVZekD"
      },
      "source": [
        "import numpy as np\n",
        "import pandas as pd\n",
        "import matplotlib.pyplot as plt\n",
        "from keras.models import Sequential\n",
        "from keras.layers import Dense, LSTM\n",
        "plt.style.use('fivethirtyeight')"
      ],
      "execution_count": 1,
      "outputs": []
    },
    {
      "cell_type": "code",
      "metadata": {
        "colab": {
          "base_uri": "https://localhost:8080/"
        },
        "id": "9fXMy6pRZ4ZG",
        "outputId": "ed5cdcce-86a4-4229-e518-3d382871d11c"
      },
      "source": [
        "import math\n",
        "features = (np.random.randint(10, size=(100, 1)))\n",
        "training_dataset_length = math.ceil(len(features) * .75)\n",
        "print(features.shape, training_dataset_length)"
      ],
      "execution_count": 3,
      "outputs": [
        {
          "output_type": "stream",
          "text": [
            "(100, 1) 75\n"
          ],
          "name": "stdout"
        }
      ]
    },
    {
      "cell_type": "code",
      "metadata": {
        "id": "SZARTobcaD9_"
      },
      "source": [
        "from sklearn.preprocessing import MinMaxScaler\n",
        "scaler = MinMaxScaler(feature_range=(0, 1)) \n",
        "scaled_data = scaler.fit_transform(features)"
      ],
      "execution_count": 4,
      "outputs": []
    },
    {
      "cell_type": "code",
      "metadata": {
        "id": "A7dEHWq1aTQw"
      },
      "source": [
        "x_train=[]\n",
        "y_train = []\n",
        "train_data = scaled_data[0:training_dataset_length  , : ]\n",
        "for i in range(10, len(train_data)):\n",
        "    x_train.append(train_data[i-10:i,0])\n",
        "    y_train.append(train_data[i,0])"
      ],
      "execution_count": 5,
      "outputs": []
    },
    {
      "cell_type": "code",
      "metadata": {
        "id": "q4r0FHELahFv"
      },
      "source": [
        "x_train, y_train = np.array(x_train), np.array(y_train)"
      ],
      "execution_count": 6,
      "outputs": []
    },
    {
      "cell_type": "code",
      "metadata": {
        "id": "vMjnY7fmaoq2"
      },
      "source": [
        "x_train = np.reshape(x_train, (x_train.shape[0],x_train.shape[1],1))"
      ],
      "execution_count": 7,
      "outputs": []
    },
    {
      "cell_type": "code",
      "metadata": {
        "id": "HkHertCrapTS"
      },
      "source": [
        "from keras.layers import Dropout\n",
        "model = Sequential()"
      ],
      "execution_count": 8,
      "outputs": []
    },
    {
      "cell_type": "code",
      "metadata": {
        "id": "2IqPqIPsatRF"
      },
      "source": [
        "#1st Layer\n",
        "model.add(LSTM(units = 50, return_sequences = True, input_shape = (x_train.shape[1], 1)))\n",
        "model.add(Dropout(0.2))"
      ],
      "execution_count": 9,
      "outputs": []
    },
    {
      "cell_type": "code",
      "metadata": {
        "id": "hdS3QUKNaz04"
      },
      "source": [
        "#2nd layer\n",
        "model.add(LSTM(units = 50, return_sequences = True))\n",
        "model.add(Dropout(0.2))"
      ],
      "execution_count": 10,
      "outputs": []
    },
    {
      "cell_type": "code",
      "metadata": {
        "id": "htSobqDFa3ot"
      },
      "source": [
        "#3rd layer\n",
        "model.add(LSTM(units = 50, return_sequences = True))\n",
        "model.add(Dropout(0.2))"
      ],
      "execution_count": 11,
      "outputs": []
    },
    {
      "cell_type": "code",
      "metadata": {
        "id": "Inm6j5q3a6zz"
      },
      "source": [
        "#4th layer\n",
        "model.add(LSTM(units = 50))\n",
        "model.add(Dropout(0.2))"
      ],
      "execution_count": 12,
      "outputs": []
    },
    {
      "cell_type": "code",
      "metadata": {
        "id": "vWta6nn-a_Qn"
      },
      "source": [
        "#output layer\n",
        "model.add(Dense(units = 1))"
      ],
      "execution_count": 13,
      "outputs": []
    },
    {
      "cell_type": "code",
      "metadata": {
        "colab": {
          "base_uri": "https://localhost:8080/"
        },
        "id": "RLlaTZWubEkY",
        "outputId": "65f9d505-b5c8-4b1f-a266-542d1cbdbc7c"
      },
      "source": [
        "model.compile(optimizer = 'adam', loss = 'mean_squared_error')\n",
        "model.fit(x_train, y_train, epochs = 30, batch_size = 50)"
      ],
      "execution_count": 14,
      "outputs": [
        {
          "output_type": "stream",
          "text": [
            "Epoch 1/30\n",
            "2/2 [==============================] - 35s 17ms/step - loss: 0.3389\n",
            "Epoch 2/30\n",
            "2/2 [==============================] - 0s 12ms/step - loss: 0.2838\n",
            "Epoch 3/30\n",
            "2/2 [==============================] - 0s 10ms/step - loss: 0.2187\n",
            "Epoch 4/30\n",
            "2/2 [==============================] - 0s 11ms/step - loss: 0.1539\n",
            "Epoch 5/30\n",
            "2/2 [==============================] - 0s 9ms/step - loss: 0.1155\n",
            "Epoch 6/30\n",
            "2/2 [==============================] - 0s 9ms/step - loss: 0.1148\n",
            "Epoch 7/30\n",
            "2/2 [==============================] - 0s 9ms/step - loss: 0.1380\n",
            "Epoch 8/30\n",
            "2/2 [==============================] - 0s 9ms/step - loss: 0.1264\n",
            "Epoch 9/30\n",
            "2/2 [==============================] - 0s 10ms/step - loss: 0.1112\n",
            "Epoch 10/30\n",
            "2/2 [==============================] - 0s 11ms/step - loss: 0.1000\n",
            "Epoch 11/30\n",
            "2/2 [==============================] - 0s 10ms/step - loss: 0.1133\n",
            "Epoch 12/30\n",
            "2/2 [==============================] - 0s 11ms/step - loss: 0.1153\n",
            "Epoch 13/30\n",
            "2/2 [==============================] - 0s 15ms/step - loss: 0.1158\n",
            "Epoch 14/30\n",
            "2/2 [==============================] - 0s 10ms/step - loss: 0.1073\n",
            "Epoch 15/30\n",
            "2/2 [==============================] - 0s 10ms/step - loss: 0.1058\n",
            "Epoch 16/30\n",
            "2/2 [==============================] - 0s 11ms/step - loss: 0.1040\n",
            "Epoch 17/30\n",
            "2/2 [==============================] - 0s 13ms/step - loss: 0.0980\n",
            "Epoch 18/30\n",
            "2/2 [==============================] - 0s 10ms/step - loss: 0.1068\n",
            "Epoch 19/30\n",
            "2/2 [==============================] - 0s 10ms/step - loss: 0.1132\n",
            "Epoch 20/30\n",
            "2/2 [==============================] - 0s 11ms/step - loss: 0.1059\n",
            "Epoch 21/30\n",
            "2/2 [==============================] - 0s 10ms/step - loss: 0.1015\n",
            "Epoch 22/30\n",
            "2/2 [==============================] - 0s 11ms/step - loss: 0.1031\n",
            "Epoch 23/30\n",
            "2/2 [==============================] - 0s 10ms/step - loss: 0.1093\n",
            "Epoch 24/30\n",
            "2/2 [==============================] - 0s 10ms/step - loss: 0.1043\n",
            "Epoch 25/30\n",
            "2/2 [==============================] - 0s 10ms/step - loss: 0.0945\n",
            "Epoch 26/30\n",
            "2/2 [==============================] - 0s 12ms/step - loss: 0.1054\n",
            "Epoch 27/30\n",
            "2/2 [==============================] - 0s 9ms/step - loss: 0.0989\n",
            "Epoch 28/30\n",
            "2/2 [==============================] - 0s 10ms/step - loss: 0.1044\n",
            "Epoch 29/30\n",
            "2/2 [==============================] - 0s 10ms/step - loss: 0.0929\n",
            "Epoch 30/30\n",
            "2/2 [==============================] - 0s 10ms/step - loss: 0.0988\n"
          ],
          "name": "stdout"
        },
        {
          "output_type": "execute_result",
          "data": {
            "text/plain": [
              "<tensorflow.python.keras.callbacks.History at 0x7f30e23997d0>"
            ]
          },
          "metadata": {
            "tags": []
          },
          "execution_count": 14
        }
      ]
    },
    {
      "cell_type": "code",
      "metadata": {
        "id": "44SgY-BGbIc6"
      },
      "source": [
        "x_test = []\n",
        "y_test =  features[training_dataset_length : , : ] \n",
        "test_data = scaled_data[training_dataset_length - 10: , : ]\n",
        "for i in range(10,len(test_data)):\n",
        "    x_test.append(test_data[i-10:i,0])\n",
        "x_test = np.array(x_test)\n",
        "x_test = np.reshape(x_test, (x_test.shape[0],x_test.shape[1],1))"
      ],
      "execution_count": 15,
      "outputs": []
    },
    {
      "cell_type": "code",
      "metadata": {
        "id": "reeHa_Y7buFL"
      },
      "source": [
        "predictions = model.predict(x_test)"
      ],
      "execution_count": 16,
      "outputs": []
    },
    {
      "cell_type": "code",
      "metadata": {
        "colab": {
          "base_uri": "https://localhost:8080/"
        },
        "id": "uO0497Dbbyv0",
        "outputId": "77e7a038-fa8b-4d18-c7c8-0e2de7d01fc0"
      },
      "source": [
        "print(predictions)"
      ],
      "execution_count": 17,
      "outputs": [
        {
          "output_type": "stream",
          "text": [
            "[[0.5215464 ]\n",
            " [0.5307597 ]\n",
            " [0.51394403]\n",
            " [0.5169094 ]\n",
            " [0.4982583 ]\n",
            " [0.50922996]\n",
            " [0.49126875]\n",
            " [0.47768623]\n",
            " [0.50105864]\n",
            " [0.50503284]\n",
            " [0.5183377 ]\n",
            " [0.53567135]\n",
            " [0.53554606]\n",
            " [0.529318  ]\n",
            " [0.5336044 ]\n",
            " [0.52463275]\n",
            " [0.5096715 ]\n",
            " [0.49769425]\n",
            " [0.47613114]\n",
            " [0.46696275]\n",
            " [0.47537184]\n",
            " [0.4787029 ]\n",
            " [0.48931378]\n",
            " [0.48609143]\n",
            " [0.47789508]]\n"
          ],
          "name": "stdout"
        }
      ]
    },
    {
      "cell_type": "code",
      "metadata": {
        "colab": {
          "base_uri": "https://localhost:8080/"
        },
        "id": "y5WIpQSsb3eQ",
        "outputId": "2a3a7361-b9df-4f44-cd8e-4bc5d4fda6ee"
      },
      "source": [
        "predictions = scaler.inverse_transform(predictions)\n",
        "print(predictions)"
      ],
      "execution_count": 18,
      "outputs": [
        {
          "output_type": "stream",
          "text": [
            "[[4.6939178]\n",
            " [4.7768373]\n",
            " [4.6254964]\n",
            " [4.652185 ]\n",
            " [4.4843245]\n",
            " [4.58307  ]\n",
            " [4.4214187]\n",
            " [4.299176 ]\n",
            " [4.5095277]\n",
            " [4.5452957]\n",
            " [4.6650395]\n",
            " [4.821042 ]\n",
            " [4.819915 ]\n",
            " [4.7638617]\n",
            " [4.8024397]\n",
            " [4.721695 ]\n",
            " [4.587044 ]\n",
            " [4.479248 ]\n",
            " [4.28518  ]\n",
            " [4.202665 ]\n",
            " [4.2783465]\n",
            " [4.3083262]\n",
            " [4.403824 ]\n",
            " [4.374823 ]\n",
            " [4.301056 ]]\n"
          ],
          "name": "stdout"
        }
      ]
    },
    {
      "cell_type": "code",
      "metadata": {
        "colab": {
          "base_uri": "https://localhost:8080/"
        },
        "id": "BICdP6C-b-5d",
        "outputId": "3bb8792a-e143-496b-fcb2-6c9a1aae5aae"
      },
      "source": [
        "root_mean_square_error=np.sqrt(np.mean(((predictions- y_test)**2)))\n",
        "print(root_mean_square_error)"
      ],
      "execution_count": 19,
      "outputs": [
        {
          "output_type": "stream",
          "text": [
            "2.685867954377458\n"
          ],
          "name": "stdout"
        }
      ]
    }
  ]
}