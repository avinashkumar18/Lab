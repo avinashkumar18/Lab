{
  "nbformat": 4,
  "nbformat_minor": 0,
  "metadata": {
    "colab": {
      "name": "Alexnet_Activity_4_1.ipynb",
      "provenance": [],
      "authorship_tag": "ABX9TyNM2ci36EEG0xMebCK2UrAm",
      "include_colab_link": true
    },
    "kernelspec": {
      "name": "python3",
      "display_name": "Python 3"
    },
    "language_info": {
      "name": "python"
    },
    "accelerator": "GPU"
  },
  "cells": [
    {
      "cell_type": "markdown",
      "metadata": {
        "id": "view-in-github",
        "colab_type": "text"
      },
      "source": [
        "<a href=\"https://colab.research.google.com/github/avinashkumar18/Lab/blob/main/Deep%20Learning/Assessment%204/Alexnet_Activity_4_1.ipynb\" target=\"_parent\"><img src=\"https://colab.research.google.com/assets/colab-badge.svg\" alt=\"Open In Colab\"/></a>"
      ]
    },
    {
      "cell_type": "markdown",
      "metadata": {
        "id": "HCke4V_VI-nd"
      },
      "source": [
        "1. Importing necessary packages"
      ]
    },
    {
      "cell_type": "code",
      "metadata": {
        "id": "ZqViKNvTEj4G"
      },
      "source": [
        "import numpy as np\n",
        "import pandas as pd"
      ],
      "execution_count": 4,
      "outputs": []
    },
    {
      "cell_type": "code",
      "metadata": {
        "id": "j5qsxk50GGku"
      },
      "source": [
        "import keras\n",
        "from keras.models import Sequential\n",
        "from keras.layers import Dense, Activation, Dropout, Flatten, Conv2D, MaxPooling2D\n",
        "from keras.layers.normalization import BatchNormalization"
      ],
      "execution_count": 3,
      "outputs": []
    },
    {
      "cell_type": "markdown",
      "metadata": {
        "id": "R78tiCUJJOOS"
      },
      "source": [
        "2. Initiate Alexnet"
      ]
    },
    {
      "cell_type": "code",
      "metadata": {
        "id": "FFJX5j81GIZ5"
      },
      "source": [
        "AlexNet = Sequential()"
      ],
      "execution_count": 4,
      "outputs": []
    },
    {
      "cell_type": "markdown",
      "metadata": {
        "id": "g9DEpWYnJTHI"
      },
      "source": [
        "3. Define the hidden layers"
      ]
    },
    {
      "cell_type": "code",
      "metadata": {
        "id": "HEfqgFXdGM6Z"
      },
      "source": [
        "#1st Convolutional Layer\n",
        "AlexNet.add(Conv2D(filters=96, input_shape=(32,32,3), kernel_size=(11,11), strides=(4,4), padding='same'))\n",
        "AlexNet.add(BatchNormalization())\n",
        "AlexNet.add(Activation('relu'))\n",
        "AlexNet.add(MaxPooling2D(pool_size=(2,2), strides=(2,2), padding='same'))"
      ],
      "execution_count": 5,
      "outputs": []
    },
    {
      "cell_type": "code",
      "metadata": {
        "id": "hmuC03gdGQ2H"
      },
      "source": [
        "#2nd Convolutional Layer\n",
        "AlexNet.add(Conv2D(filters=256, kernel_size=(5, 5), strides=(1,1), padding='same'))\n",
        "AlexNet.add(BatchNormalization())\n",
        "AlexNet.add(Activation('relu'))\n",
        "AlexNet.add(MaxPooling2D(pool_size=(2,2), strides=(2,2), padding='same'))"
      ],
      "execution_count": 6,
      "outputs": []
    },
    {
      "cell_type": "code",
      "metadata": {
        "id": "z9SjZ-09GUH0"
      },
      "source": [
        "#3rd Convolutional Layer\n",
        "AlexNet.add(Conv2D(filters=384, kernel_size=(3,3), strides=(1,1), padding='same'))\n",
        "AlexNet.add(BatchNormalization())\n",
        "AlexNet.add(Activation('relu'))"
      ],
      "execution_count": 7,
      "outputs": []
    },
    {
      "cell_type": "code",
      "metadata": {
        "id": "gLkBxNrNGZ-R"
      },
      "source": [
        "#4th Convolutional Layer\n",
        "AlexNet.add(Conv2D(filters=384, kernel_size=(3,3), strides=(1,1), padding='same'))\n",
        "AlexNet.add(BatchNormalization())\n",
        "AlexNet.add(Activation('relu'))"
      ],
      "execution_count": 8,
      "outputs": []
    },
    {
      "cell_type": "code",
      "metadata": {
        "id": "t3TS_oz-Gma2"
      },
      "source": [
        "#5th Convolutional Layer\n",
        "AlexNet.add(Conv2D(filters=256, kernel_size=(3,3), strides=(1,1), padding='same'))\n",
        "AlexNet.add(BatchNormalization())\n",
        "AlexNet.add(Activation('relu'))\n",
        "AlexNet.add(MaxPooling2D(pool_size=(2,2), strides=(2,2), padding='same'))"
      ],
      "execution_count": 9,
      "outputs": []
    },
    {
      "cell_type": "markdown",
      "metadata": {
        "id": "O8ap3LBWJa4G"
      },
      "source": [
        "4. Add the flatten layer"
      ]
    },
    {
      "cell_type": "code",
      "metadata": {
        "id": "wZ5RxtoVGqPQ"
      },
      "source": [
        "AlexNet.add(Flatten())"
      ],
      "execution_count": 10,
      "outputs": []
    },
    {
      "cell_type": "markdown",
      "metadata": {
        "id": "oRJxaUo_Jhnw"
      },
      "source": [
        "5. Add hidden layers"
      ]
    },
    {
      "cell_type": "code",
      "metadata": {
        "id": "T3b28DBOGsiF"
      },
      "source": [
        "# 1st Fully Connected Layer\n",
        "AlexNet.add(Dense(4096, input_shape=(32,32,3,)))\n",
        "AlexNet.add(BatchNormalization())\n",
        "AlexNet.add(Activation('relu'))"
      ],
      "execution_count": 11,
      "outputs": []
    },
    {
      "cell_type": "code",
      "metadata": {
        "id": "qDJINmCeGyD_"
      },
      "source": [
        "AlexNet.add(Dropout(0.4))"
      ],
      "execution_count": 12,
      "outputs": []
    },
    {
      "cell_type": "code",
      "metadata": {
        "id": "imnhZrHcHF0N"
      },
      "source": [
        "#2nd Fully Connected Layer\n",
        "AlexNet.add(Dense(4096))\n",
        "AlexNet.add(BatchNormalization())\n",
        "AlexNet.add(Activation('relu'))"
      ],
      "execution_count": 13,
      "outputs": []
    },
    {
      "cell_type": "code",
      "metadata": {
        "id": "J_vyauIZHITF"
      },
      "source": [
        "AlexNet.add(Dropout(0.4))"
      ],
      "execution_count": 14,
      "outputs": []
    },
    {
      "cell_type": "code",
      "metadata": {
        "id": "0c_74WUsHLHD"
      },
      "source": [
        "#3rd Fully Connected Layer\n",
        "AlexNet.add(Dense(1000))\n",
        "AlexNet.add(BatchNormalization())\n",
        "AlexNet.add(Activation('relu'))\n",
        "AlexNet.add(Dropout(0.4))"
      ],
      "execution_count": 15,
      "outputs": []
    },
    {
      "cell_type": "markdown",
      "metadata": {
        "id": "Cg10MwhOKGQD"
      },
      "source": [
        "6. Output Layer"
      ]
    },
    {
      "cell_type": "code",
      "metadata": {
        "id": "27XzSkp5HQgk"
      },
      "source": [
        "#Output Layer\n",
        "AlexNet.add(Dense(10))\n",
        "AlexNet.add(BatchNormalization())\n",
        "AlexNet.add(Activation('softmax'))"
      ],
      "execution_count": 16,
      "outputs": []
    },
    {
      "cell_type": "code",
      "metadata": {
        "colab": {
          "base_uri": "https://localhost:8080/"
        },
        "id": "s_XrpPNCHgmo",
        "outputId": "a0da93e5-eaa4-4f60-8043-f40bf4f72a33"
      },
      "source": [
        "AlexNet.summary()"
      ],
      "execution_count": 17,
      "outputs": [
        {
          "output_type": "stream",
          "text": [
            "Model: \"sequential\"\n",
            "_________________________________________________________________\n",
            "Layer (type)                 Output Shape              Param #   \n",
            "=================================================================\n",
            "conv2d (Conv2D)              (None, 8, 8, 96)          34944     \n",
            "_________________________________________________________________\n",
            "batch_normalization (BatchNo (None, 8, 8, 96)          384       \n",
            "_________________________________________________________________\n",
            "activation (Activation)      (None, 8, 8, 96)          0         \n",
            "_________________________________________________________________\n",
            "max_pooling2d (MaxPooling2D) (None, 4, 4, 96)          0         \n",
            "_________________________________________________________________\n",
            "conv2d_1 (Conv2D)            (None, 4, 4, 256)         614656    \n",
            "_________________________________________________________________\n",
            "batch_normalization_1 (Batch (None, 4, 4, 256)         1024      \n",
            "_________________________________________________________________\n",
            "activation_1 (Activation)    (None, 4, 4, 256)         0         \n",
            "_________________________________________________________________\n",
            "max_pooling2d_1 (MaxPooling2 (None, 2, 2, 256)         0         \n",
            "_________________________________________________________________\n",
            "conv2d_2 (Conv2D)            (None, 2, 2, 384)         885120    \n",
            "_________________________________________________________________\n",
            "batch_normalization_2 (Batch (None, 2, 2, 384)         1536      \n",
            "_________________________________________________________________\n",
            "activation_2 (Activation)    (None, 2, 2, 384)         0         \n",
            "_________________________________________________________________\n",
            "conv2d_3 (Conv2D)            (None, 2, 2, 384)         1327488   \n",
            "_________________________________________________________________\n",
            "batch_normalization_3 (Batch (None, 2, 2, 384)         1536      \n",
            "_________________________________________________________________\n",
            "activation_3 (Activation)    (None, 2, 2, 384)         0         \n",
            "_________________________________________________________________\n",
            "conv2d_4 (Conv2D)            (None, 2, 2, 256)         884992    \n",
            "_________________________________________________________________\n",
            "batch_normalization_4 (Batch (None, 2, 2, 256)         1024      \n",
            "_________________________________________________________________\n",
            "activation_4 (Activation)    (None, 2, 2, 256)         0         \n",
            "_________________________________________________________________\n",
            "max_pooling2d_2 (MaxPooling2 (None, 1, 1, 256)         0         \n",
            "_________________________________________________________________\n",
            "flatten (Flatten)            (None, 256)               0         \n",
            "_________________________________________________________________\n",
            "dense (Dense)                (None, 4096)              1052672   \n",
            "_________________________________________________________________\n",
            "batch_normalization_5 (Batch (None, 4096)              16384     \n",
            "_________________________________________________________________\n",
            "activation_5 (Activation)    (None, 4096)              0         \n",
            "_________________________________________________________________\n",
            "dropout (Dropout)            (None, 4096)              0         \n",
            "_________________________________________________________________\n",
            "dense_1 (Dense)              (None, 4096)              16781312  \n",
            "_________________________________________________________________\n",
            "batch_normalization_6 (Batch (None, 4096)              16384     \n",
            "_________________________________________________________________\n",
            "activation_6 (Activation)    (None, 4096)              0         \n",
            "_________________________________________________________________\n",
            "dropout_1 (Dropout)          (None, 4096)              0         \n",
            "_________________________________________________________________\n",
            "dense_2 (Dense)              (None, 1000)              4097000   \n",
            "_________________________________________________________________\n",
            "batch_normalization_7 (Batch (None, 1000)              4000      \n",
            "_________________________________________________________________\n",
            "activation_7 (Activation)    (None, 1000)              0         \n",
            "_________________________________________________________________\n",
            "dropout_2 (Dropout)          (None, 1000)              0         \n",
            "_________________________________________________________________\n",
            "dense_3 (Dense)              (None, 10)                10010     \n",
            "_________________________________________________________________\n",
            "batch_normalization_8 (Batch (None, 10)                40        \n",
            "_________________________________________________________________\n",
            "activation_8 (Activation)    (None, 10)                0         \n",
            "=================================================================\n",
            "Total params: 25,730,506\n",
            "Trainable params: 25,709,350\n",
            "Non-trainable params: 21,156\n",
            "_________________________________________________________________\n"
          ],
          "name": "stdout"
        }
      ]
    },
    {
      "cell_type": "markdown",
      "metadata": {
        "id": "mogo1HlSKNGC"
      },
      "source": [
        "7. Compiling the model. We can also use other optimizers like stochastic gradient descent but adam is more optimizable than SGD"
      ]
    },
    {
      "cell_type": "code",
      "metadata": {
        "id": "s2bUnpVbHnOM"
      },
      "source": [
        "AlexNet.compile(loss = keras.losses.categorical_crossentropy, optimizer= 'adam', metrics=['accuracy'])"
      ],
      "execution_count": 18,
      "outputs": []
    },
    {
      "cell_type": "markdown",
      "metadata": {
        "id": "vc38BhS7Kikr"
      },
      "source": [
        "8. Import Dataset from Keras package"
      ]
    },
    {
      "cell_type": "code",
      "metadata": {
        "id": "iTI_O8MLIFTN"
      },
      "source": [
        "from keras.datasets import cifar10\n",
        "(x_train, y_train),(x_test, y_test)=cifar10.load_data()"
      ],
      "execution_count": 19,
      "outputs": []
    },
    {
      "cell_type": "markdown",
      "metadata": {
        "id": "tPU0JJNSKorI"
      },
      "source": [
        "9. Split train and test data"
      ]
    },
    {
      "cell_type": "code",
      "metadata": {
        "id": "4gdpvUtDIHzl"
      },
      "source": [
        "from sklearn.model_selection import train_test_split\n",
        "x_train,x_val,y_train,y_val=train_test_split(x_train,y_train,test_size=.3)"
      ],
      "execution_count": 20,
      "outputs": []
    },
    {
      "cell_type": "code",
      "metadata": {
        "id": "ZUgTFPBGILUh"
      },
      "source": [
        "from sklearn.utils.multiclass import unique_labels\n",
        "from keras.utils import to_categorical"
      ],
      "execution_count": 11,
      "outputs": []
    },
    {
      "cell_type": "markdown",
      "metadata": {
        "id": "3rEv54DjK4pB"
      },
      "source": [
        "10. Encoding"
      ]
    },
    {
      "cell_type": "code",
      "metadata": {
        "id": "Tjo4c9YHISi8"
      },
      "source": [
        "y_train=to_categorical(y_train)\n",
        "y_val=to_categorical(y_val)\n",
        "y_test=to_categorical(y_test)\n",
        "batch_size= 100\n",
        "epochs=50"
      ],
      "execution_count": 22,
      "outputs": []
    },
    {
      "cell_type": "markdown",
      "metadata": {
        "id": "f7OTWmVmK6R7"
      },
      "source": [
        "11. fit the above model for the train and test dataset"
      ]
    },
    {
      "cell_type": "code",
      "metadata": {
        "colab": {
          "base_uri": "https://localhost:8080/"
        },
        "id": "VsSsQ9UaIbad",
        "outputId": "ec9d9bbc-33a5-4856-964c-1f1cee0fd473"
      },
      "source": [
        "AlexNet.fit(x_train, y_train, batch_size=batch_size, epochs=epochs, verbose=1, validation_data=(x_val, y_val))"
      ],
      "execution_count": 23,
      "outputs": [
        {
          "output_type": "stream",
          "text": [
            "Epoch 1/50\n",
            "350/350 [==============================] - 43s 25ms/step - loss: 1.8003 - accuracy: 0.3485 - val_loss: 2.2942 - val_accuracy: 0.2608\n",
            "Epoch 2/50\n",
            "350/350 [==============================] - 8s 23ms/step - loss: 1.4014 - accuracy: 0.5075 - val_loss: 2.2689 - val_accuracy: 0.2711\n",
            "Epoch 3/50\n",
            "350/350 [==============================] - 8s 23ms/step - loss: 1.2742 - accuracy: 0.5520 - val_loss: 1.5977 - val_accuracy: 0.4397\n",
            "Epoch 4/50\n",
            "350/350 [==============================] - 8s 23ms/step - loss: 1.1341 - accuracy: 0.6064 - val_loss: 1.4119 - val_accuracy: 0.4971\n",
            "Epoch 5/50\n",
            "350/350 [==============================] - 8s 23ms/step - loss: 1.0594 - accuracy: 0.6365 - val_loss: 1.7419 - val_accuracy: 0.4216\n",
            "Epoch 6/50\n",
            "350/350 [==============================] - 8s 23ms/step - loss: 0.9471 - accuracy: 0.6795 - val_loss: 1.5772 - val_accuracy: 0.4858\n",
            "Epoch 7/50\n",
            "350/350 [==============================] - 8s 23ms/step - loss: 0.8513 - accuracy: 0.7158 - val_loss: 1.5057 - val_accuracy: 0.4973\n",
            "Epoch 8/50\n",
            "350/350 [==============================] - 8s 24ms/step - loss: 0.7524 - accuracy: 0.7500 - val_loss: 2.2069 - val_accuracy: 0.3521\n",
            "Epoch 9/50\n",
            "350/350 [==============================] - 8s 23ms/step - loss: 0.6573 - accuracy: 0.7880 - val_loss: 1.7791 - val_accuracy: 0.4459\n",
            "Epoch 10/50\n",
            "350/350 [==============================] - 8s 23ms/step - loss: 0.5917 - accuracy: 0.8133 - val_loss: 1.6125 - val_accuracy: 0.5019\n",
            "Epoch 11/50\n",
            "350/350 [==============================] - 8s 23ms/step - loss: 0.5048 - accuracy: 0.8404 - val_loss: 1.5480 - val_accuracy: 0.5261\n",
            "Epoch 12/50\n",
            "350/350 [==============================] - 8s 23ms/step - loss: 0.4320 - accuracy: 0.8653 - val_loss: 1.5657 - val_accuracy: 0.5328\n",
            "Epoch 13/50\n",
            "350/350 [==============================] - 8s 23ms/step - loss: 0.3727 - accuracy: 0.8866 - val_loss: 1.9379 - val_accuracy: 0.4497\n",
            "Epoch 14/50\n",
            "350/350 [==============================] - 8s 23ms/step - loss: 0.3310 - accuracy: 0.8977 - val_loss: 2.2059 - val_accuracy: 0.4127\n",
            "Epoch 15/50\n",
            "350/350 [==============================] - 8s 23ms/step - loss: 0.2931 - accuracy: 0.9102 - val_loss: 1.9297 - val_accuracy: 0.4855\n",
            "Epoch 16/50\n",
            "350/350 [==============================] - 8s 23ms/step - loss: 0.2492 - accuracy: 0.9253 - val_loss: 1.8498 - val_accuracy: 0.5087\n",
            "Epoch 17/50\n",
            "350/350 [==============================] - 8s 23ms/step - loss: 0.2191 - accuracy: 0.9345 - val_loss: 1.8930 - val_accuracy: 0.5123\n",
            "Epoch 18/50\n",
            "350/350 [==============================] - 8s 23ms/step - loss: 0.2113 - accuracy: 0.9369 - val_loss: 1.3990 - val_accuracy: 0.6182\n",
            "Epoch 19/50\n",
            "350/350 [==============================] - 8s 23ms/step - loss: 0.1787 - accuracy: 0.9459 - val_loss: 1.7925 - val_accuracy: 0.5242\n",
            "Epoch 20/50\n",
            "350/350 [==============================] - 8s 23ms/step - loss: 0.1679 - accuracy: 0.9492 - val_loss: 2.1805 - val_accuracy: 0.4573\n",
            "Epoch 21/50\n",
            "350/350 [==============================] - 8s 23ms/step - loss: 0.1554 - accuracy: 0.9545 - val_loss: 1.8321 - val_accuracy: 0.5236\n",
            "Epoch 22/50\n",
            "350/350 [==============================] - 8s 23ms/step - loss: 0.1487 - accuracy: 0.9559 - val_loss: 1.5181 - val_accuracy: 0.5915\n",
            "Epoch 23/50\n",
            "350/350 [==============================] - 8s 23ms/step - loss: 0.1327 - accuracy: 0.9599 - val_loss: 1.5311 - val_accuracy: 0.5910\n",
            "Epoch 24/50\n",
            "350/350 [==============================] - 8s 23ms/step - loss: 0.1308 - accuracy: 0.9609 - val_loss: 2.6511 - val_accuracy: 0.3988\n",
            "Epoch 25/50\n",
            "350/350 [==============================] - 8s 23ms/step - loss: 0.1155 - accuracy: 0.9656 - val_loss: 2.6598 - val_accuracy: 0.3751\n",
            "Epoch 26/50\n",
            "350/350 [==============================] - 8s 23ms/step - loss: 0.1153 - accuracy: 0.9650 - val_loss: 2.2444 - val_accuracy: 0.4950\n",
            "Epoch 27/50\n",
            "350/350 [==============================] - 8s 23ms/step - loss: 0.1054 - accuracy: 0.9681 - val_loss: 2.3922 - val_accuracy: 0.4463\n",
            "Epoch 28/50\n",
            "350/350 [==============================] - 8s 23ms/step - loss: 0.1058 - accuracy: 0.9686 - val_loss: 2.2318 - val_accuracy: 0.4826\n",
            "Epoch 29/50\n",
            "350/350 [==============================] - 8s 23ms/step - loss: 0.0999 - accuracy: 0.9701 - val_loss: 1.9475 - val_accuracy: 0.5562\n",
            "Epoch 30/50\n",
            "350/350 [==============================] - 8s 23ms/step - loss: 0.0942 - accuracy: 0.9714 - val_loss: 1.9023 - val_accuracy: 0.5287\n",
            "Epoch 31/50\n",
            "350/350 [==============================] - 8s 23ms/step - loss: 0.0939 - accuracy: 0.9718 - val_loss: 2.0956 - val_accuracy: 0.4781\n",
            "Epoch 32/50\n",
            "350/350 [==============================] - 8s 23ms/step - loss: 0.0772 - accuracy: 0.9779 - val_loss: 2.2055 - val_accuracy: 0.4917\n",
            "Epoch 33/50\n",
            "350/350 [==============================] - 8s 23ms/step - loss: 0.0811 - accuracy: 0.9751 - val_loss: 1.8413 - val_accuracy: 0.5512\n",
            "Epoch 34/50\n",
            "350/350 [==============================] - 8s 23ms/step - loss: 0.0793 - accuracy: 0.9751 - val_loss: 2.3994 - val_accuracy: 0.4986\n",
            "Epoch 35/50\n",
            "350/350 [==============================] - 8s 23ms/step - loss: 0.0838 - accuracy: 0.9756 - val_loss: 1.9542 - val_accuracy: 0.5668\n",
            "Epoch 36/50\n",
            "350/350 [==============================] - 8s 23ms/step - loss: 0.0715 - accuracy: 0.9786 - val_loss: 2.1014 - val_accuracy: 0.5329\n",
            "Epoch 37/50\n",
            "350/350 [==============================] - 8s 23ms/step - loss: 0.0770 - accuracy: 0.9764 - val_loss: 1.7556 - val_accuracy: 0.5910\n",
            "Epoch 38/50\n",
            "350/350 [==============================] - 8s 23ms/step - loss: 0.0755 - accuracy: 0.9770 - val_loss: 1.8749 - val_accuracy: 0.5533\n",
            "Epoch 39/50\n",
            "350/350 [==============================] - 8s 23ms/step - loss: 0.0654 - accuracy: 0.9796 - val_loss: 2.3937 - val_accuracy: 0.4947\n",
            "Epoch 40/50\n",
            "350/350 [==============================] - 8s 23ms/step - loss: 0.0630 - accuracy: 0.9805 - val_loss: 1.9580 - val_accuracy: 0.5628\n",
            "Epoch 41/50\n",
            "350/350 [==============================] - 8s 23ms/step - loss: 0.0624 - accuracy: 0.9814 - val_loss: 2.0341 - val_accuracy: 0.5492\n",
            "Epoch 42/50\n",
            "350/350 [==============================] - 8s 23ms/step - loss: 0.0643 - accuracy: 0.9804 - val_loss: 2.3483 - val_accuracy: 0.4759\n",
            "Epoch 43/50\n",
            "350/350 [==============================] - 8s 23ms/step - loss: 0.0530 - accuracy: 0.9834 - val_loss: 2.1892 - val_accuracy: 0.5185\n",
            "Epoch 44/50\n",
            "350/350 [==============================] - 8s 23ms/step - loss: 0.0580 - accuracy: 0.9816 - val_loss: 2.3696 - val_accuracy: 0.5231\n",
            "Epoch 45/50\n",
            "350/350 [==============================] - 8s 23ms/step - loss: 0.0578 - accuracy: 0.9822 - val_loss: 1.5967 - val_accuracy: 0.6153\n",
            "Epoch 46/50\n",
            "350/350 [==============================] - 8s 23ms/step - loss: 0.0589 - accuracy: 0.9812 - val_loss: 2.0232 - val_accuracy: 0.5623\n",
            "Epoch 47/50\n",
            "350/350 [==============================] - 8s 23ms/step - loss: 0.0475 - accuracy: 0.9849 - val_loss: 2.0684 - val_accuracy: 0.5448\n",
            "Epoch 48/50\n",
            "350/350 [==============================] - 8s 23ms/step - loss: 0.0541 - accuracy: 0.9834 - val_loss: 2.5295 - val_accuracy: 0.4750\n",
            "Epoch 49/50\n",
            "350/350 [==============================] - 8s 23ms/step - loss: 0.0496 - accuracy: 0.9845 - val_loss: 2.6100 - val_accuracy: 0.4772\n",
            "Epoch 50/50\n",
            "350/350 [==============================] - 8s 23ms/step - loss: 0.0549 - accuracy: 0.9836 - val_loss: 1.9001 - val_accuracy: 0.5748\n"
          ],
          "name": "stdout"
        },
        {
          "output_type": "execute_result",
          "data": {
            "text/plain": [
              "<tensorflow.python.keras.callbacks.History at 0x7f7477657b10>"
            ]
          },
          "metadata": {
            "tags": []
          },
          "execution_count": 23
        }
      ]
    },
    {
      "cell_type": "code",
      "metadata": {
        "colab": {
          "base_uri": "https://localhost:8080/"
        },
        "id": "cmcq2473Inm3",
        "outputId": "f194b07f-5f9e-4804-ce2d-137bc3ea102e"
      },
      "source": [
        "AlexNet.evaluate(x_test,y_test)"
      ],
      "execution_count": 24,
      "outputs": [
        {
          "output_type": "stream",
          "text": [
            "313/313 [==============================] - 2s 5ms/step - loss: 1.8884 - accuracy: 0.5801\n"
          ],
          "name": "stdout"
        },
        {
          "output_type": "execute_result",
          "data": {
            "text/plain": [
              "[1.8884403705596924, 0.5800999999046326]"
            ]
          },
          "metadata": {
            "tags": []
          },
          "execution_count": 24
        }
      ]
    },
    {
      "cell_type": "code",
      "metadata": {
        "id": "XPxuPEvbLwOe"
      },
      "source": [
        "!mkdir -p saved_model\n",
        "AlexNet.save('AlexNetModel.h5')"
      ],
      "execution_count": 25,
      "outputs": []
    },
    {
      "cell_type": "code",
      "metadata": {
        "id": "i0Ie1PpgL0xg"
      },
      "source": [
        "import tensorflow as tf\n",
        "Base_model = tf.keras.models.load_model('AlexNetModel.h5')\n",
        "(X_train,Y_train), (X_valid, Y_valid) = tf.keras.datasets.mnist.load_data()"
      ],
      "execution_count": 18,
      "outputs": []
    },
    {
      "cell_type": "code",
      "metadata": {
        "id": "eh7Vq6EmY5ap"
      },
      "source": [
        "trainX = trainX.reshape((trainX.shape[0], 28, 28, 1))\n",
        "testX = testX.reshape((testX.shape[0], 28, 28, 1))"
      ],
      "execution_count": 9,
      "outputs": []
    },
    {
      "cell_type": "code",
      "metadata": {
        "id": "w9PkGg-eZIJ2"
      },
      "source": [
        "trainY = to_categorical(trainY)\n",
        "testY = to_categorical(testY)"
      ],
      "execution_count": 12,
      "outputs": []
    },
    {
      "cell_type": "code",
      "metadata": {
        "id": "HJRR7-niNGIa"
      },
      "source": [
        "X_train = np.expand_dims(X_train, axis=-1)\n",
        "X_train = np.repeat(X_train, 3, axis=-1)\n",
        "X_train = X_train.astype('float32') / 255\n",
        "X_train = tf.image.resize(X_train, [32,32])"
      ],
      "execution_count": 27,
      "outputs": []
    },
    {
      "cell_type": "code",
      "metadata": {
        "id": "PL7sl0aVNaOB"
      },
      "source": [
        "X_valid = np.expand_dims(X_valid, axis=-1)\n",
        "X_valid = np.repeat(X_valid, 3, axis=-1)\n",
        "X_valid = X_valid.astype('float32') / 255\n",
        "X_valid = tf.image.resize(X_valid, [32,32]) "
      ],
      "execution_count": 28,
      "outputs": []
    },
    {
      "cell_type": "code",
      "metadata": {
        "id": "EDcpuK4Mbvg4"
      },
      "source": [
        "Y_train = np.expand_dims(Y_train, axis=-1)\n",
        "Y_train = np.repeat(Y_train, 3, axis=-1)\n",
        "Y_train = Y_train.astype('float32') / 255\n",
        "Y_train = tf.image.resize(Y_train, [32,32])"
      ],
      "execution_count": null,
      "outputs": []
    },
    {
      "cell_type": "code",
      "metadata": {
        "id": "NJDq2tdhcWZ5"
      },
      "source": [
        "Y_valid = np.expand_dims(Y_valid, axis=-1)\n",
        "Y_valid = np.repeat(Y_valid, 3, axis=-1)\n",
        "Y_valid = Y_valid.astype('float32') / 255\n",
        "Y_valid = tf.image.resize(Y_valid, [32,32]) "
      ],
      "execution_count": null,
      "outputs": []
    },
    {
      "cell_type": "code",
      "metadata": {
        "id": "6algzaQjNmue"
      },
      "source": [
        "import os\n",
        "from keras.utils import np_utils\n",
        "nb_train_samples=60000\n",
        "nb_valid_samples=10000\n",
        "num_classes=10\n",
        "Y_train = np_utils.to_categorical(Y_train[:nb_train_samples], num_classes)\n",
        "Y_valid = np_utils.to_categorical(Y_valid[:nb_valid_samples], num_classes)"
      ],
      "execution_count": 33,
      "outputs": []
    },
    {
      "cell_type": "code",
      "metadata": {
        "colab": {
          "base_uri": "https://localhost:8080/"
        },
        "id": "zqqIeXyzbcbK",
        "outputId": "f4887f1d-3689-4b53-e542-c50b6e257533"
      },
      "source": [
        "print((X_train.shape,Y_train.shape))\n",
        "print((X_valid.shape,Y_valid.shape))"
      ],
      "execution_count": 34,
      "outputs": [
        {
          "output_type": "stream",
          "text": [
            "(TensorShape([60000, 32, 32, 3]), (32, 32, 3, 10))\n",
            "(TensorShape([10000, 32, 32, 3]), (32, 32, 3, 10))\n"
          ],
          "name": "stdout"
        }
      ]
    },
    {
      "cell_type": "code",
      "metadata": {
        "id": "MB_XQfN2NoeR"
      },
      "source": [
        "new_model = tf.keras.models.load_model('AlexNetModel.h5')"
      ],
      "execution_count": 35,
      "outputs": []
    },
    {
      "cell_type": "code",
      "metadata": {
        "id": "rPac0TC_U9Kh"
      },
      "source": [
        "new_model.trainable=False"
      ],
      "execution_count": 36,
      "outputs": []
    },
    {
      "cell_type": "code",
      "metadata": {
        "id": "B9THB7W3VFWh"
      },
      "source": [
        "model = tf.keras.Sequential([new_model, tf.keras.layers.Flatten(), tf.keras.layers.Dense(10, activation='softmax')])"
      ],
      "execution_count": 37,
      "outputs": []
    },
    {
      "cell_type": "code",
      "metadata": {
        "id": "P4I9TRaQVKIK"
      },
      "source": [
        "model.compile(optimizer='adam', loss = 'categorical_crossentropy', metrics=['accuracy'])"
      ],
      "execution_count": 38,
      "outputs": []
    },
    {
      "cell_type": "code",
      "metadata": {
        "colab": {
          "base_uri": "https://localhost:8080/"
        },
        "id": "WIXxh8gMVR8V",
        "outputId": "cf0c3378-bf00-4197-c2c5-42b0a084ee5e"
      },
      "source": [
        "model.summary()"
      ],
      "execution_count": 39,
      "outputs": [
        {
          "output_type": "stream",
          "text": [
            "Model: \"sequential_2\"\n",
            "_________________________________________________________________\n",
            "Layer (type)                 Output Shape              Param #   \n",
            "=================================================================\n",
            "sequential (Sequential)      (None, 10)                25730506  \n",
            "_________________________________________________________________\n",
            "flatten_2 (Flatten)          (None, 10)                0         \n",
            "_________________________________________________________________\n",
            "dense_2 (Dense)              (None, 10)                110       \n",
            "=================================================================\n",
            "Total params: 25,730,616\n",
            "Trainable params: 110\n",
            "Non-trainable params: 25,730,506\n",
            "_________________________________________________________________\n"
          ],
          "name": "stdout"
        }
      ]
    },
    {
      "cell_type": "code",
      "metadata": {
        "id": "UOCGE4TiVVbp"
      },
      "source": [
        "final_fit = model.fit(X_train, Y_train, batch_size=100, epochs=50, verbose=1, validation_data=(X_valid, Y_valid))"
      ],
      "execution_count": null,
      "outputs": []
    }
  ]
}