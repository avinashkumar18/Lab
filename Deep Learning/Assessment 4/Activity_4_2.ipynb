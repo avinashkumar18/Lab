{
  "nbformat": 4,
  "nbformat_minor": 0,
  "metadata": {
    "colab": {
      "name": "Activity_4_2.ipynb",
      "provenance": [],
      "authorship_tag": "ABX9TyNGG0XrNHkLz3VnigxFkIJG",
      "include_colab_link": true
    },
    "kernelspec": {
      "name": "python3",
      "display_name": "Python 3"
    },
    "language_info": {
      "name": "python"
    },
    "accelerator": "GPU"
  },
  "cells": [
    {
      "cell_type": "markdown",
      "metadata": {
        "id": "view-in-github",
        "colab_type": "text"
      },
      "source": [
        "<a href=\"https://colab.research.google.com/github/avinashkumar18/Lab/blob/main/Deep%20Learning/Assessment%204/Activity_4_2.ipynb\" target=\"_parent\"><img src=\"https://colab.research.google.com/assets/colab-badge.svg\" alt=\"Open In Colab\"/></a>"
      ]
    },
    {
      "cell_type": "code",
      "metadata": {
        "id": "XGFGcATngNxN"
      },
      "source": [
        "import keras\n",
        "from keras.layers import Conv2D, MaxPooling2D, ZeroPadding2D, Convolution2D\n",
        "from keras import backend as K\n",
        "import tensorflow as tf\n",
        "import matplotlib.pyplot as plt\n",
        "from keras.datasets import cifar10\n",
        "from keras.preprocessing.image import ImageDataGenerator\n",
        "from keras.models import Sequential\n",
        "from keras.layers import Dense, Dropout, Activation, Flatten\n",
        "from keras.layers import Conv2D, MaxPooling2D, BatchNormalization\n",
        "from keras import optimizers\n",
        "import numpy as np\n",
        "from keras.layers.core import Lambda\n",
        "from keras import backend as K\n",
        "from keras import regularizers"
      ],
      "execution_count": 1,
      "outputs": []
    },
    {
      "cell_type": "code",
      "metadata": {
        "colab": {
          "base_uri": "https://localhost:8080/"
        },
        "id": "cR8UsdyZgURC",
        "outputId": "2f2137c2-df15-462b-d772-cd11749858e9"
      },
      "source": [
        "from keras.datasets import cifar10\n",
        "\n",
        "(x_train, y_train), (x_test, y_test) = cifar10.load_data()\n",
        "x_train = x_train.astype('float32')\n",
        "x_test = x_test.astype('float32')\n",
        "\n",
        "y_train = keras.utils.to_categorical(y_train, 10)\n",
        "y_test = keras.utils.to_categorical(y_test, 10)"
      ],
      "execution_count": 2,
      "outputs": [
        {
          "output_type": "stream",
          "text": [
            "Downloading data from https://www.cs.toronto.edu/~kriz/cifar-10-python.tar.gz\n",
            "170500096/170498071 [==============================] - 4s 0us/step\n"
          ],
          "name": "stdout"
        }
      ]
    },
    {
      "cell_type": "code",
      "metadata": {
        "id": "N-y5F-jIgdSB"
      },
      "source": [
        "model = Sequential()\n",
        "weight_decay = 0.0005\n",
        "x_shape = [32,32,3]"
      ],
      "execution_count": 3,
      "outputs": []
    },
    {
      "cell_type": "code",
      "metadata": {
        "id": "-I8prZHcgg0c"
      },
      "source": [
        "model.add(Conv2D(64, (3, 3), padding='same', input_shape=x_shape, kernel_regularizer=regularizers.l2(weight_decay)))\n",
        "model.add(Activation('relu'))\n",
        "model.add(BatchNormalization())\n",
        "model.add(Dropout(0.3))"
      ],
      "execution_count": 4,
      "outputs": []
    },
    {
      "cell_type": "code",
      "metadata": {
        "id": "vRlqqeQ8gkM5"
      },
      "source": [
        "model.add(Conv2D(64, (3, 3), padding='same',kernel_regularizer=regularizers.l2(weight_decay)))\n",
        "model.add(Activation('relu'))\n",
        "model.add(BatchNormalization())"
      ],
      "execution_count": 5,
      "outputs": []
    },
    {
      "cell_type": "code",
      "metadata": {
        "id": "i_AgtqyZgmCC"
      },
      "source": [
        "model.add(MaxPooling2D(pool_size=(2, 2)))"
      ],
      "execution_count": 6,
      "outputs": []
    },
    {
      "cell_type": "code",
      "metadata": {
        "id": "pvkPCuUHgnzm"
      },
      "source": [
        "model.add(Conv2D(128, (3, 3), padding='same',kernel_regularizer=regularizers.l2(weight_decay)))\n",
        "model.add(Activation('relu'))\n",
        "model.add(BatchNormalization())\n",
        "model.add(Dropout(0.4))"
      ],
      "execution_count": 7,
      "outputs": []
    },
    {
      "cell_type": "code",
      "metadata": {
        "id": "DYOd9WVzgpei"
      },
      "source": [
        "model.add(Conv2D(128, (3, 3), padding='same',kernel_regularizer=regularizers.l2(weight_decay)))\n",
        "model.add(Activation('relu'))\n",
        "model.add(BatchNormalization())"
      ],
      "execution_count": 8,
      "outputs": []
    },
    {
      "cell_type": "code",
      "metadata": {
        "id": "al2WIxDvgrEA"
      },
      "source": [
        "model.add(MaxPooling2D(pool_size=(2, 2)))"
      ],
      "execution_count": 9,
      "outputs": []
    },
    {
      "cell_type": "code",
      "metadata": {
        "id": "QD-l52m3gs36"
      },
      "source": [
        "model.add(Conv2D(256, (3, 3), padding='same',kernel_regularizer=regularizers.l2(weight_decay)))\n",
        "model.add(Activation('relu'))\n",
        "model.add(BatchNormalization())\n",
        "model.add(Dropout(0.4))"
      ],
      "execution_count": 10,
      "outputs": []
    },
    {
      "cell_type": "code",
      "metadata": {
        "id": "wXW4PICxguT4"
      },
      "source": [
        "model.add(Conv2D(256, (3, 3), padding='same',kernel_regularizer=regularizers.l2(weight_decay)))\n",
        "model.add(Activation('relu'))\n",
        "model.add(BatchNormalization())\n",
        "model.add(Dropout(0.4))\n"
      ],
      "execution_count": 11,
      "outputs": []
    },
    {
      "cell_type": "code",
      "metadata": {
        "id": "_fVTCYuqgwVk"
      },
      "source": [
        "model.add(Conv2D(256, (3, 3), padding='same',kernel_regularizer=regularizers.l2(weight_decay)))\n",
        "model.add(Activation('relu'))\n",
        "model.add(BatchNormalization())"
      ],
      "execution_count": 12,
      "outputs": []
    },
    {
      "cell_type": "code",
      "metadata": {
        "id": "F-aexTdPgyUY"
      },
      "source": [
        "model.add(MaxPooling2D(pool_size=(2, 2)))"
      ],
      "execution_count": 13,
      "outputs": []
    },
    {
      "cell_type": "code",
      "metadata": {
        "id": "tEhzo3DCg0M4"
      },
      "source": [
        "model.add(Conv2D(512, (3, 3), padding='same',kernel_regularizer=regularizers.l2(weight_decay)))\n",
        "model.add(Activation('relu'))\n",
        "model.add(BatchNormalization())\n",
        "model.add(Dropout(0.4))"
      ],
      "execution_count": 14,
      "outputs": []
    },
    {
      "cell_type": "code",
      "metadata": {
        "id": "Imzze4uVg1wr"
      },
      "source": [
        "model.add(Conv2D(512, (3, 3), padding='same',kernel_regularizer=regularizers.l2(weight_decay)))\n",
        "model.add(Activation('relu'))\n",
        "model.add(BatchNormalization())\n",
        "model.add(Dropout(0.4))"
      ],
      "execution_count": 15,
      "outputs": []
    },
    {
      "cell_type": "code",
      "metadata": {
        "id": "4Yofuexcg3VT"
      },
      "source": [
        "model.add(Conv2D(512, (3, 3), padding='same',kernel_regularizer=regularizers.l2(weight_decay)))\n",
        "model.add(Activation('relu'))\n",
        "model.add(BatchNormalization())"
      ],
      "execution_count": 16,
      "outputs": []
    },
    {
      "cell_type": "code",
      "metadata": {
        "id": "0cUrw-8Bg7ML"
      },
      "source": [
        "model.add(MaxPooling2D(pool_size=(2, 2)))"
      ],
      "execution_count": 17,
      "outputs": []
    },
    {
      "cell_type": "code",
      "metadata": {
        "id": "ECbJjai1g8xE"
      },
      "source": [
        "model.add(Conv2D(512, (3, 3), padding='same',kernel_regularizer=regularizers.l2(weight_decay)))\n",
        "model.add(Activation('relu'))\n",
        "model.add(BatchNormalization())\n",
        "model.add(Dropout(0.4))"
      ],
      "execution_count": 18,
      "outputs": []
    },
    {
      "cell_type": "code",
      "metadata": {
        "id": "7oR1eKXBg-na"
      },
      "source": [
        "model.add(Conv2D(512, (3, 3), padding='same',kernel_regularizer=regularizers.l2(weight_decay)))\n",
        "model.add(Activation('relu'))\n",
        "model.add(BatchNormalization())\n",
        "model.add(Dropout(0.4))"
      ],
      "execution_count": 19,
      "outputs": []
    },
    {
      "cell_type": "code",
      "metadata": {
        "id": "T58o2VzlhAR7"
      },
      "source": [
        "model.add(Conv2D(512, (3, 3), padding='same',kernel_regularizer=regularizers.l2(weight_decay)))\n",
        "model.add(Activation('relu'))\n",
        "model.add(BatchNormalization())"
      ],
      "execution_count": 20,
      "outputs": []
    },
    {
      "cell_type": "code",
      "metadata": {
        "id": "2Hf7DnwZhBzk"
      },
      "source": [
        "model.add(MaxPooling2D(pool_size=(2, 2)))\n",
        "model.add(Dropout(0.5))"
      ],
      "execution_count": 21,
      "outputs": []
    },
    {
      "cell_type": "code",
      "metadata": {
        "id": "jVG1WqKJhDP9"
      },
      "source": [
        "model.add(Flatten())\n",
        "model.add(Dense(512,kernel_regularizer=regularizers.l2(weight_decay)))\n",
        "model.add(Activation('relu'))\n",
        "model.add(BatchNormalization())"
      ],
      "execution_count": 22,
      "outputs": []
    },
    {
      "cell_type": "code",
      "metadata": {
        "id": "xdXk0Da4hEw1"
      },
      "source": [
        "model.add(Dropout(0.5))\n",
        "model.add(Dense(10))\n",
        "model.add(Activation('softmax'))"
      ],
      "execution_count": 23,
      "outputs": []
    },
    {
      "cell_type": "code",
      "metadata": {
        "id": "P5nm3T8EhGGB"
      },
      "source": [
        "learning_rate = 0.1\n",
        "lr_decay = 1e-6\n",
        "lr_drop = 20"
      ],
      "execution_count": 24,
      "outputs": []
    },
    {
      "cell_type": "code",
      "metadata": {
        "id": "zZ70P9N7hH6k"
      },
      "source": [
        "sgd = optimizers.SGD(lr=learning_rate, decay=lr_decay, momentum=0.9, nesterov=True)"
      ],
      "execution_count": 25,
      "outputs": []
    },
    {
      "cell_type": "code",
      "metadata": {
        "id": "74eitN5ShJzr"
      },
      "source": [
        "model.compile(loss='categorical_crossentropy', optimizer=sgd, metrics=['accuracy'])"
      ],
      "execution_count": 26,
      "outputs": []
    },
    {
      "cell_type": "code",
      "metadata": {
        "id": "JZW82Jh6hLfK"
      },
      "source": [
        "\n",
        "datagen = ImageDataGenerator(featurewise_center=False,  \n",
        "    samplewise_center=False, featurewise_std_normalization=False,\n",
        "    samplewise_std_normalization=False, zca_whitening=False, \n",
        "    rotation_range=15, width_shift_range=0.1,  \n",
        "    height_shift_range=0.1, horizontal_flip=True, vertical_flip=False) "
      ],
      "execution_count": 27,
      "outputs": []
    },
    {
      "cell_type": "code",
      "metadata": {
        "id": "YM2luKUXheSw"
      },
      "source": [
        "def lr_scheduler(epoch):\n",
        "            return learning_rate * (0.5 ** (epoch // lr_drop))\n",
        "    \n",
        "reduce_lr = keras.callbacks.LearningRateScheduler(lr_scheduler)"
      ],
      "execution_count": 28,
      "outputs": []
    },
    {
      "cell_type": "code",
      "metadata": {
        "colab": {
          "base_uri": "https://localhost:8080/"
        },
        "id": "BtR26ugkhgvI",
        "outputId": "3c28bb1a-eeea-4929-d4ff-d8e2f82dd74f"
      },
      "source": [
        "model.summary()"
      ],
      "execution_count": 29,
      "outputs": [
        {
          "output_type": "stream",
          "text": [
            "Model: \"sequential\"\n",
            "_________________________________________________________________\n",
            "Layer (type)                 Output Shape              Param #   \n",
            "=================================================================\n",
            "conv2d (Conv2D)              (None, 32, 32, 64)        1792      \n",
            "_________________________________________________________________\n",
            "activation (Activation)      (None, 32, 32, 64)        0         \n",
            "_________________________________________________________________\n",
            "batch_normalization (BatchNo (None, 32, 32, 64)        256       \n",
            "_________________________________________________________________\n",
            "dropout (Dropout)            (None, 32, 32, 64)        0         \n",
            "_________________________________________________________________\n",
            "conv2d_1 (Conv2D)            (None, 32, 32, 64)        36928     \n",
            "_________________________________________________________________\n",
            "activation_1 (Activation)    (None, 32, 32, 64)        0         \n",
            "_________________________________________________________________\n",
            "batch_normalization_1 (Batch (None, 32, 32, 64)        256       \n",
            "_________________________________________________________________\n",
            "max_pooling2d (MaxPooling2D) (None, 16, 16, 64)        0         \n",
            "_________________________________________________________________\n",
            "conv2d_2 (Conv2D)            (None, 16, 16, 128)       73856     \n",
            "_________________________________________________________________\n",
            "activation_2 (Activation)    (None, 16, 16, 128)       0         \n",
            "_________________________________________________________________\n",
            "batch_normalization_2 (Batch (None, 16, 16, 128)       512       \n",
            "_________________________________________________________________\n",
            "dropout_1 (Dropout)          (None, 16, 16, 128)       0         \n",
            "_________________________________________________________________\n",
            "conv2d_3 (Conv2D)            (None, 16, 16, 128)       147584    \n",
            "_________________________________________________________________\n",
            "activation_3 (Activation)    (None, 16, 16, 128)       0         \n",
            "_________________________________________________________________\n",
            "batch_normalization_3 (Batch (None, 16, 16, 128)       512       \n",
            "_________________________________________________________________\n",
            "max_pooling2d_1 (MaxPooling2 (None, 8, 8, 128)         0         \n",
            "_________________________________________________________________\n",
            "conv2d_4 (Conv2D)            (None, 8, 8, 256)         295168    \n",
            "_________________________________________________________________\n",
            "activation_4 (Activation)    (None, 8, 8, 256)         0         \n",
            "_________________________________________________________________\n",
            "batch_normalization_4 (Batch (None, 8, 8, 256)         1024      \n",
            "_________________________________________________________________\n",
            "dropout_2 (Dropout)          (None, 8, 8, 256)         0         \n",
            "_________________________________________________________________\n",
            "conv2d_5 (Conv2D)            (None, 8, 8, 256)         590080    \n",
            "_________________________________________________________________\n",
            "activation_5 (Activation)    (None, 8, 8, 256)         0         \n",
            "_________________________________________________________________\n",
            "batch_normalization_5 (Batch (None, 8, 8, 256)         1024      \n",
            "_________________________________________________________________\n",
            "dropout_3 (Dropout)          (None, 8, 8, 256)         0         \n",
            "_________________________________________________________________\n",
            "conv2d_6 (Conv2D)            (None, 8, 8, 256)         590080    \n",
            "_________________________________________________________________\n",
            "activation_6 (Activation)    (None, 8, 8, 256)         0         \n",
            "_________________________________________________________________\n",
            "batch_normalization_6 (Batch (None, 8, 8, 256)         1024      \n",
            "_________________________________________________________________\n",
            "max_pooling2d_2 (MaxPooling2 (None, 4, 4, 256)         0         \n",
            "_________________________________________________________________\n",
            "conv2d_7 (Conv2D)            (None, 4, 4, 512)         1180160   \n",
            "_________________________________________________________________\n",
            "activation_7 (Activation)    (None, 4, 4, 512)         0         \n",
            "_________________________________________________________________\n",
            "batch_normalization_7 (Batch (None, 4, 4, 512)         2048      \n",
            "_________________________________________________________________\n",
            "dropout_4 (Dropout)          (None, 4, 4, 512)         0         \n",
            "_________________________________________________________________\n",
            "conv2d_8 (Conv2D)            (None, 4, 4, 512)         2359808   \n",
            "_________________________________________________________________\n",
            "activation_8 (Activation)    (None, 4, 4, 512)         0         \n",
            "_________________________________________________________________\n",
            "batch_normalization_8 (Batch (None, 4, 4, 512)         2048      \n",
            "_________________________________________________________________\n",
            "dropout_5 (Dropout)          (None, 4, 4, 512)         0         \n",
            "_________________________________________________________________\n",
            "conv2d_9 (Conv2D)            (None, 4, 4, 512)         2359808   \n",
            "_________________________________________________________________\n",
            "activation_9 (Activation)    (None, 4, 4, 512)         0         \n",
            "_________________________________________________________________\n",
            "batch_normalization_9 (Batch (None, 4, 4, 512)         2048      \n",
            "_________________________________________________________________\n",
            "max_pooling2d_3 (MaxPooling2 (None, 2, 2, 512)         0         \n",
            "_________________________________________________________________\n",
            "conv2d_10 (Conv2D)           (None, 2, 2, 512)         2359808   \n",
            "_________________________________________________________________\n",
            "activation_10 (Activation)   (None, 2, 2, 512)         0         \n",
            "_________________________________________________________________\n",
            "batch_normalization_10 (Batc (None, 2, 2, 512)         2048      \n",
            "_________________________________________________________________\n",
            "dropout_6 (Dropout)          (None, 2, 2, 512)         0         \n",
            "_________________________________________________________________\n",
            "conv2d_11 (Conv2D)           (None, 2, 2, 512)         2359808   \n",
            "_________________________________________________________________\n",
            "activation_11 (Activation)   (None, 2, 2, 512)         0         \n",
            "_________________________________________________________________\n",
            "batch_normalization_11 (Batc (None, 2, 2, 512)         2048      \n",
            "_________________________________________________________________\n",
            "dropout_7 (Dropout)          (None, 2, 2, 512)         0         \n",
            "_________________________________________________________________\n",
            "conv2d_12 (Conv2D)           (None, 2, 2, 512)         2359808   \n",
            "_________________________________________________________________\n",
            "activation_12 (Activation)   (None, 2, 2, 512)         0         \n",
            "_________________________________________________________________\n",
            "batch_normalization_12 (Batc (None, 2, 2, 512)         2048      \n",
            "_________________________________________________________________\n",
            "max_pooling2d_4 (MaxPooling2 (None, 1, 1, 512)         0         \n",
            "_________________________________________________________________\n",
            "dropout_8 (Dropout)          (None, 1, 1, 512)         0         \n",
            "_________________________________________________________________\n",
            "flatten (Flatten)            (None, 512)               0         \n",
            "_________________________________________________________________\n",
            "dense (Dense)                (None, 512)               262656    \n",
            "_________________________________________________________________\n",
            "activation_13 (Activation)   (None, 512)               0         \n",
            "_________________________________________________________________\n",
            "batch_normalization_13 (Batc (None, 512)               2048      \n",
            "_________________________________________________________________\n",
            "dropout_9 (Dropout)          (None, 512)               0         \n",
            "_________________________________________________________________\n",
            "dense_1 (Dense)              (None, 10)                5130      \n",
            "_________________________________________________________________\n",
            "activation_14 (Activation)   (None, 10)                0         \n",
            "=================================================================\n",
            "Total params: 15,001,418\n",
            "Trainable params: 14,991,946\n",
            "Non-trainable params: 9,472\n",
            "_________________________________________________________________\n"
          ],
          "name": "stdout"
        }
      ]
    },
    {
      "cell_type": "code",
      "metadata": {
        "id": "umcjDJ-1hib8"
      },
      "source": [
        "batch_size = 128\n",
        "epoches = 50"
      ],
      "execution_count": 30,
      "outputs": []
    },
    {
      "cell_type": "code",
      "metadata": {
        "colab": {
          "base_uri": "https://localhost:8080/"
        },
        "id": "JnpaA12Hho80",
        "outputId": "7cc03f00-2c9c-4653-f110-01a1d202d315"
      },
      "source": [
        "final_fit = model.fit(x_train, y_train,batch_size=batch_size,steps_per_epoch=x_train.shape[0] // batch_size,epochs=epoches,\n",
        "                      validation_data=(x_test, y_test),callbacks=[reduce_lr], verbose=1)\n"
      ],
      "execution_count": 31,
      "outputs": [
        {
          "output_type": "stream",
          "text": [
            "Epoch 1/50\n",
            "390/390 [==============================] - 65s 71ms/step - loss: 24.1891 - accuracy: 0.1539 - val_loss: 16.3097 - val_accuracy: 0.1897\n",
            "Epoch 2/50\n",
            "390/390 [==============================] - 29s 70ms/step - loss: 13.7014 - accuracy: 0.2724 - val_loss: 8.8174 - val_accuracy: 0.1460\n",
            "Epoch 3/50\n",
            "390/390 [==============================] - 28s 71ms/step - loss: 7.1036 - accuracy: 0.3736 - val_loss: 5.0613 - val_accuracy: 0.2495\n",
            "Epoch 4/50\n",
            "390/390 [==============================] - 28s 71ms/step - loss: 4.0653 - accuracy: 0.4747 - val_loss: 3.2821 - val_accuracy: 0.3612\n",
            "Epoch 5/50\n",
            "390/390 [==============================] - 28s 71ms/step - loss: 2.5787 - accuracy: 0.5775 - val_loss: 2.2952 - val_accuracy: 0.5080\n",
            "Epoch 6/50\n",
            "390/390 [==============================] - 28s 71ms/step - loss: 1.9293 - accuracy: 0.6380 - val_loss: 1.6663 - val_accuracy: 0.6668\n",
            "Epoch 7/50\n",
            "390/390 [==============================] - 28s 71ms/step - loss: 1.6095 - accuracy: 0.6834 - val_loss: 1.6136 - val_accuracy: 0.6726\n",
            "Epoch 8/50\n",
            "390/390 [==============================] - 28s 71ms/step - loss: 1.4859 - accuracy: 0.7069 - val_loss: 1.5037 - val_accuracy: 0.7018\n",
            "Epoch 9/50\n",
            "390/390 [==============================] - 28s 71ms/step - loss: 1.4345 - accuracy: 0.7276 - val_loss: 1.4128 - val_accuracy: 0.7243\n",
            "Epoch 10/50\n",
            "390/390 [==============================] - 27s 71ms/step - loss: 1.4173 - accuracy: 0.7358 - val_loss: 1.4976 - val_accuracy: 0.7206\n",
            "Epoch 11/50\n",
            "390/390 [==============================] - 28s 71ms/step - loss: 1.4002 - accuracy: 0.7539 - val_loss: 1.4536 - val_accuracy: 0.7369\n",
            "Epoch 12/50\n",
            "390/390 [==============================] - 27s 70ms/step - loss: 1.4128 - accuracy: 0.7554 - val_loss: 1.6754 - val_accuracy: 0.6696\n",
            "Epoch 13/50\n",
            "390/390 [==============================] - 28s 71ms/step - loss: 1.4244 - accuracy: 0.7581 - val_loss: 1.8229 - val_accuracy: 0.6609\n",
            "Epoch 14/50\n",
            "390/390 [==============================] - 28s 71ms/step - loss: 1.4314 - accuracy: 0.7671 - val_loss: 1.6216 - val_accuracy: 0.7142\n",
            "Epoch 15/50\n",
            "390/390 [==============================] - 28s 71ms/step - loss: 1.4671 - accuracy: 0.7605 - val_loss: 1.5770 - val_accuracy: 0.7252\n",
            "Epoch 16/50\n",
            "390/390 [==============================] - 27s 70ms/step - loss: 1.4526 - accuracy: 0.7716 - val_loss: 1.6701 - val_accuracy: 0.6947\n",
            "Epoch 17/50\n",
            "390/390 [==============================] - 27s 70ms/step - loss: 1.4766 - accuracy: 0.7674 - val_loss: 1.7611 - val_accuracy: 0.6711\n",
            "Epoch 18/50\n",
            "390/390 [==============================] - 27s 70ms/step - loss: 1.4612 - accuracy: 0.7772 - val_loss: 1.7792 - val_accuracy: 0.6676\n",
            "Epoch 19/50\n",
            "390/390 [==============================] - 27s 70ms/step - loss: 1.4959 - accuracy: 0.7704 - val_loss: 1.9437 - val_accuracy: 0.6361\n",
            "Epoch 20/50\n",
            "390/390 [==============================] - 28s 71ms/step - loss: 1.4860 - accuracy: 0.7754 - val_loss: 2.1541 - val_accuracy: 0.6419\n",
            "Epoch 21/50\n",
            "390/390 [==============================] - 28s 71ms/step - loss: 1.3528 - accuracy: 0.8155 - val_loss: 1.2945 - val_accuracy: 0.8025\n",
            "Epoch 22/50\n",
            "390/390 [==============================] - 28s 71ms/step - loss: 1.2071 - accuracy: 0.8289 - val_loss: 1.3701 - val_accuracy: 0.7656\n",
            "Epoch 23/50\n",
            "390/390 [==============================] - 28s 71ms/step - loss: 1.1586 - accuracy: 0.8332 - val_loss: 1.2221 - val_accuracy: 0.8116\n",
            "Epoch 24/50\n",
            "390/390 [==============================] - 27s 70ms/step - loss: 1.1374 - accuracy: 0.8382 - val_loss: 1.2609 - val_accuracy: 0.7993\n",
            "Epoch 25/50\n",
            "390/390 [==============================] - 27s 70ms/step - loss: 1.1554 - accuracy: 0.8359 - val_loss: 1.2501 - val_accuracy: 0.8094\n",
            "Epoch 26/50\n",
            "390/390 [==============================] - 28s 71ms/step - loss: 1.1565 - accuracy: 0.8346 - val_loss: 1.2298 - val_accuracy: 0.8143\n",
            "Epoch 27/50\n",
            "390/390 [==============================] - 27s 70ms/step - loss: 1.1553 - accuracy: 0.8381 - val_loss: 1.3668 - val_accuracy: 0.7787\n",
            "Epoch 28/50\n",
            "390/390 [==============================] - 28s 71ms/step - loss: 1.1670 - accuracy: 0.8417 - val_loss: 1.6526 - val_accuracy: 0.6919\n",
            "Epoch 29/50\n",
            "390/390 [==============================] - 28s 71ms/step - loss: 1.1798 - accuracy: 0.8420 - val_loss: 1.3371 - val_accuracy: 0.7980\n",
            "Epoch 30/50\n",
            "390/390 [==============================] - 28s 71ms/step - loss: 1.1925 - accuracy: 0.8427 - val_loss: 1.3147 - val_accuracy: 0.8088\n",
            "Epoch 31/50\n",
            "390/390 [==============================] - 27s 70ms/step - loss: 1.2036 - accuracy: 0.8420 - val_loss: 1.4067 - val_accuracy: 0.7841\n",
            "Epoch 32/50\n",
            "390/390 [==============================] - 27s 70ms/step - loss: 1.1939 - accuracy: 0.8448 - val_loss: 1.8209 - val_accuracy: 0.6745\n",
            "Epoch 33/50\n",
            "390/390 [==============================] - 28s 71ms/step - loss: 1.2152 - accuracy: 0.8426 - val_loss: 1.2831 - val_accuracy: 0.8232\n",
            "Epoch 34/50\n",
            "390/390 [==============================] - 27s 71ms/step - loss: 1.2072 - accuracy: 0.8468 - val_loss: 1.3557 - val_accuracy: 0.8015\n",
            "Epoch 35/50\n",
            "390/390 [==============================] - 28s 71ms/step - loss: 1.2128 - accuracy: 0.8493 - val_loss: 1.3872 - val_accuracy: 0.7941\n",
            "Epoch 36/50\n",
            "390/390 [==============================] - 28s 71ms/step - loss: 1.2140 - accuracy: 0.8475 - val_loss: 1.3952 - val_accuracy: 0.7943\n",
            "Epoch 37/50\n",
            "390/390 [==============================] - 28s 71ms/step - loss: 1.2171 - accuracy: 0.8529 - val_loss: 1.4299 - val_accuracy: 0.7842\n",
            "Epoch 38/50\n",
            "390/390 [==============================] - 28s 71ms/step - loss: 1.2205 - accuracy: 0.8532 - val_loss: 1.4443 - val_accuracy: 0.7862\n",
            "Epoch 39/50\n",
            "390/390 [==============================] - 28s 71ms/step - loss: 1.2367 - accuracy: 0.8491 - val_loss: 1.2719 - val_accuracy: 0.8299\n",
            "Epoch 40/50\n",
            "390/390 [==============================] - 28s 71ms/step - loss: 1.2289 - accuracy: 0.8511 - val_loss: 1.4271 - val_accuracy: 0.7878\n",
            "Epoch 41/50\n",
            "390/390 [==============================] - 28s 71ms/step - loss: 1.1417 - accuracy: 0.8775 - val_loss: 1.2521 - val_accuracy: 0.8288\n",
            "Epoch 42/50\n",
            "390/390 [==============================] - 28s 71ms/step - loss: 1.0039 - accuracy: 0.8999 - val_loss: 1.1165 - val_accuracy: 0.8548\n",
            "Epoch 43/50\n",
            "390/390 [==============================] - 28s 71ms/step - loss: 0.9682 - accuracy: 0.9000 - val_loss: 1.0728 - val_accuracy: 0.8563\n",
            "Epoch 44/50\n",
            "390/390 [==============================] - 28s 71ms/step - loss: 0.9397 - accuracy: 0.9017 - val_loss: 1.1293 - val_accuracy: 0.8398\n",
            "Epoch 45/50\n",
            "390/390 [==============================] - 28s 71ms/step - loss: 0.9475 - accuracy: 0.8932 - val_loss: 1.2103 - val_accuracy: 0.8218\n",
            "Epoch 46/50\n",
            "390/390 [==============================] - 28s 71ms/step - loss: 0.9282 - accuracy: 0.9044 - val_loss: 1.1483 - val_accuracy: 0.8371\n",
            "Epoch 47/50\n",
            "390/390 [==============================] - 28s 71ms/step - loss: 0.9294 - accuracy: 0.9009 - val_loss: 1.0752 - val_accuracy: 0.8560\n",
            "Epoch 48/50\n",
            "390/390 [==============================] - 28s 71ms/step - loss: 0.9576 - accuracy: 0.8919 - val_loss: 1.1925 - val_accuracy: 0.8253\n",
            "Epoch 49/50\n",
            "390/390 [==============================] - 28s 71ms/step - loss: 0.9474 - accuracy: 0.8998 - val_loss: 1.1107 - val_accuracy: 0.8478\n",
            "Epoch 50/50\n",
            "390/390 [==============================] - 28s 71ms/step - loss: 0.9460 - accuracy: 0.9009 - val_loss: 1.1366 - val_accuracy: 0.8513\n"
          ],
          "name": "stdout"
        }
      ]
    },
    {
      "cell_type": "code",
      "metadata": {
        "id": "-CBJotXCh3Ks"
      },
      "source": [
        "model.evaluate(x_test,y_test)"
      ],
      "execution_count": null,
      "outputs": []
    },
    {
      "cell_type": "code",
      "metadata": {
        "id": "lcF9AAUAh5W9"
      },
      "source": [
        "model.save_weights('savesvgg.hp5')"
      ],
      "execution_count": 33,
      "outputs": []
    }
  ]
}