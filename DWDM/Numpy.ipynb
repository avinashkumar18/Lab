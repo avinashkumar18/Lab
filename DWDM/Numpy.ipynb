{
  "nbformat": 4,
  "nbformat_minor": 0,
  "metadata": {
    "colab": {
      "name": "Numpy.ipynb",
      "provenance": [],
      "toc_visible": true,
      "authorship_tag": "ABX9TyNHPrWipHLVKs4Zdhffzgyu",
      "include_colab_link": true
    },
    "kernelspec": {
      "name": "python3",
      "display_name": "Python 3"
    }
  },
  "cells": [
    {
      "cell_type": "markdown",
      "metadata": {
        "id": "view-in-github",
        "colab_type": "text"
      },
      "source": [
        "<a href=\"https://colab.research.google.com/github/avinashkumar18/Lab/blob/main/DWDM/Numpy.ipynb\" target=\"_parent\"><img src=\"https://colab.research.google.com/assets/colab-badge.svg\" alt=\"Open In Colab\"/></a>"
      ]
    },
    {
      "cell_type": "markdown",
      "metadata": {
        "id": "EeYbivicWD3u"
      },
      "source": [
        "[Github link](https://github.com/avinashkumar18/Lab/blob/main/DWDM/Numpy.ipynb)"
      ]
    },
    {
      "cell_type": "code",
      "metadata": {
        "id": "kJVF-bOsuEpw"
      },
      "source": [
        "# importing numpy package\r\n",
        "import numpy as np"
      ],
      "execution_count": null,
      "outputs": []
    },
    {
      "cell_type": "code",
      "metadata": {
        "id": "rjwSPtQavSHv"
      },
      "source": [
        "# 3 arrays with various dimensions\r\n",
        "a = np.array([1,2,3])\r\n",
        "b = np.array([(1.6,2,3), (4,5,6)], dtype = float)\r\n",
        "c = np.array([[(1.6,2,3), (4,5,6)], [(3,2,1), (7,8,9)]], dtype = float)"
      ],
      "execution_count": null,
      "outputs": []
    },
    {
      "cell_type": "code",
      "metadata": {
        "colab": {
          "base_uri": "https://localhost:8080/"
        },
        "id": "g5TrKIVLv_Tx",
        "outputId": "ecc5a3c3-43b0-47b0-cdb0-6c26be800816"
      },
      "source": [
        "print(np.zeros((3,4))) # creating zero array\r\n",
        "print(np.ones((2,3,4),dtype=np.int16)) # creating ones array\r\n",
        "d = np.arange(10,25,5) # creating array of even spaced values\r\n",
        "print(d)\r\n",
        "print(np.linspace(0,2,9)) # creates array within the interval\r\n",
        "e = np.full((2,2),7) #  creates array one int (r,c),n\r\n",
        "print(e)\r\n",
        "f = np.eye(2, dtype=int) # creates array with 1 in diagonal\r\n",
        "print(f)\r\n",
        "print(np.random.random((2,2))) # creates array with random numbers\r\n",
        "print(np.empty((3,2))) # creates array with arbitrary data"
      ],
      "execution_count": null,
      "outputs": [
        {
          "output_type": "stream",
          "text": [
            "[[0. 0. 0. 0.]\n",
            " [0. 0. 0. 0.]\n",
            " [0. 0. 0. 0.]]\n",
            "[[[1 1 1 1]\n",
            "  [1 1 1 1]\n",
            "  [1 1 1 1]]\n",
            "\n",
            " [[1 1 1 1]\n",
            "  [1 1 1 1]\n",
            "  [1 1 1 1]]]\n",
            "[10 15 20]\n",
            "[0.   0.25 0.5  0.75 1.   1.25 1.5  1.75 2.  ]\n",
            "[[7 7]\n",
            " [7 7]]\n",
            "[[1. 0.]\n",
            " [0. 1.]]\n",
            "[[0.27738773 0.36433361]\n",
            " [0.49507667 0.83339031]]\n",
            "[[1.39069238e-309 1.39069238e-309]\n",
            " [1.39069238e-309 1.39069238e-309]\n",
            " [1.39069238e-309 1.39069238e-309]]\n"
          ],
          "name": "stdout"
        }
      ]
    },
    {
      "cell_type": "code",
      "metadata": {
        "colab": {
          "base_uri": "https://localhost:8080/"
        },
        "id": "Pc5-MQFzwzyg",
        "outputId": "41253290-76d3-4dd0-b0c5-7a75c6415068"
      },
      "source": [
        "# data types\r\n",
        "print(np.int64)\r\n",
        "print(np.float32)\r\n",
        "print(np.complex)\r\n",
        "print(np.bool)\r\n",
        "print(np.object)\r\n",
        "print(np.string_)\r\n",
        "print( np.unicode_)"
      ],
      "execution_count": null,
      "outputs": [
        {
          "output_type": "stream",
          "text": [
            "<class 'numpy.int64'>\n",
            "<class 'numpy.float32'>\n",
            "<class 'complex'>\n",
            "<class 'bool'>\n",
            "<class 'object'>\n",
            "<class 'numpy.bytes_'>\n",
            "<class 'numpy.str_'>\n"
          ],
          "name": "stdout"
        }
      ]
    },
    {
      "cell_type": "code",
      "metadata": {
        "colab": {
          "base_uri": "https://localhost:8080/"
        },
        "id": "tsmZeY43yEu1",
        "outputId": "3001b9c6-0aab-4e6c-9707-e53cbcfa5bde"
      },
      "source": [
        "print(a.shape)\r\n",
        "print(len(a))\r\n",
        "print(b.ndim)\r\n",
        "print(e.size)\r\n",
        "print(b.dtype)\r\n",
        "print(b.dtype.name)\r\n",
        "print(b.astype(int))"
      ],
      "execution_count": null,
      "outputs": [
        {
          "output_type": "stream",
          "text": [
            "(3,)\n",
            "3\n",
            "2\n",
            "4\n",
            "float64\n",
            "float64\n",
            "[[1 2 3]\n",
            " [4 5 6]]\n"
          ],
          "name": "stdout"
        }
      ]
    },
    {
      "cell_type": "code",
      "metadata": {
        "colab": {
          "base_uri": "https://localhost:8080/"
        },
        "id": "OmQH7ymf-Fj6",
        "outputId": "e6ce5980-2864-432b-eaef-7ce5a850a5e9"
      },
      "source": [
        "# general arithmetic\r\n",
        "print(np.add(a,b))\r\n",
        "print(np.subtract(a,b))\r\n",
        "print(np.multiply(a,b))\r\n",
        "print(np.divide(a,b))"
      ],
      "execution_count": null,
      "outputs": [
        {
          "output_type": "stream",
          "text": [
            "[[2.6 4.  6. ]\n",
            " [5.  7.  9. ]]\n",
            "[[-0.6  0.   0. ]\n",
            " [-3.  -3.  -3. ]]\n",
            "[[ 1.6  4.   9. ]\n",
            " [ 4.  10.  18. ]]\n",
            "[[0.625 1.    1.   ]\n",
            " [0.25  0.4   0.5  ]]\n"
          ],
          "name": "stdout"
        }
      ]
    },
    {
      "cell_type": "code",
      "metadata": {
        "colab": {
          "base_uri": "https://localhost:8080/"
        },
        "id": "WK0szQfC_FjC",
        "outputId": "c056640a-de1d-499f-f67c-9a27550c9e61"
      },
      "source": [
        "print(\"exp of a: \", np.exp(a))\r\n",
        "print(\"sqrt of b: \", np.sqrt(b))\r\n",
        "print(\"sin of c: \", np.sin(c))\r\n",
        "print(\"cos of d: \", np.cos(d))\r\n",
        "print(\"tan of a: \", np.tan(a))\r\n",
        "print(\"log of c: \", np.log(c))"
      ],
      "execution_count": null,
      "outputs": [
        {
          "output_type": "stream",
          "text": [
            "exp of a:  [ 2.71828183  7.3890561  20.08553692]\n",
            "sqrt of b:  [[1.26491106 1.41421356 1.73205081]\n",
            " [2.         2.23606798 2.44948974]]\n",
            "sin of c:  [[[ 0.9995736   0.90929743  0.14112001]\n",
            "  [-0.7568025  -0.95892427 -0.2794155 ]]\n",
            "\n",
            " [[ 0.14112001  0.90929743  0.84147098]\n",
            "  [ 0.6569866   0.98935825  0.41211849]]]\n",
            "cos of d:  [-0.83907153 -0.75968791  0.40808206]\n",
            "tan of a:  [ 1.55740772 -2.18503986 -0.14254654]\n",
            "log of c:  [[[0.47000363 0.69314718 1.09861229]\n",
            "  [1.38629436 1.60943791 1.79175947]]\n",
            "\n",
            " [[1.09861229 0.69314718 0.        ]\n",
            "  [1.94591015 2.07944154 2.19722458]]]\n"
          ],
          "name": "stdout"
        }
      ]
    },
    {
      "cell_type": "code",
      "metadata": {
        "colab": {
          "base_uri": "https://localhost:8080/"
        },
        "id": "eKSyjkSzBFcQ",
        "outputId": "3e95bd9a-33bb-465d-837a-5580c1128b19"
      },
      "source": [
        "# comparison operator\r\n",
        "print(a==b)\r\n",
        "print(a<2)\r\n",
        "print(np.array_equal(b,c))"
      ],
      "execution_count": null,
      "outputs": [
        {
          "output_type": "stream",
          "text": [
            "[[False  True  True]\n",
            " [False False False]]\n",
            "[ True False False]\n",
            "False\n"
          ],
          "name": "stdout"
        }
      ]
    },
    {
      "cell_type": "code",
      "metadata": {
        "colab": {
          "base_uri": "https://localhost:8080/"
        },
        "id": "VLzv6_pbCLMW",
        "outputId": "f957e999-5f82-45fd-c765-c34334f1c33a"
      },
      "source": [
        "print(a.sum()) #sum\r\n",
        "print(b.min(axis=0), b.min(axis=1)) #min axis=row\r\n",
        "print(c.max()) #max\r\n",
        "print(b.cumsum()) #cummulative sum\r\n",
        "print(a.mean()) #mean\r\n",
        "print(np.median(b)) #median\r\n",
        "print(np.corrcoef(b)) #correlation coefficient\r\n",
        "print(np.std(c))"
      ],
      "execution_count": null,
      "outputs": [
        {
          "output_type": "stream",
          "text": [
            "6\n",
            "[1.6 2.  3. ] [1.6 4. ]\n",
            "9.0\n",
            "[ 1.6  3.6  6.6 10.6 15.6 21.6]\n",
            "2.0\n",
            "3.5\n",
            "[[1.         0.97072534]\n",
            " [0.97072534 1.        ]]\n",
            "2.560598888281151\n"
          ],
          "name": "stdout"
        }
      ]
    }
  ]
}