{
  "nbformat": 4,
  "nbformat_minor": 0,
  "metadata": {
    "colab": {
      "name": "Classification_Algorithms_SVM_NB.ipynb",
      "provenance": [],
      "authorship_tag": "ABX9TyNv/EgeToEaR0U6Nnen2mOc",
      "include_colab_link": true
    },
    "kernelspec": {
      "name": "python3",
      "display_name": "Python 3"
    },
    "language_info": {
      "name": "python"
    }
  },
  "cells": [
    {
      "cell_type": "markdown",
      "metadata": {
        "id": "view-in-github",
        "colab_type": "text"
      },
      "source": [
        "<a href=\"https://colab.research.google.com/github/avinashkumar18/Lab/blob/main/DWDM/Classification_Algorithms_SVM_NB.ipynb\" target=\"_parent\"><img src=\"https://colab.research.google.com/assets/colab-badge.svg\" alt=\"Open In Colab\"/></a>"
      ]
    },
    {
      "cell_type": "markdown",
      "metadata": {
        "id": "MdyIjR0r1C7_"
      },
      "source": [
        "[Github link](https://github.com/avinashkumar18/Lab/blob/main/DWDM/Classification_Algorithms_SVM_NB.ipynb)"
      ]
    },
    {
      "cell_type": "code",
      "metadata": {
        "id": "O1KP0u6syAdC"
      },
      "source": [
        "import numpy as numpy\n",
        "import pandas as pd"
      ],
      "execution_count": 1,
      "outputs": []
    },
    {
      "cell_type": "code",
      "metadata": {
        "id": "7MlWCb8OyXx_"
      },
      "source": [
        "import matplotlib.pyplot as plt\n",
        "import numpy as np\n",
        "%matplotlib inline"
      ],
      "execution_count": 2,
      "outputs": []
    },
    {
      "cell_type": "code",
      "metadata": {
        "id": "fKI9JI5BydWZ"
      },
      "source": [
        "from sklearn import datasets, svm, metrics"
      ],
      "execution_count": 3,
      "outputs": []
    },
    {
      "cell_type": "code",
      "metadata": {
        "colab": {
          "base_uri": "https://localhost:8080/"
        },
        "id": "Y3SAT1l-ye_J",
        "outputId": "c648d8b6-f2c4-40af-a871-6f8867880afd"
      },
      "source": [
        "digits = datasets.load_digits()\n",
        "print('Digits dataset keys \\n{}'.format(digits.keys()))"
      ],
      "execution_count": 4,
      "outputs": [
        {
          "output_type": "stream",
          "text": [
            "Digits dataset keys \n",
            "dict_keys(['data', 'target', 'target_names', 'images', 'DESCR'])\n"
          ],
          "name": "stdout"
        }
      ]
    },
    {
      "cell_type": "code",
      "metadata": {
        "colab": {
          "base_uri": "https://localhost:8080/",
          "height": 120
        },
        "id": "w2LYIEEPygqT",
        "outputId": "60c641fa-6ff3-4d1c-bef5-03c205c34e5b"
      },
      "source": [
        "for i in range(0,4):\n",
        "    plt.subplot(2, 4,i + 1)\n",
        "    plt.axis('off')\n",
        "    imside = int(np.sqrt(digits.data[i].shape[0]))\n",
        "    im1 = np.reshape(digits.data[i],(imside,imside))\n",
        "    plt.imshow(im1, cmap=plt.cm.gray_r, interpolation='nearest')\n",
        "    plt.title('Training: {}'.format(digits.target[i]))\n",
        "plt.show()"
      ],
      "execution_count": 5,
      "outputs": [
        {
          "output_type": "display_data",
          "data": {
            "image/png": "[encoded data removed]",
            "text/plain": [
              "<Figure size 432x288 with 4 Axes>"
            ]
          },
          "metadata": {
            "tags": [],
            "needs_background": "light"
          }
        }
      ]
    },
    {
      "cell_type": "code",
      "metadata": {
        "colab": {
          "base_uri": "https://localhost:8080/",
          "height": 120
        },
        "id": "57AKGtoUyj_-",
        "outputId": "44354a45-77cc-4c5a-b586-c1e727909b2e"
      },
      "source": [
        "for i in range(0,4):\n",
        "    plt.subplot(2, 4,i + 1)\n",
        "    plt.axis('off')\n",
        "    plt.imshow(digits.images[i], cmap=plt.cm.gray_r, interpolation='nearest')\n",
        "    plt.title('Training: {}'.format(digits.target[i]))\n",
        "plt.show()"
      ],
      "execution_count": 6,
      "outputs": [
        {
          "output_type": "display_data",
          "data": {
            "image/png": "[encoded data removed]",
            "text/plain": [
              "<Figure size 432x288 with 4 Axes>"
            ]
          },
          "metadata": {
            "tags": [],
            "needs_background": "light"
          }
        }
      ]
    },
    {
      "cell_type": "code",
      "metadata": {
        "id": "eKQA4Yvfynyf"
      },
      "source": [
        "n_samples = len(digits.images)\n",
        "data_images = digits.images.reshape((n_samples, -1))"
      ],
      "execution_count": 7,
      "outputs": []
    },
    {
      "cell_type": "code",
      "metadata": {
        "id": "zh3-v4g9yp4_"
      },
      "source": [
        "from sklearn.model_selection import train_test_split\n",
        "X_train, X_test, y_train, y_test = train_test_split(data_images,digits.target)"
      ],
      "execution_count": 8,
      "outputs": []
    },
    {
      "cell_type": "markdown",
      "metadata": {
        "id": "c2p-G2KazSEs"
      },
      "source": [
        "**SUPPORT VECTOR MACHINE CLASSIFIER**"
      ]
    },
    {
      "cell_type": "code",
      "metadata": {
        "colab": {
          "base_uri": "https://localhost:8080/"
        },
        "id": "mDPRon3_ysgv",
        "outputId": "42923631-36a5-441b-8fcf-ba8e2b67d336"
      },
      "source": [
        "classifier = svm.SVC(gamma=0.001)\n",
        "classifier.fit(X_train,y_train)"
      ],
      "execution_count": 9,
      "outputs": [
        {
          "output_type": "execute_result",
          "data": {
            "text/plain": [
              "SVC(C=1.0, break_ties=False, cache_size=200, class_weight=None, coef0=0.0,\n",
              "    decision_function_shape='ovr', degree=3, gamma=0.001, kernel='rbf',\n",
              "    max_iter=-1, probability=False, random_state=None, shrinking=True,\n",
              "    tol=0.001, verbose=False)"
            ]
          },
          "metadata": {
            "tags": []
          },
          "execution_count": 9
        }
      ]
    },
    {
      "cell_type": "code",
      "metadata": {
        "id": "1KITKttxyw7R"
      },
      "source": [
        "y_pred = classifier.predict(X_test)"
      ],
      "execution_count": 10,
      "outputs": []
    },
    {
      "cell_type": "code",
      "metadata": {
        "colab": {
          "base_uri": "https://localhost:8080/"
        },
        "id": "RA7seETLyzP_",
        "outputId": "08700ca9-1131-462e-d6e3-91924dcfd424"
      },
      "source": [
        "print(\"Classification report for classifier %s:\\n%s\\n\"\n",
        "      % (classifier, metrics.classification_report(y_test, y_pred)))"
      ],
      "execution_count": 13,
      "outputs": [
        {
          "output_type": "stream",
          "text": [
            "Classification report for classifier SVC(C=1.0, break_ties=False, cache_size=200, class_weight=None, coef0=0.0,\n",
            "    decision_function_shape='ovr', degree=3, gamma=0.001, kernel='rbf',\n",
            "    max_iter=-1, probability=False, random_state=None, shrinking=True,\n",
            "    tol=0.001, verbose=False):\n",
            "              precision    recall  f1-score   support\n",
            "\n",
            "           0       1.00      1.00      1.00        36\n",
            "           1       1.00      1.00      1.00        48\n",
            "           2       1.00      1.00      1.00        43\n",
            "           3       1.00      0.94      0.97        48\n",
            "           4       1.00      1.00      1.00        51\n",
            "           5       0.98      0.98      0.98        42\n",
            "           6       1.00      0.98      0.99        50\n",
            "           7       1.00      1.00      1.00        53\n",
            "           8       0.96      1.00      0.98        43\n",
            "           9       0.95      1.00      0.97        36\n",
            "\n",
            "    accuracy                           0.99       450\n",
            "   macro avg       0.99      0.99      0.99       450\n",
            "weighted avg       0.99      0.99      0.99       450\n",
            "\n",
            "\n"
          ],
          "name": "stdout"
        }
      ]
    },
    {
      "cell_type": "code",
      "metadata": {
        "colab": {
          "base_uri": "https://localhost:8080/"
        },
        "id": "eis_7Kvry6Ji",
        "outputId": "7b761e0a-5636-461d-f55f-244b74b74a89"
      },
      "source": [
        "print(\"Confusion matrix:\\n%s\" % metrics.confusion_matrix(y_test, y_pred))"
      ],
      "execution_count": 14,
      "outputs": [
        {
          "output_type": "stream",
          "text": [
            "Confusion matrix:\n",
            "[[36  0  0  0  0  0  0  0  0  0]\n",
            " [ 0 48  0  0  0  0  0  0  0  0]\n",
            " [ 0  0 43  0  0  0  0  0  0  0]\n",
            " [ 0  0  0 45  0  1  0  0  1  1]\n",
            " [ 0  0  0  0 51  0  0  0  0  0]\n",
            " [ 0  0  0  0  0 41  0  0  0  1]\n",
            " [ 0  0  0  0  0  0 49  0  1  0]\n",
            " [ 0  0  0  0  0  0  0 53  0  0]\n",
            " [ 0  0  0  0  0  0  0  0 43  0]\n",
            " [ 0  0  0  0  0  0  0  0  0 36]]\n"
          ],
          "name": "stdout"
        }
      ]
    },
    {
      "cell_type": "code",
      "metadata": {
        "id": "BUVXCvJdzMOY"
      },
      "source": [
        "from sklearn.datasets import load_iris"
      ],
      "execution_count": 15,
      "outputs": []
    },
    {
      "cell_type": "markdown",
      "metadata": {
        "id": "3ronToB00ebB"
      },
      "source": [
        "**NAIVE BAYES CLSSIFICATION**"
      ]
    },
    {
      "cell_type": "code",
      "metadata": {
        "id": "pgN0qaKWzrff"
      },
      "source": [
        "from sklearn.naive_bayes import GaussianNB\n",
        "X, Y = load_iris(return_X_y=True)"
      ],
      "execution_count": 17,
      "outputs": []
    },
    {
      "cell_type": "code",
      "metadata": {
        "id": "dToTouUizvaF"
      },
      "source": [
        "trainX, testX, trainY, testY = train_test_split(X, Y, test_size=0.5, random_state=0)"
      ],
      "execution_count": 18,
      "outputs": []
    },
    {
      "cell_type": "code",
      "metadata": {
        "id": "ucbF_s9Oz99H"
      },
      "source": [
        "gnb = GaussianNB()"
      ],
      "execution_count": 19,
      "outputs": []
    },
    {
      "cell_type": "code",
      "metadata": {
        "id": "QsOtOYbUz_x5"
      },
      "source": [
        "y_pred = gnb.fit(X_train, y_train).predict(X_test)"
      ],
      "execution_count": 20,
      "outputs": []
    },
    {
      "cell_type": "code",
      "metadata": {
        "colab": {
          "base_uri": "https://localhost:8080/"
        },
        "id": "mzRqjln10BZ-",
        "outputId": "c7e09b95-6c8e-4213-a11b-56666a079a20"
      },
      "source": [
        "print(metrics.classification_report(y_test, y_pred))"
      ],
      "execution_count": 22,
      "outputs": [
        {
          "output_type": "stream",
          "text": [
            "              precision    recall  f1-score   support\n",
            "\n",
            "           0       1.00      1.00      1.00        36\n",
            "           1       0.67      0.92      0.77        48\n",
            "           2       0.97      0.70      0.81        43\n",
            "           3       0.92      0.75      0.83        48\n",
            "           4       1.00      0.88      0.94        51\n",
            "           5       0.90      0.90      0.90        42\n",
            "           6       1.00      0.98      0.99        50\n",
            "           7       0.83      1.00      0.91        53\n",
            "           8       0.60      0.70      0.65        43\n",
            "           9       0.89      0.69      0.78        36\n",
            "\n",
            "    accuracy                           0.86       450\n",
            "   macro avg       0.88      0.85      0.86       450\n",
            "weighted avg       0.88      0.86      0.86       450\n",
            "\n"
          ],
          "name": "stdout"
        }
      ]
    },
    {
      "cell_type": "code",
      "metadata": {
        "colab": {
          "base_uri": "https://localhost:8080/"
        },
        "id": "AN5RkLDP0LsN",
        "outputId": "fce81a5b-f45e-4258-c74b-6154d77f703d"
      },
      "source": [
        "print(metrics.confusion_matrix(y_test, y_pred))"
      ],
      "execution_count": 23,
      "outputs": [
        {
          "output_type": "stream",
          "text": [
            "[[36  0  0  0  0  0  0  0  0  0]\n",
            " [ 0 44  0  0  0  0  0  0  2  2]\n",
            " [ 0  7 30  1  0  0  0  0  5  0]\n",
            " [ 0  0  1 36  0  2  0  1  8  0]\n",
            " [ 0  4  0  0 45  0  0  1  1  0]\n",
            " [ 0  2  0  0  0 38  0  1  0  1]\n",
            " [ 0  1  0  0  0  0 49  0  0  0]\n",
            " [ 0  0  0  0  0  0  0 53  0  0]\n",
            " [ 0  6  0  0  0  2  0  5 30  0]\n",
            " [ 0  2  0  2  0  0  0  3  4 25]]\n"
          ],
          "name": "stdout"
        }
      ]
    }
  ]
}