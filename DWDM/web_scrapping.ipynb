{
  "nbformat": 4,
  "nbformat_minor": 0,
  "metadata": {
    "colab": {
      "name": "web_scrapping.ipynb",
      "provenance": [],
      "collapsed_sections": [],
      "authorship_tag": "ABX9TyPQG023Wa19J1lXORXYNikL",
      "include_colab_link": true
    },
    "kernelspec": {
      "name": "python3",
      "display_name": "Python 3"
    },
    "language_info": {
      "name": "python"
    }
  },
  "cells": [
    {
      "cell_type": "markdown",
      "metadata": {
        "id": "view-in-github",
        "colab_type": "text"
      },
      "source": [
        "<a href=\"https://colab.research.google.com/github/avinashkumar18/Lab/blob/main/DWDM/web_scrapping.ipynb\" target=\"_parent\"><img src=\"https://colab.research.google.com/assets/colab-badge.svg\" alt=\"Open In Colab\"/></a>"
      ]
    },
    {
      "cell_type": "code",
      "metadata": {
        "id": "DVFZ8C-daCt2"
      },
      "source": [
        "from bs4 import BeautifulSoup as soup \n",
        "from urllib.request import urlopen as uReq\n",
        "import requests"
      ],
      "execution_count": 1,
      "outputs": []
    },
    {
      "cell_type": "code",
      "metadata": {
        "id": "JV9CxCiAh_qx"
      },
      "source": [
        "page_url = \"https://www.dell.com/en-in/work/shop/scc/sr/laptops/latitude-laptops?~ck=mn\""
      ],
      "execution_count": 2,
      "outputs": []
    },
    {
      "cell_type": "code",
      "metadata": {
        "colab": {
          "base_uri": "https://localhost:8080/"
        },
        "id": "_g2KrDeBquyj",
        "outputId": "9fec55fd-ada0-4064-e592-766da63fa5bc"
      },
      "source": [
        "http_response = requests.get(page_url)\n",
        "http_response"
      ],
      "execution_count": 3,
      "outputs": [
        {
          "output_type": "execute_result",
          "data": {
            "text/plain": [
              "<Response [200]>"
            ]
          },
          "metadata": {
            "tags": []
          },
          "execution_count": 3
        }
      ]
    },
    {
      "cell_type": "code",
      "metadata": {
        "id": "OB7uVt_5iKkI"
      },
      "source": [
        "uClient = uReq(page_url)\n",
        "page_soup = soup(uClient.read(), \"html.parser\")\n",
        "uClient.close()"
      ],
      "execution_count": 4,
      "outputs": []
    },
    {
      "cell_type": "code",
      "metadata": {
        "id": "rrC_50qRiT3C"
      },
      "source": [
        "containers = page_soup.findAll(\"section\", {\"class\": \"ps-top\"})"
      ],
      "execution_count": 5,
      "outputs": []
    },
    {
      "cell_type": "code",
      "metadata": {
        "colab": {
          "base_uri": "https://localhost:8080/"
        },
        "id": "xhA93BGSlCew",
        "outputId": "2f49010c-0806-4f45-8066-64d9fa6b3cd1"
      },
      "source": [
        "len(containers)"
      ],
      "execution_count": 6,
      "outputs": [
        {
          "output_type": "execute_result",
          "data": {
            "text/plain": [
              "12"
            ]
          },
          "metadata": {
            "tags": []
          },
          "execution_count": 6
        }
      ]
    },
    {
      "cell_type": "code",
      "metadata": {
        "id": "RXj2MVMNlFN3"
      },
      "source": [
        "output_file = \"lap_info.csv\""
      ],
      "execution_count": 7,
      "outputs": []
    },
    {
      "cell_type": "code",
      "metadata": {
        "id": "1rRCQRhOlMoc"
      },
      "source": [
        "headers = \"S.no,lap_name,price,processor,operating_system,graphics_card,RAM,Memory,Screen_size,weight\\n\""
      ],
      "execution_count": 8,
      "outputs": []
    },
    {
      "cell_type": "code",
      "metadata": {
        "colab": {
          "base_uri": "https://localhost:8080/"
        },
        "id": "wzFh7zzylknY",
        "outputId": "28cb1c89-14d3-4ae7-c5e9-25532537dc4d"
      },
      "source": [
        "f = open(output_file, \"w\")\n",
        "f.write(headers)"
      ],
      "execution_count": 9,
      "outputs": [
        {
          "output_type": "execute_result",
          "data": {
            "text/plain": [
              "91"
            ]
          },
          "metadata": {
            "tags": []
          },
          "execution_count": 9
        }
      ]
    },
    {
      "cell_type": "code",
      "metadata": {
        "id": "n8zriWmXlpcr",
        "colab": {
          "base_uri": "https://localhost:8080/"
        },
        "outputId": "9e9d3d2d-5a21-40b8-e1e3-5405a23c9c64"
      },
      "source": [
        "count=0\n",
        "for container in containers:\n",
        "    count+=1\n",
        "    product_name = container.findAll(\"h3\", {\"class\": \"ps-title\"})[0].text.strip()\n",
        "    product_price = container.findAll(\"div\", {\"class\": \"ps-dell-price ps-simplified ps-tooltip-price\"})[0].text.replace(',','').strip()\n",
        "    processor = container.find_all(\"div\",{\"class\": \"short-specs ps-dds-font-icon dds_processor\"})[0].text.strip()\n",
        "    os = container.findAll(\"div\", {\"class\": \"short-specs ps-dds-font-icon dds_disc-system\"})[0].text.strip()\n",
        "    graphics_card = container.findAll(\"div\", {\"class\": \"short-specs ps-dds-font-icon dds_video-card\"})[0].text.strip()\n",
        "    ram = container.findAll(\"div\", {\"class\": \"short-specs ps-dds-font-icon dds_memory\"})[0].text.replace(',','').strip()\n",
        "    rom = container.findAll(\"div\", {\"class\": \"short-specs ps-dds-font-icon dds_hard-drive\"})[0].text.strip()\n",
        "    screen_size = container.findAll(\"div\", {\"class\": \"ps-dds-font-icon featured-spec dds_display device-laptop\"})[0].text.strip()\n",
        "    weight = container.findAll(\"div\", {\"class\": \"ps-dds-font-icon featured-spec dds_weight dimensions-weight\"})[0].text.strip()\n",
        "\n",
        "    print(count)\n",
        "    c=str(count)\n",
        "    print(\"lap_name: \", product_name)\n",
        "    print(\"price: \", product_price)\n",
        "    print(\"processor: \", processor)\n",
        "    print(\"Operating System: \", os)\n",
        "    print(\"Graphics Card: \", graphics_card)\n",
        "    print(\"RAM: \", ram)\n",
        "    print(\"Memory: \", rom)\n",
        "    print(\"Screen Size: \", screen_size)\n",
        "    print(\"Weight: \", weight)\n",
        "    print(\"\\n\\n\")\n",
        "\n",
        "    # writes the dataset to file\n",
        "    f.write(c + \", \" + product_name + \", \" + product_price + \", \" + processor + \", \" +\n",
        "    os + \", \" + graphics_card + \", \" + ram + \", \" + rom + \", \" + \n",
        "    screen_size + \", \" + weight + \"\\n\")\n",
        "f.close()"
      ],
      "execution_count": 10,
      "outputs": [
        {
          "output_type": "stream",
          "text": [
            "1\n",
            "lap_name:  Latitude 14 3410 Laptop\n",
            "price:  ₹ 53753.82\n",
            "processor:  10th Generation Intel® Core™ i3-10110U\n",
            "Operating System:  Windows 10 Pro (64-bit) English\n",
            "Graphics Card:  Integrated Intel UHD for 10th Generation Intel Core i3-10110U\n",
            "RAM:  4 GB 1x4 GB 3200MHz DDR4 Non-ECC\n",
            "Memory:  1TB 2.5\" 5400RPM 7mm SMR Hard Drive\n",
            "Screen Size:  35.5-cm. display\n",
            "Weight:  Starting at 1.53 kg\n",
            "\n",
            "\n",
            "\n",
            "2\n",
            "lap_name:  Latitude 15 3510 Laptop\n",
            "price:  ₹ 54120.04\n",
            "processor:  10th Generation Intel® Core™ i3-10110U\n",
            "Operating System:  Windows 10 Pro (64-bit) English\n",
            "Graphics Card:  Integrated Intel UHD for 10th Generation Intel Core i3-10110U\n",
            "RAM:  8 GB 1X8 GB 3200MHz DDR4 Non-ECC\n",
            "Memory:  M.2 256GB PCIe NVMe Class 35 Solid State Drive\n",
            "Screen Size:  39.6-cm. display\n",
            "Weight:  Starting at 1.79 kg\n",
            "\n",
            "\n",
            "\n",
            "3\n",
            "lap_name:  New Latitude 14 3420 Laptop\n",
            "price:  ₹ 56515.01\n",
            "processor:  Intel Celeron 6305 Processor\n",
            "Operating System:  Windows 10 Pro (64-bit) English\n",
            "Graphics Card:  Intel® UHD graphics for Celeron 6305U processor\n",
            "RAM:  4 GB 1x4 GB 3200MHz DDR4 Non-ECC\n",
            "Memory:  2.5\" 500GB 7200 RPM SATA Hard Drive\n",
            "Screen Size:  35.5-cm. display\n",
            "Weight:  Starting at 1.52 kg\n",
            "\n",
            "\n",
            "\n",
            "4\n",
            "lap_name:  New Latitude 15 3520 Laptop\n",
            "price:  ₹ 57196.83\n",
            "processor:  Intel Celeron 6305 Processor\n",
            "Operating System:  Windows 10 Pro (64-bit) English\n",
            "Graphics Card:  Intel® UHD graphics for Celeron 6305U processor\n",
            "RAM:  4 GB 1x4 GB 3200MHz DDR4 Non-ECC\n",
            "Memory:  2.5\" 500GB 7200 RPM SATA Hard Drive\n",
            "Screen Size:  39.6-cm. display\n",
            "Weight:  Starting at 1.79 kg\n",
            "\n",
            "\n",
            "\n",
            "5\n",
            "lap_name:  Latitude 13 3310 Laptop\n",
            "price:  ₹ 69492.40\n",
            "processor:  8th Generation Intel® Core™ i3-8145U Processor\n",
            "Operating System:  Windows 10 Pro 64-bit English\n",
            "Graphics Card:  Intel® Core™ i3-8145U processor w/Intel® UHD graphics 620\n",
            "RAM:  4 GB 1x4 GB 3200MHz DDR4 Non-ECC\n",
            "Memory:  M.2 128GB PCIe NVMe Class 35 Solid State Drive\n",
            "Screen Size:  33.7-cm. display\n",
            "Weight:  Starting at 1.56 kg\n",
            "\n",
            "\n",
            "\n",
            "6\n",
            "lap_name:  Latitude 13 3310 Laptop\n",
            "price:  ₹ 69718.40\n",
            "processor:  8th Generation Intel® Core™ i5-8265U Processor\n",
            "Operating System:  Windows 10 Pro (64-bit) English\n",
            "Graphics Card:  Intel® Core™ i5-8265U processor w/Intel® UHD graphics 620\n",
            "RAM:  4 GB 1x4 GB 3200MHz DDR4 Non-ECC\n",
            "Memory:  M.2 128GB PCIe NVMe Class 35 Solid State Drive\n",
            "Screen Size:  33.7-cm. display\n",
            "Weight:  Starting at 1.56 kg\n",
            "\n",
            "\n",
            "\n",
            "7\n",
            "lap_name:  Latitude 14 3410 Laptop\n",
            "price:  ₹ 71403.12\n",
            "processor:  10th Generation Intel® Core™ i5-10210U\n",
            "Operating System:  Windows 10 Pro (64-bit) English\n",
            "Graphics Card:  Integrated Intel UHD for 10th Generation Intel Core i5-10210U\n",
            "RAM:  4 GB 1x4 GB 3200MHz DDR4 Non-ECC\n",
            "Memory:  2.5\" 500GB 7200 RPM SATA Hard Drive\n",
            "Screen Size:  35.5-cm. display\n",
            "Weight:  Starting at 1.53 kg\n",
            "\n",
            "\n",
            "\n",
            "8\n",
            "lap_name:  Latitude 15 3510 Laptop\n",
            "price:  ₹ 71751.07\n",
            "processor:  10th Generation Intel® Core™ i5-10210U\n",
            "Operating System:  Windows 10 Pro (64-bit) English\n",
            "Graphics Card:  Integrated Intel UHD for 10th Generation Intel Core i5-10210U\n",
            "RAM:  8 GB 1X8 GB 3200MHz DDR4 Non-ECC\n",
            "Memory:  1TB 2.5\" 5400RPM 7mm SMR Hard Drive\n",
            "Screen Size:  39.6-cm. display\n",
            "Weight:  Starting at 1.79 kg\n",
            "\n",
            "\n",
            "\n",
            "9\n",
            "lap_name:  Latitude 15 3510 Laptop\n",
            "price:  ₹ 72617.59\n",
            "processor:  10th Generation Intel® Core™ i5-10210U\n",
            "Operating System:  Windows 10 Pro (64-bit) English\n",
            "Graphics Card:  Integrated Intel UHD for 10th Generation Intel Core i5-10210U\n",
            "RAM:  4 GB 1x4 GB 3200MHz DDR4 Non-ECC\n",
            "Memory:  2.5\" 500GB 7200 RPM SATA Hard Drive\n",
            "Screen Size:  39.6-cm. display\n",
            "Weight:  Starting at 1.79 kg\n",
            "\n",
            "\n",
            "\n",
            "10\n",
            "lap_name:  New Latitude 14 3420 Laptop\n",
            "price:  ₹ 77037.58\n",
            "processor:  11th Generation Intel® Core™ i5-1135G7\n",
            "Operating System:  Windows 10 Pro (64-bit) English\n",
            "Graphics Card:  Intel® Iris® Xe graphics for i5-1135G7 processor\n",
            "RAM:  8 GB 1X8 GB 3200MHz DDR4 Non-ECC\n",
            "Memory:  1TB 2.5\" 5400RPM 7mm SMR Hard Drive\n",
            "Screen Size:  35.5-cm. display\n",
            "Weight:  Starting at 1.52 kg\n",
            "\n",
            "\n",
            "\n",
            "11\n",
            "lap_name:  New Latitude 14 3420 Laptop\n",
            "price:  ₹ 78694.29\n",
            "processor:  11th Generation Intel® Core™ i5-1135G7\n",
            "Operating System:  Windows 10 Pro (64-bit) English\n",
            "Graphics Card:  Intel® Iris® Xe graphics for i5-1135G7 processor\n",
            "RAM:  8 GB 1X8 GB 3200MHz DDR4 Non-ECC\n",
            "Memory:  M.2 256GB PCIe NVMe Class 35 Solid State Drive\n",
            "Screen Size:  35.5-cm. display\n",
            "Weight:  Starting at 1.52 kg\n",
            "\n",
            "\n",
            "\n",
            "12\n",
            "lap_name:  New Latitude 15 3520 Laptop\n",
            "price:  ₹ 78816.78\n",
            "processor:  11th Generation Intel® Core™ i5-1135G7\n",
            "Operating System:  Windows 10 Pro (64-bit) English\n",
            "Graphics Card:  Intel® Iris® Xe graphics for i5-1135G7 processor\n",
            "RAM:  8 GB 1X8 GB 3200MHz DDR4 Non-ECC\n",
            "Memory:  M.2 256GB PCIe NVMe Class 35 Solid State Drive\n",
            "Screen Size:  39.6-cm. display\n",
            "Weight:  Starting at 1.79 kg\n",
            "\n",
            "\n",
            "\n"
          ],
          "name": "stdout"
        }
      ]
    },
    {
      "cell_type": "code",
      "metadata": {
        "id": "d8SiyTl65XuE"
      },
      "source": [
        ""
      ],
      "execution_count": 10,
      "outputs": []
    }
  ]
}