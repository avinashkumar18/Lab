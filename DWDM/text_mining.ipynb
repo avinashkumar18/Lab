{
  "nbformat": 4,
  "nbformat_minor": 0,
  "metadata": {
    "colab": {
      "name": "text_mining.ipynb",
      "provenance": [],
      "authorship_tag": "ABX9TyO5xgbNjYQ+XlY6K726iY1D",
      "include_colab_link": true
    },
    "kernelspec": {
      "name": "python3",
      "display_name": "Python 3"
    },
    "language_info": {
      "name": "python"
    }
  },
  "cells": [
    {
      "cell_type": "markdown",
      "metadata": {
        "id": "view-in-github",
        "colab_type": "text"
      },
      "source": [
        "<a href=\"https://colab.research.google.com/github/avinashkumar18/Lab/blob/main/DWDM/text_mining.ipynb\" target=\"_parent\"><img src=\"https://colab.research.google.com/assets/colab-badge.svg\" alt=\"Open In Colab\"/></a>"
      ]
    },
    {
      "cell_type": "code",
      "metadata": {
        "id": "x9532stt2LlQ"
      },
      "source": [
        "from bs4 import BeautifulSoup as soup \n",
        "from urllib.request import urlopen as uReq\n",
        "import requests"
      ],
      "execution_count": 15,
      "outputs": []
    },
    {
      "cell_type": "code",
      "metadata": {
        "id": "Qh2eFOEB2pza"
      },
      "source": [
        "page_url = \"https://en.wikipedia.org/wiki/COVID-19_pandemic_in_Tamil_Nadu\""
      ],
      "execution_count": 16,
      "outputs": []
    },
    {
      "cell_type": "code",
      "metadata": {
        "colab": {
          "base_uri": "https://localhost:8080/"
        },
        "id": "9eIm7k3h2uSg",
        "outputId": "dff77d67-86c2-4437-8d99-9e69162cf910"
      },
      "source": [
        "http_response = requests.get(page_url)\n",
        "http_response"
      ],
      "execution_count": 17,
      "outputs": [
        {
          "output_type": "execute_result",
          "data": {
            "text/plain": [
              "<Response [200]>"
            ]
          },
          "metadata": {
            "tags": []
          },
          "execution_count": 17
        }
      ]
    },
    {
      "cell_type": "code",
      "metadata": {
        "id": "qfLukpg02xTN"
      },
      "source": [
        "uClient = uReq(page_url)\n",
        "page_soup = soup(uClient.read(), \"html.parser\")\n",
        "uClient.close()"
      ],
      "execution_count": 18,
      "outputs": []
    },
    {
      "cell_type": "code",
      "metadata": {
        "id": "WIBGmOk83i9x"
      },
      "source": [
        "container1 = page_soup.findAll(\"tr\", {\"id\": \"mw-customcollapsible-l21\"})"
      ],
      "execution_count": 35,
      "outputs": []
    },
    {
      "cell_type": "code",
      "metadata": {
        "colab": {
          "base_uri": "https://localhost:8080/"
        },
        "id": "6QPixkktIAEy",
        "outputId": "7bc369d0-a67d-489d-b564-7fa05135afb3"
      },
      "source": [
        "container1[1]"
      ],
      "execution_count": 48,
      "outputs": [
        {
          "output_type": "execute_result",
          "data": {
            "text/plain": [
              "<tr class=\"mw-collapsible\" id=\"mw-customcollapsible-l21\">\n",
              "<td class=\"bb-04em\" colspan=\"2\" style=\"text-align:center\">2020-09-02</td>\n",
              "<td class=\"bb-lr\">\n",
              "<div class=\"bb-fl\" style=\"background:#A50026;width:3.65px\" title=\"7516\">​</div>\n",
              "<div class=\"bb-fl\" style=\"background:SkyBlue;width:184.71px\" title=\"380063\">​</div>\n",
              "<div class=\"bb-fl\" style=\"background:Tomato;width:25.46px\" title=\"52380\">​</div>\n",
              "</td>\n",
              "<td class=\"bb-04em\" style=\"text-align:center\"><span class=\"cbs-ibr\" style=\"padding:0 0.3em 0 0; width:4.55em\">439,959</span><span class=\"cbs-ibl\" style=\"width:4.55em\">(+1.38%)</span></td>\n",
              "<td class=\"bb-04em\" style=\"text-align:center\"><span class=\"cbs-ibr\" style=\"padding:0 0.3em 0 0; width:3.5em\">7,516</span><span class=\"cbs-ibl\" style=\"width:4.55em\">(+1.32%)</span></td>\n",
              "</tr>"
            ]
          },
          "metadata": {
            "tags": []
          },
          "execution_count": 48
        }
      ]
    },
    {
      "cell_type": "code",
      "metadata": {
        "colab": {
          "base_uri": "https://localhost:8080/"
        },
        "id": "66D1r3t-5GXY",
        "outputId": "b5926db6-96cf-472d-ba77-e31bbc7e631e"
      },
      "source": [
        "len(container1)"
      ],
      "execution_count": 36,
      "outputs": [
        {
          "output_type": "execute_result",
          "data": {
            "text/plain": [
              "21"
            ]
          },
          "metadata": {
            "tags": []
          },
          "execution_count": 36
        }
      ]
    },
    {
      "cell_type": "code",
      "metadata": {
        "id": "7v1ZvefMBDAI"
      },
      "source": [
        "output_1 = \"table1.csv\"\n",
        "output_2 = \"table2.csv\"\n",
        "output_3 = \"table3.csv\""
      ],
      "execution_count": 33,
      "outputs": []
    },
    {
      "cell_type": "markdown",
      "metadata": {
        "id": "Y5_UpfMGBcQI"
      },
      "source": [
        "**TABLE 1**"
      ]
    },
    {
      "cell_type": "code",
      "metadata": {
        "id": "KBiQVGFIBWn4"
      },
      "source": [
        "header1 = \"S_no,Date,Active_Cases,Total_Recoveries,Total_Deaths,Total_cases\\n\""
      ],
      "execution_count": 37,
      "outputs": []
    },
    {
      "cell_type": "code",
      "metadata": {
        "id": "F5jUrmnbcljN"
      },
      "source": [
        "def find_substring( s, first, last ):\n",
        "  start = s.rindex( first ) + len( first )\n",
        "  end = s.rindex( last, start )\n",
        "  return s[start:end]"
      ],
      "execution_count": 120,
      "outputs": []
    },
    {
      "cell_type": "code",
      "metadata": {
        "colab": {
          "base_uri": "https://localhost:8080/"
        },
        "id": "vy3Cql6kDVZU",
        "outputId": "1e73a03c-87bf-4047-c692-3936ec53a460"
      },
      "source": [
        "count=0\n",
        "f = open(output_1, \"w\")\n",
        "f.write(header1)\n",
        "for container in container1:\n",
        "    count+=1\n",
        "    date = container.findAll(\"td\", {\"colspan\": \"2\"})[0].text.strip()\n",
        "    d = container.findAll(\"div\")\n",
        "    s1=str(d)\n",
        "    txt=s1.split(\"</div>, <div class\")\n",
        "    first='=\"'\n",
        "    last='\">'\n",
        "    total_death = find_substring(txt[0],first,last).strip()\n",
        "    total_recoveries = find_substring(txt[1],first,last).strip()\n",
        "    active_cases = find_substring(txt[2],first,last).strip()\n",
        "    total_cases = container.findAll(\"span\", {\"class\": \"cbs-ibr\"})[0].text.replace(',','').strip()\n",
        "\n",
        "    print(count)\n",
        "    c=str(count)\n",
        "    print(\"date: \", date)\n",
        "    print(\"total_death: \", total_death)\n",
        "    print(\"total_recoveries: \", total_recoveries)\n",
        "    print(\"active_cases: \", active_cases)\n",
        "    print(\"total_cases: \", total_cases)\n",
        "    print(\"\\n\\n\")\n",
        "\n",
        "    # writes the dataset to file\n",
        "    f.write(c + \", \" + date + \", \" + active_cases + \", \" + total_recoveries + \", \" +\n",
        "    total_death + \", \" + total_cases + \"\\n\")\n",
        "f.close()"
      ],
      "execution_count": 153,
      "outputs": [
        {
          "output_type": "stream",
          "text": [
            "1\n",
            "date:  2020-09-01\n",
            "total_death:  7418\n",
            "total_recoveries:  374172\n",
            "active_cases:  52379\n",
            "total_cases:  433969\n",
            "\n",
            "\n",
            "\n",
            "2\n",
            "date:  2020-09-02\n",
            "total_death:  7516\n",
            "total_recoveries:  380063\n",
            "active_cases:  52380\n",
            "total_cases:  439959\n",
            "\n",
            "\n",
            "\n",
            "3\n",
            "date:  2020-09-03\n",
            "total_death:  7608\n",
            "total_recoveries:  386173\n",
            "active_cases:  52070\n",
            "total_cases:  445851\n",
            "\n",
            "\n",
            "\n",
            "4\n",
            "date:  2020-09-04\n",
            "total_death:  7687\n",
            "total_recoveries:  392507\n",
            "active_cases:  51633\n",
            "total_cases:  451827\n",
            "\n",
            "\n",
            "\n",
            "5\n",
            "date:  2020-09-05\n",
            "total_death:  7748\n",
            "total_recoveries:  398366\n",
            "active_cases:  51583\n",
            "total_cases:  457697\n",
            "\n",
            "\n",
            "\n",
            "6\n",
            "date:  2020-09-06\n",
            "total_death:  7836\n",
            "total_recoveries:  404186\n",
            "active_cases:  51458\n",
            "total_cases:  463480\n",
            "\n",
            "\n",
            "\n",
            "7\n",
            "date:  2020-09-07\n",
            "total_death:  7925\n",
            "total_recoveries:  410116\n",
            "active_cases:  51215\n",
            "total_cases:  469256\n",
            "\n",
            "\n",
            "\n",
            "8\n",
            "date:  2020-09-08\n",
            "total_death:  8012\n",
            "total_recoveries:  416715\n",
            "active_cases:  50213\n",
            "total_cases:  474940\n",
            "\n",
            "\n",
            "\n",
            "9\n",
            "date:  2020-09-09\n",
            "total_death:  8090\n",
            "total_recoveries:  423231\n",
            "active_cases:  49203\n",
            "total_cases:  480524\n",
            "\n",
            "\n",
            "\n",
            "10\n",
            "date:  2020-09-10\n",
            "total_death:  8154\n",
            "total_recoveries:  429416\n",
            "active_cases:  48482\n",
            "total_cases:  486052\n",
            "\n",
            "\n",
            "\n",
            "11\n",
            "date:  2020-09-11\n",
            "total_death:  8231\n",
            "total_recoveries:  435422\n",
            "active_cases:  47918\n",
            "total_cases:  491571\n",
            "\n",
            "\n",
            "\n",
            "12\n",
            "date:  2020-09-12\n",
            "total_death:  8307\n",
            "total_recoveries:  441649\n",
            "active_cases:  47110\n",
            "total_cases:  497066\n",
            "\n",
            "\n",
            "\n",
            "13\n",
            "date:  2020-09-13\n",
            "total_death:  8381\n",
            "total_recoveries:  447366\n",
            "active_cases:  47012\n",
            "total_cases:  502759\n",
            "\n",
            "\n",
            "\n",
            "14\n",
            "date:  2020-09-14\n",
            "total_death:  8434\n",
            "total_recoveries:  453165\n",
            "active_cases:  46912\n",
            "total_cases:  508511\n",
            "\n",
            "\n",
            "\n",
            "15\n",
            "date:  2020-09-15\n",
            "total_death:  8502\n",
            "total_recoveries:  458900\n",
            "active_cases:  46806\n",
            "total_cases:  514208\n",
            "\n",
            "\n",
            "\n",
            "16\n",
            "date:  2020-09-16\n",
            "total_death:  8559\n",
            "total_recoveries:  464668\n",
            "active_cases:  46633\n",
            "total_cases:  519860\n",
            "\n",
            "\n",
            "\n",
            "17\n",
            "date:  2020-09-17\n",
            "total_death:  8618\n",
            "total_recoveries:  470192\n",
            "active_cases:  46610\n",
            "total_cases:  525420\n",
            "\n",
            "\n",
            "\n",
            "18\n",
            "date:  2020-09-18\n",
            "total_death:  8685\n",
            "total_recoveries:  475717\n",
            "active_cases:  46506\n",
            "total_cases:  530908\n",
            "\n",
            "\n",
            "\n",
            "19\n",
            "date:  2020-09-19\n",
            "total_death:  8751\n",
            "total_recoveries:  481273\n",
            "active_cases:  46453\n",
            "total_cases:  536477\n",
            "\n",
            "\n",
            "\n",
            "20\n",
            "date:  2020-09-20\n",
            "total_death:  8811\n",
            "total_recoveries:  486479\n",
            "active_cases:  46703\n",
            "total_cases:  541993\n",
            "\n",
            "\n",
            "\n",
            "21\n",
            "date:  2020-09-21\n",
            "total_death:  8871\n",
            "total_recoveries:  491971\n",
            "active_cases:  46495\n",
            "total_cases:  547337\n",
            "\n",
            "\n",
            "\n"
          ],
          "name": "stdout"
        }
      ]
    },
    {
      "cell_type": "code",
      "metadata": {
        "id": "peY3vbOiHDu7"
      },
      "source": [
        ""
      ],
      "execution_count": null,
      "outputs": []
    }
  ]
}