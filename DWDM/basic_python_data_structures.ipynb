{
  "nbformat": 4,
  "nbformat_minor": 0,
  "metadata": {
    "colab": {
      "name": "basic_python_data_structures.ipynb",
      "provenance": [],
      "collapsed_sections": [],
      "authorship_tag": "ABX9TyOXYx3cJaJQ+z/GXmHKSv7Y",
      "include_colab_link": true
    },
    "kernelspec": {
      "name": "python3",
      "display_name": "Python 3"
    }
  },
  "cells": [
    {
      "cell_type": "markdown",
      "metadata": {
        "id": "view-in-github",
        "colab_type": "text"
      },
      "source": [
        "<a href=\"https://colab.research.google.com/github/avinashkumar18/Lab/blob/main/DWDM/basic_python_data_structures.ipynb\" target=\"_parent\"><img src=\"https://colab.research.google.com/assets/colab-badge.svg\" alt=\"Open In Colab\"/></a>"
      ]
    },
    {
      "cell_type": "markdown",
      "metadata": {
        "id": "pn1p5vApX0T3"
      },
      "source": [
        "**LIST**"
      ]
    },
    {
      "cell_type": "markdown",
      "metadata": {
        "id": "-bK1eVlHZfpu"
      },
      "source": [
        "Create list"
      ]
    },
    {
      "cell_type": "code",
      "metadata": {
        "colab": {
          "base_uri": "https://localhost:8080/"
        },
        "id": "2pOxKU0WW564",
        "outputId": "12eeef31-2c2c-465d-cc36-e4bb8b2970e7"
      },
      "source": [
        "_list_ = [] \r\n",
        "print(_list_)\r\n",
        "# list containg values with multiple datatypes\r\n",
        "_list_ = [1, 2, 3, 'hello', 3.132] \r\n",
        "print(_list_)"
      ],
      "execution_count": 21,
      "outputs": [
        {
          "output_type": "stream",
          "text": [
            "[]\n",
            "[1, 2, 3, 'hello', 3.132]\n"
          ],
          "name": "stdout"
        }
      ]
    },
    {
      "cell_type": "markdown",
      "metadata": {
        "id": "xGPxnrnuZpy9"
      },
      "source": [
        "Insert elements"
      ]
    },
    {
      "cell_type": "code",
      "metadata": {
        "colab": {
          "base_uri": "https://localhost:8080/"
        },
        "id": "N3DWrBYcYeZ6",
        "outputId": "afe02b02-4c06-44b3-eb87-ce78bb7d04e5"
      },
      "source": [
        "_list_.append([5,6])\r\n",
        "print(_list_)\r\n",
        "_list_.extend([8,9])\r\n",
        "print(_list_)\r\n",
        "_list_.insert(3,4)\r\n",
        "print(_list_)"
      ],
      "execution_count": 22,
      "outputs": [
        {
          "output_type": "stream",
          "text": [
            "[1, 2, 3, 'hello', 3.132, [5, 6]]\n",
            "[1, 2, 3, 'hello', 3.132, [5, 6], 8, 9]\n",
            "[1, 2, 3, 4, 'hello', 3.132, [5, 6], 8, 9]\n"
          ],
          "name": "stdout"
        }
      ]
    },
    {
      "cell_type": "markdown",
      "metadata": {
        "id": "c6PQXzAPZmy_"
      },
      "source": [
        "Accessing elements"
      ]
    },
    {
      "cell_type": "code",
      "metadata": {
        "colab": {
          "base_uri": "https://localhost:8080/"
        },
        "id": "Fpt3xJ-WZUQC",
        "outputId": "8e48fa5f-fc1e-42f8-a620-8e6681d0419d"
      },
      "source": [
        "#access all elements\r\n",
        "print(_list_)\r\n",
        "#access at index\r\n",
        "print(_list_[5])\r\n",
        "#access range\r\n",
        "print(_list_[2:6])\r\n",
        "#reverse\r\n",
        "print(_list_[::-1])"
      ],
      "execution_count": 23,
      "outputs": [
        {
          "output_type": "stream",
          "text": [
            "[1, 2, 3, 4, 'hello', 3.132, [5, 6], 8, 9]\n",
            "3.132\n",
            "[3, 4, 'hello', 3.132]\n",
            "[9, 8, [5, 6], 3.132, 'hello', 4, 3, 2, 1]\n"
          ],
          "name": "stdout"
        }
      ]
    },
    {
      "cell_type": "code",
      "metadata": {
        "colab": {
          "base_uri": "https://localhost:8080/"
        },
        "id": "qK10uvOvagPV",
        "outputId": "2a1adc9a-2a4f-4f84-8c9a-1edcbfbff754"
      },
      "source": [
        "print(\"length is\", len(_list_))\r\n",
        "print(\"index of a particular value\",_list_.index('hello'))\r\n",
        "print(\"count of element\",_list_.count(5))\r\n",
        "l=[6,5,9,2,1]\r\n",
        "print(\"sorted order\",sorted(l))\r\n",
        "print(\"original list\",l)\r\n",
        "l.sort()\r\n",
        "print(\"after sort\", l)"
      ],
      "execution_count": 24,
      "outputs": [
        {
          "output_type": "stream",
          "text": [
            "length is 9\n",
            "index of a particular value 4\n",
            "count of element 0\n",
            "sorted order [1, 2, 5, 6, 9]\n",
            "original list [6, 5, 9, 2, 1]\n",
            "after sort [1, 2, 5, 6, 9]\n"
          ],
          "name": "stdout"
        }
      ]
    },
    {
      "cell_type": "markdown",
      "metadata": {
        "id": "q2YNVJHcdHFx"
      },
      "source": [
        "Delete elements"
      ]
    },
    {
      "cell_type": "code",
      "metadata": {
        "colab": {
          "base_uri": "https://localhost:8080/"
        },
        "id": "OD3TUu1uczyo",
        "outputId": "29421f4c-2398-4ea3-9041-9be00abbee33"
      },
      "source": [
        "#delete element of value\r\n",
        "_list_.remove(3.132)\r\n",
        "print(_list_)\r\n",
        "#delete element at index\r\n",
        "del _list_[4]\r\n",
        "print(_list_)\r\n",
        "#pop element at index\r\n",
        "_list_.pop(2)\r\n",
        "print(_list_)\r\n",
        "#clear entire list\r\n",
        "_list_.clear()\r\n",
        "print(_list_)"
      ],
      "execution_count": 25,
      "outputs": [
        {
          "output_type": "stream",
          "text": [
            "[1, 2, 3, 4, 'hello', [5, 6], 8, 9]\n",
            "[1, 2, 3, 4, [5, 6], 8, 9]\n",
            "[1, 2, 4, [5, 6], 8, 9]\n",
            "[]\n"
          ],
          "name": "stdout"
        }
      ]
    },
    {
      "cell_type": "markdown",
      "metadata": {
        "id": "7IYv4h8Fe97C"
      },
      "source": [
        "**TUPLE**"
      ]
    },
    {
      "cell_type": "markdown",
      "metadata": {
        "id": "lBxThd8Uf_16"
      },
      "source": [
        "Create tuple"
      ]
    },
    {
      "cell_type": "code",
      "metadata": {
        "colab": {
          "base_uri": "https://localhost:8080/"
        },
        "id": "cuZgMiO9fatz",
        "outputId": "f6ed343d-473b-4806-b55d-123ee87cb18f"
      },
      "source": [
        "_tuple_ =(1, 2, 3, 'hello', 3.14)\r\n",
        "print(_tuple_)"
      ],
      "execution_count": 26,
      "outputs": [
        {
          "output_type": "stream",
          "text": [
            "(1, 2, 3, 'hello', 3.14)\n"
          ],
          "name": "stdout"
        }
      ]
    },
    {
      "cell_type": "markdown",
      "metadata": {
        "id": "YeyWa3w7gWaX"
      },
      "source": [
        "Append elements"
      ]
    },
    {
      "cell_type": "code",
      "metadata": {
        "colab": {
          "base_uri": "https://localhost:8080/"
        },
        "id": "j_dZJ7j6gYfj",
        "outputId": "4a584345-28a7-4f07-cc09-6dd96ba3cbe8"
      },
      "source": [
        "_tuple_ = _tuple_ + (1.6,'world',7,['tuples','element'])\r\n",
        "print(_tuple_)"
      ],
      "execution_count": 33,
      "outputs": [
        {
          "output_type": "stream",
          "text": [
            "(1, 2, 3, 'hello', 3.14, 1.6, 'world', 7, 1.6, 'world', 7, ['tuples', 'element'])\n"
          ],
          "name": "stdout"
        }
      ]
    },
    {
      "cell_type": "markdown",
      "metadata": {
        "id": "yg8nrHZbgsM8"
      },
      "source": [
        "Traversing through tuples"
      ]
    },
    {
      "cell_type": "code",
      "metadata": {
        "colab": {
          "base_uri": "https://localhost:8080/"
        },
        "id": "NuUIIjG4gxwg",
        "outputId": "6e61a85d-d3e1-404b-b419-f3936887806f"
      },
      "source": [
        "print(_tuple_[4])\r\n",
        "print(_tuple_,'\\n', _tuple_[:])\r\n",
        "print(_tuple_[6][4])\r\n",
        "for itr in _tuple_:\r\n",
        "  print(itr)"
      ],
      "execution_count": 34,
      "outputs": [
        {
          "output_type": "stream",
          "text": [
            "3.14\n",
            "(1, 2, 3, 'hello', 3.14, 1.6, 'world', 7, 1.6, 'world', 7, ['tuples', 'element']) \n",
            " (1, 2, 3, 'hello', 3.14, 1.6, 'world', 7, 1.6, 'world', 7, ['tuples', 'element'])\n",
            "d\n",
            "1\n",
            "2\n",
            "3\n",
            "hello\n",
            "3.14\n",
            "1.6\n",
            "world\n",
            "7\n",
            "1.6\n",
            "world\n",
            "7\n",
            "['tuples', 'element']\n"
          ],
          "name": "stdout"
        }
      ]
    },
    {
      "cell_type": "code",
      "metadata": {
        "colab": {
          "base_uri": "https://localhost:8080/"
        },
        "id": "xKOfWVaBh9Xp",
        "outputId": "cdab133a-f631-45b9-d4b3-f65213be8d37"
      },
      "source": [
        "print(_tuple_.count('world'))\r\n",
        "_tuple_[11][1] = 'modified'\r\n",
        "print(_tuple_)\r\n",
        "print(_tuple_.index(1.6))"
      ],
      "execution_count": 37,
      "outputs": [
        {
          "output_type": "stream",
          "text": [
            "2\n",
            "(1, 2, 3, 'hello', 3.14, 1.6, 'world', 7, 1.6, 'world', 7, ['tuples', 'modified'])\n",
            "5\n"
          ],
          "name": "stdout"
        }
      ]
    },
    {
      "cell_type": "markdown",
      "metadata": {
        "id": "mZxu7kH0kzFP"
      },
      "source": [
        "Delete elements"
      ]
    },
    {
      "cell_type": "code",
      "metadata": {
        "colab": {
          "base_uri": "https://localhost:8080/"
        },
        "id": "Pk_7YPwck5WX",
        "outputId": "a09c0384-ccc5-481a-912e-60c6442f1110"
      },
      "source": [
        "print(_tuple_)\r\n",
        "temp = list(_tuple_)\r\n",
        "temp.remove('world')\r\n",
        "_tuple_ = tuple(temp)\r\n",
        "print(_tuple_)\r\n",
        "temp.clear()\r\n",
        "_tuple_ = tuple(temp)\r\n",
        "print(_tuple_)"
      ],
      "execution_count": 38,
      "outputs": [
        {
          "output_type": "stream",
          "text": [
            "(1, 2, 3, 'hello', 3.14, 1.6, 'world', 7, 1.6, 'world', 7, ['tuples', 'modified'])\n",
            "(1, 2, 3, 'hello', 3.14, 1.6, 7, 1.6, 'world', 7, ['tuples', 'modified'])\n",
            "()\n"
          ],
          "name": "stdout"
        }
      ]
    },
    {
      "cell_type": "markdown",
      "metadata": {
        "id": "6a1DAM4Gljfb"
      },
      "source": [
        "**SET**"
      ]
    },
    {
      "cell_type": "markdown",
      "metadata": {
        "id": "KrjDni4il-9r"
      },
      "source": [
        "Create set"
      ]
    },
    {
      "cell_type": "code",
      "metadata": {
        "colab": {
          "base_uri": "https://localhost:8080/"
        },
        "id": "ePqkPXsXlgAn",
        "outputId": "55a7c8f2-20b1-4c89-fb2a-ea8f3b7b7a45"
      },
      "source": [
        "_set_ = {5,4,6,2,1,-1,2,3,4,5,0,0}\r\n",
        "print(_set_)"
      ],
      "execution_count": 49,
      "outputs": [
        {
          "output_type": "stream",
          "text": [
            "{0, 1, 2, 3, 4, 5, 6, -1}\n"
          ],
          "name": "stdout"
        }
      ]
    },
    {
      "cell_type": "markdown",
      "metadata": {
        "id": "HdVYme-ZmeDe"
      },
      "source": [
        "Add element"
      ]
    },
    {
      "cell_type": "code",
      "metadata": {
        "colab": {
          "base_uri": "https://localhost:8080/"
        },
        "id": "FZLUIyWJmjvM",
        "outputId": "5d3bd642-92b4-4874-9548-2093adc8bc15"
      },
      "source": [
        "_set_.add(7)\r\n",
        "_set_.add(-9)\r\n",
        "print(_set_)"
      ],
      "execution_count": 51,
      "outputs": [
        {
          "output_type": "stream",
          "text": [
            "{0, 1, 2, 3, 4, 5, 6, 7, -9, -1}\n"
          ],
          "name": "stdout"
        }
      ]
    },
    {
      "cell_type": "markdown",
      "metadata": {
        "id": "1Gx1vYr3nPK3"
      },
      "source": [
        "Set operations"
      ]
    },
    {
      "cell_type": "code",
      "metadata": {
        "colab": {
          "base_uri": "https://localhost:8080/"
        },
        "id": "RRd_qlUvownh",
        "outputId": "006a86c2-0a5c-4604-e7d9-f81b2a6e3620"
      },
      "source": [
        "_set_2 = {-2,-3,-4,0}\r\n",
        "print(_set_ | _set_2) #union\r\n",
        "print(_set_ & _set_2) #intersection\r\n",
        "print(_set_ - _set_2) #difference\r\n",
        "print(_set_ ^ _set_2) #symmetric difference"
      ],
      "execution_count": 53,
      "outputs": [
        {
          "output_type": "stream",
          "text": [
            "{0, 1, 2, 3, 4, 5, 6, 7, -2, -9, -4, -3, -1}\n",
            "{0}\n",
            "{1, 2, 3, 4, 5, 6, 7, -9, -1}\n",
            "{1, 2, 3, 4, 5, 6, 7, -1, -9, -4, -3, -2}\n"
          ],
          "name": "stdout"
        }
      ]
    },
    {
      "cell_type": "markdown",
      "metadata": {
        "id": "-nc5E8XwqUkZ"
      },
      "source": [
        "Delete element"
      ]
    },
    {
      "cell_type": "code",
      "metadata": {
        "colab": {
          "base_uri": "https://localhost:8080/"
        },
        "id": "fLBENQOCqTtL",
        "outputId": "23359f82-8fde-44d5-a303-9727814cdbea"
      },
      "source": [
        "_set_.remove(-9)\r\n",
        "print(_set_)\r\n",
        "_set_.clear()\r\n",
        "print(_set_)"
      ],
      "execution_count": 54,
      "outputs": [
        {
          "output_type": "stream",
          "text": [
            "{0, 1, 2, 3, 4, 5, 6, 7, -1}\n",
            "set()\n"
          ],
          "name": "stdout"
        }
      ]
    }
  ]
}