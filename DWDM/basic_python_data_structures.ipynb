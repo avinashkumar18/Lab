{
  "nbformat": 4,
  "nbformat_minor": 0,
  "metadata": {
    "colab": {
      "name": "basic_python_data_structures.ipynb",
      "provenance": [],
      "collapsed_sections": [],
      "authorship_tag": "ABX9TyOf2GCzzTkbr8V7J+pANNXQ",
      "include_colab_link": true
    },
    "kernelspec": {
      "name": "python3",
      "display_name": "Python 3"
    }
  },
  "cells": [
    {
      "cell_type": "markdown",
      "metadata": {
        "id": "view-in-github",
        "colab_type": "text"
      },
      "source": [
        "<a href=\"https://colab.research.google.com/github/avinashkumar18/Lab/blob/main/DWDM/basic_python_data_structures.ipynb\" target=\"_parent\"><img src=\"https://colab.research.google.com/assets/colab-badge.svg\" alt=\"Open In Colab\"/></a>"
      ]
    },
    {
      "cell_type": "markdown",
      "metadata": {
        "id": "g4S7r-WK5tV6"
      },
      "source": [
        "Github Link: [Click here](https://github.com/avinashkumar18/Lab/blob/main/DWDM/basic_python_data_structures.ipynb)"
      ]
    },
    {
      "cell_type": "markdown",
      "metadata": {
        "id": "pn1p5vApX0T3"
      },
      "source": [
        "**LIST**"
      ]
    },
    {
      "cell_type": "markdown",
      "metadata": {
        "id": "-bK1eVlHZfpu"
      },
      "source": [
        "Create list"
      ]
    },
    {
      "cell_type": "code",
      "metadata": {
        "colab": {
          "base_uri": "https://localhost:8080/"
        },
        "id": "2pOxKU0WW564",
        "outputId": "9838aca9-fdc9-4956-dd87-3c1ebe9ecf1e"
      },
      "source": [
        "_list_ = [] \r\n",
        "print(_list_)\r\n",
        "# list containg values with multiple datatypes\r\n",
        "_list_ = [1, 2, 3, 'hello', 3.132] \r\n",
        "print(_list_)"
      ],
      "execution_count": 1,
      "outputs": [
        {
          "output_type": "stream",
          "text": [
            "[]\n",
            "[1, 2, 3, 'hello', 3.132]\n"
          ],
          "name": "stdout"
        }
      ]
    },
    {
      "cell_type": "markdown",
      "metadata": {
        "id": "xGPxnrnuZpy9"
      },
      "source": [
        "Insert elements"
      ]
    },
    {
      "cell_type": "code",
      "metadata": {
        "colab": {
          "base_uri": "https://localhost:8080/"
        },
        "id": "N3DWrBYcYeZ6",
        "outputId": "46e161c5-c80b-487c-ece7-44efc37e850a"
      },
      "source": [
        "_list_.append([5,6])\r\n",
        "print(_list_)\r\n",
        "_list_.extend([8,9])\r\n",
        "print(_list_)\r\n",
        "_list_.insert(3,4)\r\n",
        "print(_list_)"
      ],
      "execution_count": 2,
      "outputs": [
        {
          "output_type": "stream",
          "text": [
            "[1, 2, 3, 'hello', 3.132, [5, 6]]\n",
            "[1, 2, 3, 'hello', 3.132, [5, 6], 8, 9]\n",
            "[1, 2, 3, 4, 'hello', 3.132, [5, 6], 8, 9]\n"
          ],
          "name": "stdout"
        }
      ]
    },
    {
      "cell_type": "markdown",
      "metadata": {
        "id": "c6PQXzAPZmy_"
      },
      "source": [
        "Accessing elements"
      ]
    },
    {
      "cell_type": "code",
      "metadata": {
        "colab": {
          "base_uri": "https://localhost:8080/"
        },
        "id": "Fpt3xJ-WZUQC",
        "outputId": "4b1a3c87-f5a3-46a4-961f-8eb2bb641b02"
      },
      "source": [
        "#access all elements\r\n",
        "print(_list_)\r\n",
        "#access at index\r\n",
        "print(_list_[5])\r\n",
        "#access range\r\n",
        "print(_list_[2:6])\r\n",
        "#reverse\r\n",
        "print(_list_[::-1])"
      ],
      "execution_count": 3,
      "outputs": [
        {
          "output_type": "stream",
          "text": [
            "[1, 2, 3, 4, 'hello', 3.132, [5, 6], 8, 9]\n",
            "3.132\n",
            "[3, 4, 'hello', 3.132]\n",
            "[9, 8, [5, 6], 3.132, 'hello', 4, 3, 2, 1]\n"
          ],
          "name": "stdout"
        }
      ]
    },
    {
      "cell_type": "code",
      "metadata": {
        "colab": {
          "base_uri": "https://localhost:8080/"
        },
        "id": "qK10uvOvagPV",
        "outputId": "cf955285-50e6-4f29-fd92-295420b2e042"
      },
      "source": [
        "print(\"length is\", len(_list_))\r\n",
        "print(\"index of a particular value\",_list_.index('hello'))\r\n",
        "print(\"count of element\",_list_.count(5))\r\n",
        "l=[6,5,9,2,1]\r\n",
        "print(\"sorted order\",sorted(l))\r\n",
        "print(\"original list\",l)\r\n",
        "l.sort()\r\n",
        "print(\"after sort\", l)"
      ],
      "execution_count": 4,
      "outputs": [
        {
          "output_type": "stream",
          "text": [
            "length is 9\n",
            "index of a particular value 4\n",
            "count of element 0\n",
            "sorted order [1, 2, 5, 6, 9]\n",
            "original list [6, 5, 9, 2, 1]\n",
            "after sort [1, 2, 5, 6, 9]\n"
          ],
          "name": "stdout"
        }
      ]
    },
    {
      "cell_type": "markdown",
      "metadata": {
        "id": "q2YNVJHcdHFx"
      },
      "source": [
        "Delete elements"
      ]
    },
    {
      "cell_type": "code",
      "metadata": {
        "colab": {
          "base_uri": "https://localhost:8080/"
        },
        "id": "OD3TUu1uczyo",
        "outputId": "4f4505fa-bf64-42c9-fe08-6d7524ce3ec9"
      },
      "source": [
        "#delete element of value\r\n",
        "_list_.remove(3.132)\r\n",
        "print(_list_)\r\n",
        "#delete element at index\r\n",
        "del _list_[4]\r\n",
        "print(_list_)\r\n",
        "#pop element at index\r\n",
        "_list_.pop(2)\r\n",
        "print(_list_)\r\n",
        "#clear entire list\r\n",
        "_list_.clear()\r\n",
        "print(_list_)"
      ],
      "execution_count": 5,
      "outputs": [
        {
          "output_type": "stream",
          "text": [
            "[1, 2, 3, 4, 'hello', [5, 6], 8, 9]\n",
            "[1, 2, 3, 4, [5, 6], 8, 9]\n",
            "[1, 2, 4, [5, 6], 8, 9]\n",
            "[]\n"
          ],
          "name": "stdout"
        }
      ]
    },
    {
      "cell_type": "markdown",
      "metadata": {
        "id": "7IYv4h8Fe97C"
      },
      "source": [
        "**TUPLE**"
      ]
    },
    {
      "cell_type": "markdown",
      "metadata": {
        "id": "lBxThd8Uf_16"
      },
      "source": [
        "Create tuple"
      ]
    },
    {
      "cell_type": "code",
      "metadata": {
        "colab": {
          "base_uri": "https://localhost:8080/"
        },
        "id": "cuZgMiO9fatz",
        "outputId": "010cff46-22ac-42f5-af83-caf0f3bc26ef"
      },
      "source": [
        "_tuple_ =(1, 2, 3, 'hello', 3.14)\r\n",
        "print(_tuple_)"
      ],
      "execution_count": 6,
      "outputs": [
        {
          "output_type": "stream",
          "text": [
            "(1, 2, 3, 'hello', 3.14)\n"
          ],
          "name": "stdout"
        }
      ]
    },
    {
      "cell_type": "markdown",
      "metadata": {
        "id": "YeyWa3w7gWaX"
      },
      "source": [
        "Append elements"
      ]
    },
    {
      "cell_type": "code",
      "metadata": {
        "colab": {
          "base_uri": "https://localhost:8080/"
        },
        "id": "j_dZJ7j6gYfj",
        "outputId": "91d50a8d-a8f7-4356-a594-1bd65194f3de"
      },
      "source": [
        "_tuple_ = _tuple_ + (1.6,'world',7,['tuples','element'])\r\n",
        "print(_tuple_)"
      ],
      "execution_count": 7,
      "outputs": [
        {
          "output_type": "stream",
          "text": [
            "(1, 2, 3, 'hello', 3.14, 1.6, 'world', 7, ['tuples', 'element'])\n"
          ],
          "name": "stdout"
        }
      ]
    },
    {
      "cell_type": "markdown",
      "metadata": {
        "id": "yg8nrHZbgsM8"
      },
      "source": [
        "Traversing through tuples"
      ]
    },
    {
      "cell_type": "code",
      "metadata": {
        "colab": {
          "base_uri": "https://localhost:8080/"
        },
        "id": "NuUIIjG4gxwg",
        "outputId": "79dc3b88-392d-4faa-a514-773368e281ad"
      },
      "source": [
        "print(_tuple_[4])\r\n",
        "print(_tuple_,'\\n', _tuple_[:])\r\n",
        "print(_tuple_[6][4])\r\n",
        "for itr in _tuple_:\r\n",
        "  print(itr)"
      ],
      "execution_count": 8,
      "outputs": [
        {
          "output_type": "stream",
          "text": [
            "3.14\n",
            "(1, 2, 3, 'hello', 3.14, 1.6, 'world', 7, ['tuples', 'element']) \n",
            " (1, 2, 3, 'hello', 3.14, 1.6, 'world', 7, ['tuples', 'element'])\n",
            "d\n",
            "1\n",
            "2\n",
            "3\n",
            "hello\n",
            "3.14\n",
            "1.6\n",
            "world\n",
            "7\n",
            "['tuples', 'element']\n"
          ],
          "name": "stdout"
        }
      ]
    },
    {
      "cell_type": "code",
      "metadata": {
        "colab": {
          "base_uri": "https://localhost:8080/"
        },
        "id": "xKOfWVaBh9Xp",
        "outputId": "2fd275de-70a4-470e-d876-f2f4b931173c"
      },
      "source": [
        "print(_tuple_.count('world'))\r\n",
        "print(_tuple_)\r\n",
        "print(_tuple_.index(1.6))"
      ],
      "execution_count": 9,
      "outputs": [
        {
          "output_type": "stream",
          "text": [
            "1\n",
            "(1, 2, 3, 'hello', 3.14, 1.6, 'world', 7, ['tuples', 'element'])\n",
            "5\n"
          ],
          "name": "stdout"
        }
      ]
    },
    {
      "cell_type": "markdown",
      "metadata": {
        "id": "mZxu7kH0kzFP"
      },
      "source": [
        "Delete elements"
      ]
    },
    {
      "cell_type": "code",
      "metadata": {
        "colab": {
          "base_uri": "https://localhost:8080/"
        },
        "id": "Pk_7YPwck5WX",
        "outputId": "b5e5ed2a-2587-40da-e7ba-6ab376c3b209"
      },
      "source": [
        "print(_tuple_)\r\n",
        "temp = list(_tuple_)\r\n",
        "temp.remove('world')\r\n",
        "_tuple_ = tuple(temp)\r\n",
        "print(_tuple_)\r\n",
        "temp.clear()\r\n",
        "_tuple_ = tuple(temp)\r\n",
        "print(_tuple_)"
      ],
      "execution_count": 10,
      "outputs": [
        {
          "output_type": "stream",
          "text": [
            "(1, 2, 3, 'hello', 3.14, 1.6, 'world', 7, ['tuples', 'element'])\n",
            "(1, 2, 3, 'hello', 3.14, 1.6, 7, ['tuples', 'element'])\n",
            "()\n"
          ],
          "name": "stdout"
        }
      ]
    },
    {
      "cell_type": "markdown",
      "metadata": {
        "id": "6a1DAM4Gljfb"
      },
      "source": [
        "**SET**"
      ]
    },
    {
      "cell_type": "markdown",
      "metadata": {
        "id": "KrjDni4il-9r"
      },
      "source": [
        "Create set"
      ]
    },
    {
      "cell_type": "code",
      "metadata": {
        "colab": {
          "base_uri": "https://localhost:8080/"
        },
        "id": "ePqkPXsXlgAn",
        "outputId": "ef9945fb-4574-491e-9c0f-d59f61fd999d"
      },
      "source": [
        "_set_ = {5,4,6,2,1,-1,2,3,4,5,0,0}\r\n",
        "print(_set_)"
      ],
      "execution_count": 11,
      "outputs": [
        {
          "output_type": "stream",
          "text": [
            "{0, 1, 2, 3, 4, 5, 6, -1}\n"
          ],
          "name": "stdout"
        }
      ]
    },
    {
      "cell_type": "markdown",
      "metadata": {
        "id": "HdVYme-ZmeDe"
      },
      "source": [
        "Add element"
      ]
    },
    {
      "cell_type": "code",
      "metadata": {
        "colab": {
          "base_uri": "https://localhost:8080/"
        },
        "id": "FZLUIyWJmjvM",
        "outputId": "4b2d2084-54c9-4c51-d266-df3aee50fa76"
      },
      "source": [
        "_set_.add(7)\r\n",
        "_set_.add(-9)\r\n",
        "print(_set_)"
      ],
      "execution_count": 12,
      "outputs": [
        {
          "output_type": "stream",
          "text": [
            "{0, 1, 2, 3, 4, 5, 6, 7, -9, -1}\n"
          ],
          "name": "stdout"
        }
      ]
    },
    {
      "cell_type": "markdown",
      "metadata": {
        "id": "1Gx1vYr3nPK3"
      },
      "source": [
        "Set operations"
      ]
    },
    {
      "cell_type": "code",
      "metadata": {
        "colab": {
          "base_uri": "https://localhost:8080/"
        },
        "id": "RRd_qlUvownh",
        "outputId": "5fd573cb-e5a2-4a0d-9f90-64bdd8851fe1"
      },
      "source": [
        "_set_2 = {-2,-3,-4,0}\r\n",
        "print(_set_ | _set_2) #union\r\n",
        "print(_set_ & _set_2) #intersection\r\n",
        "print(_set_ - _set_2) #difference\r\n",
        "print(_set_ ^ _set_2) #symmetric difference"
      ],
      "execution_count": 13,
      "outputs": [
        {
          "output_type": "stream",
          "text": [
            "{0, 1, 2, 3, 4, 5, 6, 7, -2, -9, -4, -3, -1}\n",
            "{0}\n",
            "{1, 2, 3, 4, 5, 6, 7, -9, -1}\n",
            "{1, 2, 3, 4, 5, 6, 7, -1, -9, -4, -3, -2}\n"
          ],
          "name": "stdout"
        }
      ]
    },
    {
      "cell_type": "markdown",
      "metadata": {
        "id": "-nc5E8XwqUkZ"
      },
      "source": [
        "Delete element"
      ]
    },
    {
      "cell_type": "code",
      "metadata": {
        "colab": {
          "base_uri": "https://localhost:8080/"
        },
        "id": "fLBENQOCqTtL",
        "outputId": "680eb127-5d18-45c0-b7a8-336af1a78230"
      },
      "source": [
        "_set_.remove(-9)\r\n",
        "print(_set_)\r\n",
        "_set_.clear()\r\n",
        "print(_set_)"
      ],
      "execution_count": 14,
      "outputs": [
        {
          "output_type": "stream",
          "text": [
            "{0, 1, 2, 3, 4, 5, 6, 7, -1}\n",
            "set()\n"
          ],
          "name": "stdout"
        }
      ]
    },
    {
      "cell_type": "markdown",
      "metadata": {
        "id": "MihmW9PGyisC"
      },
      "source": [
        "**DICTIONARY**"
      ]
    },
    {
      "cell_type": "markdown",
      "metadata": {
        "id": "pNmBNbCVytjZ"
      },
      "source": [
        "Creat Dictionary"
      ]
    },
    {
      "cell_type": "code",
      "metadata": {
        "colab": {
          "base_uri": "https://localhost:8080/"
        },
        "id": "reng30r9yxSy",
        "outputId": "1c3bd760-3ad4-43ae-97e7-774b7e11a452"
      },
      "source": [
        "_dic_ = {1:'a',2:'b',3:'c',4:'d'}\r\n",
        "print(_dic_)"
      ],
      "execution_count": 15,
      "outputs": [
        {
          "output_type": "stream",
          "text": [
            "{1: 'a', 2: 'b', 3: 'c', 4: 'd'}\n"
          ],
          "name": "stdout"
        }
      ]
    },
    {
      "cell_type": "markdown",
      "metadata": {
        "id": "pj8onKzKzzDg"
      },
      "source": [
        "Add key value pair"
      ]
    },
    {
      "cell_type": "code",
      "metadata": {
        "colab": {
          "base_uri": "https://localhost:8080/"
        },
        "id": "HedidHw2zvUo",
        "outputId": "f78caac8-936a-43e7-d017-a590ef059888"
      },
      "source": [
        "_dic_[5] = 'e'\r\n",
        "print(_dic_)"
      ],
      "execution_count": 16,
      "outputs": [
        {
          "output_type": "stream",
          "text": [
            "{1: 'a', 2: 'b', 3: 'c', 4: 'd', 5: 'e'}\n"
          ],
          "name": "stdout"
        }
      ]
    },
    {
      "cell_type": "markdown",
      "metadata": {
        "id": "zXsXILwP0DMV"
      },
      "source": [
        "Accessing elements"
      ]
    },
    {
      "cell_type": "code",
      "metadata": {
        "colab": {
          "base_uri": "https://localhost:8080/"
        },
        "id": "MvHIfema0MfK",
        "outputId": "8f02deb3-0304-4dad-dda1-546a7aaca755"
      },
      "source": [
        "print(_dic_.get(2))\r\n",
        "print(_dic_[4])\r\n"
      ],
      "execution_count": 17,
      "outputs": [
        {
          "output_type": "stream",
          "text": [
            "b\n",
            "d\n"
          ],
          "name": "stdout"
        }
      ]
    },
    {
      "cell_type": "markdown",
      "metadata": {
        "id": "FC0yAqjX0iK3"
      },
      "source": [
        "Other functions"
      ]
    },
    {
      "cell_type": "code",
      "metadata": {
        "colab": {
          "base_uri": "https://localhost:8080/"
        },
        "id": "Z7-fA46Q0ko2",
        "outputId": "53764989-2654-47f5-dc6f-356644f913f1"
      },
      "source": [
        "# print keys\r\n",
        "print(_dic_.keys())\r\n",
        "# print values\r\n",
        "print(_dic_.values())\r\n",
        "# print key-values\r\n",
        "print(_dic_.items())"
      ],
      "execution_count": 18,
      "outputs": [
        {
          "output_type": "stream",
          "text": [
            "dict_keys([1, 2, 3, 4, 5])\n",
            "dict_values(['a', 'b', 'c', 'd', 'e'])\n",
            "dict_items([(1, 'a'), (2, 'b'), (3, 'c'), (4, 'd'), (5, 'e')])\n"
          ],
          "name": "stdout"
        }
      ]
    },
    {
      "cell_type": "markdown",
      "metadata": {
        "id": "dP9mK8Ak1Iyx"
      },
      "source": [
        "Delete elements"
      ]
    },
    {
      "cell_type": "code",
      "metadata": {
        "colab": {
          "base_uri": "https://localhost:8080/",
          "height": 229
        },
        "id": "KrIhW2Es1K0o",
        "outputId": "1f2c8117-f0f2-4070-e6b7-4f8a296b167a"
      },
      "source": [
        "# delete value\r\n",
        "del _dic_[2]\r\n",
        "print(_dic_)\r\n",
        "# clear dictionary\r\n",
        "_dic_.clear()\r\n",
        "print(_dic_)\r\n",
        "# delete dictionary\r\n",
        "del _dic_\r\n",
        "print(_dic_)"
      ],
      "execution_count": 19,
      "outputs": [
        {
          "output_type": "stream",
          "text": [
            "{1: 'a', 3: 'c', 4: 'd', 5: 'e'}\n",
            "{}\n"
          ],
          "name": "stdout"
        },
        {
          "output_type": "error",
          "ename": "NameError",
          "evalue": "ignored",
          "traceback": [
            "\u001b[0;31m---------------------------------------------------------------------------\u001b[0m",
            "\u001b[0;31mNameError\u001b[0m                                 Traceback (most recent call last)",
            "\u001b[0;32m<ipython-input-19-2618d98c709a>\u001b[0m in \u001b[0;36m<module>\u001b[0;34m()\u001b[0m\n\u001b[1;32m      7\u001b[0m \u001b[0;31m# delete dictionary\u001b[0m\u001b[0;34m\u001b[0m\u001b[0;34m\u001b[0m\u001b[0;34m\u001b[0m\u001b[0m\n\u001b[1;32m      8\u001b[0m \u001b[0;32mdel\u001b[0m \u001b[0m_dic_\u001b[0m\u001b[0;34m\u001b[0m\u001b[0;34m\u001b[0m\u001b[0m\n\u001b[0;32m----> 9\u001b[0;31m \u001b[0mprint\u001b[0m\u001b[0;34m(\u001b[0m\u001b[0m_dic_\u001b[0m\u001b[0;34m)\u001b[0m\u001b[0;34m\u001b[0m\u001b[0;34m\u001b[0m\u001b[0m\n\u001b[0m",
            "\u001b[0;31mNameError\u001b[0m: name '_dic_' is not defined"
          ]
        }
      ]
    }
  ]
}